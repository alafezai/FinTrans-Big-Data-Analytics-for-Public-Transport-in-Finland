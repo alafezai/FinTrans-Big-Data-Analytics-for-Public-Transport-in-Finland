{
  "cells": [
    {
      "cell_type": "code",
      "execution_count": 24,
      "metadata": {
        "colab": {
          "base_uri": "https://localhost:8080/"
        },
        "id": "hQohvqkfdC0j",
        "outputId": "539485eb-d5f1-4083-b115-de1a4bf43a58"
      },
      "outputs": [
        {
          "name": "stdout",
          "output_type": "stream",
          "text": [
            "Drive already mounted at /content/drive; to attempt to forcibly remount, call drive.mount(\"/content/drive\", force_remount=True).\n"
          ]
        }
      ],
      "source": [
        "from google.colab import drive\n",
        "drive.mount('/content/drive')"
      ]
    },
    {
      "cell_type": "code",
      "execution_count": 25,
      "metadata": {
        "id": "YlIDt5eHe1iV"
      },
      "outputs": [],
      "source": [
        "from pyspark.sql import SparkSession\n",
        "spark = SparkSession.builder.master(\"local[*]\")\\\n",
        ".config(\"spark.jars.packages\", \"graphframes:graphframes:0.8.4-spark3.5-s_2.12\")\\\n",
        ".config(\"spark.executor.memory\", \"8G\")\\\n",
        ".config(\"spark.driver.memory\", \"2g\")\\\n",
        ".getOrCreate()"
      ]
    },
    {
      "cell_type": "code",
      "execution_count": 26,
      "metadata": {
        "colab": {
          "base_uri": "https://localhost:8080/"
        },
        "id": "AriUfxIhfQhN",
        "outputId": "e35ca425-b5c2-47e1-8492-ab1730383372"
      },
      "outputs": [
        {
          "name": "stdout",
          "output_type": "stream",
          "text": [
            "Requirement already satisfied: graphframes in /usr/local/lib/python3.11/dist-packages (0.6)\n",
            "Requirement already satisfied: numpy in /usr/local/lib/python3.11/dist-packages (from graphframes) (1.26.4)\n",
            "Requirement already satisfied: nose in /usr/local/lib/python3.11/dist-packages (from graphframes) (1.3.7)\n"
          ]
        }
      ],
      "source": [
        "! pip install graphframes"
      ]
    },
    {
      "cell_type": "code",
      "execution_count": 27,
      "metadata": {
        "id": "fItx45BxiKAC"
      },
      "outputs": [],
      "source": [
        "from pyspark.sql import SparkSession\n",
        "from pyspark.sql.functions import col\n",
        "from graphframes import GraphFrame\n",
        "from pyspark.sql.functions import col, when, unix_timestamp, hour"
      ]
    },
    {
      "cell_type": "code",
      "execution_count": 28,
      "metadata": {
        "id": "CqZ48kyMeAvo"
      },
      "outputs": [],
      "source": [
        "\n",
        "# Initialiser Spark\n",
        "spark = SparkSession.builder.appName(\"GTFSGraph\").getOrCreate()\n",
        "\n",
        "# Charger les fichiers CSV\n",
        "trip_updates = spark.read.csv(\"/content/drive/MyDrive/Colab Notebooks/BIg_Data/trip_updates.csv\", header=True, inferSchema=True)\n",
        "vehicle_positions = spark.read.csv(\"/content/drive/MyDrive/Colab Notebooks/BIg_Data/VP.csv\", header=True, inferSchema=True)\n"
      ]
    },
    {
      "cell_type": "code",
      "execution_count": 29,
      "metadata": {
        "colab": {
          "base_uri": "https://localhost:8080/"
        },
        "id": "FNowDUjdfdiC",
        "outputId": "377ed374-198e-4633-efa4-7963f247f3a7"
      },
      "outputs": [
        {
          "name": "stdout",
          "output_type": "stream",
          "text": [
            "root\n",
            " |-- trip_id: string (nullable = true)\n",
            " |-- route_id: string (nullable = true)\n",
            " |-- start_date: integer (nullable = true)\n",
            " |-- start_time: timestamp (nullable = true)\n",
            " |-- direction_id: integer (nullable = true)\n",
            " |-- vehicle_id: string (nullable = true)\n",
            " |-- stop_id: integer (nullable = true)\n",
            " |-- arrival_time: timestamp (nullable = true)\n",
            " |-- departure_time: timestamp (nullable = true)\n",
            "\n"
          ]
        }
      ],
      "source": [
        "trip_updates.printSchema()"
      ]
    },
    {
      "cell_type": "code",
      "execution_count": 30,
      "metadata": {
        "colab": {
          "base_uri": "https://localhost:8080/"
        },
        "id": "HxOPsD24fhv7",
        "outputId": "63a5258f-f447-42fe-c4bb-06ef4506f000"
      },
      "outputs": [
        {
          "name": "stdout",
          "output_type": "stream",
          "text": [
            "root\n",
            " |-- vehicle_type: string (nullable = true)\n",
            " |-- nextStop: integer (nullable = true)\n",
            " |-- desi: string (nullable = true)\n",
            " |-- dir: integer (nullable = true)\n",
            " |-- oper: integer (nullable = true)\n",
            " |-- veh: integer (nullable = true)\n",
            " |-- tst: timestamp (nullable = true)\n",
            " |-- tsi: integer (nullable = true)\n",
            " |-- spd: double (nullable = true)\n",
            " |-- hdg: integer (nullable = true)\n",
            " |-- lat: double (nullable = true)\n",
            " |-- long: double (nullable = true)\n",
            " |-- acc: double (nullable = true)\n",
            " |-- dl: integer (nullable = true)\n",
            " |-- odo: integer (nullable = true)\n",
            " |-- drst: integer (nullable = true)\n",
            " |-- oday: date (nullable = true)\n",
            " |-- jrn: integer (nullable = true)\n",
            " |-- line: integer (nullable = true)\n",
            " |-- start: timestamp (nullable = true)\n",
            " |-- loc: string (nullable = true)\n",
            " |-- stop: integer (nullable = true)\n",
            " |-- route: string (nullable = true)\n",
            " |-- occu: integer (nullable = true)\n",
            "\n"
          ]
        }
      ],
      "source": [
        "vehicle_positions.printSchema()"
      ]
    },
    {
      "cell_type": "markdown",
      "metadata": {
        "id": "_c5HBr_diUzR"
      },
      "source": [
        "# Calcul des Retards des Véhicules"
      ]
    },
    {
      "cell_type": "markdown",
      "metadata": {
        "id": "oYd91W5wiXrT"
      },
      "source": [
        "## Retard basé sur trip_updates"
      ]
    },
    {
      "cell_type": "code",
      "execution_count": 31,
      "metadata": {
        "colab": {
          "base_uri": "https://localhost:8080/"
        },
        "id": "Rb-TFmgaiMI8",
        "outputId": "03dbe911-80dd-4fbb-c4a8-06faf700ff29"
      },
      "outputs": [
        {
          "name": "stdout",
          "output_type": "stream",
          "text": [
            "+--------------------+--------+-------+--------+--------------+\n",
            "|             trip_id|route_id|stop_id|   delay|delay_category|\n",
            "+--------------------+--------+-------+--------+--------------+\n",
            "|2124_20250116_11:...|    2124|2411217|-1303088|        Avance|\n",
            "|2124_20250116_11:...|    2124|2411259|-1303062|        Avance|\n",
            "|2124_20250116_11:...|    2124|2443228|-1302951|        Avance|\n",
            "|2124_20250116_11:...|    2124|2411225|-1302878|        Avance|\n",
            "|2124_20250116_11:...|    2124|2432231|-1302747|        Avance|\n",
            "|2124_20250116_11:...|    2124|2434229|-1302727|        Avance|\n",
            "|2124_20250116_11:...|    2124|2434227|-1302666|        Avance|\n",
            "|2124_20250116_11:...|    2124|2432226|-1302630|        Avance|\n",
            "|2124_20250116_11:...|    2124|2432224|-1302582|        Avance|\n",
            "|2124_20250116_11:...|    2124|2432222|-1302514|        Avance|\n",
            "|2124_20250116_11:...|    2124|2432219|-1302452|        Avance|\n",
            "|2124_20250116_11:...|    2124|2432217|-1302384|        Avance|\n",
            "|2124_20250116_11:...|    2124|2321222|-1302300|        Avance|\n",
            "|2124_20250116_11:...|    2124|2321212|-1302174|        Avance|\n",
            "|2124_20250116_11:...|    2124|2321213|-1302150|        Avance|\n",
            "|2124_20250116_11:...|    2124|2323247|-1302067|        Avance|\n",
            "|2124_20250116_11:...|    2124|2323251|-1301976|        Avance|\n",
            "|2124_20250116_11:...|    2124|2323253|-1301927|        Avance|\n",
            "|2124_20250116_11:...|    2124|2323209|-1301784|        Avance|\n",
            "|2124_20250116_11:...|    2124|2322206|-1301756|        Avance|\n",
            "+--------------------+--------+-------+--------+--------------+\n",
            "only showing top 20 rows\n",
            "\n"
          ]
        }
      ],
      "source": [
        "trip_updates = trip_updates.withColumn(\n",
        "    \"delay\", (unix_timestamp(\"arrival_time\") - unix_timestamp(\"start_time\"))\n",
        ")\n",
        "\n",
        "trip_updates = trip_updates.withColumn(\n",
        "    \"delay_category\",\n",
        "    when(col(\"delay\") < -60, \"Avance\")\n",
        "    .when(col(\"delay\") > 300, \"Retard\")\n",
        "    .otherwise(\"À l'heure\")\n",
        ")\n",
        "\n",
        "trip_updates.select(\"trip_id\", \"route_id\", \"stop_id\", \"delay\", \"delay_category\").show()\n"
      ]
    },
    {
      "cell_type": "markdown",
      "metadata": {
        "id": "oGqJd8EWigXE"
      },
      "source": [
        "##  Retard basé sur vehicle_positions"
      ]
    },
    {
      "cell_type": "code",
      "execution_count": 32,
      "metadata": {
        "colab": {
          "base_uri": "https://localhost:8080/"
        },
        "id": "0IZ5CfyziQH7",
        "outputId": "617dcc22-234d-4ceb-9447-e7174d1e60e8"
      },
      "outputs": [
        {
          "name": "stdout",
          "output_type": "stream",
          "text": [
            "+----+-----+------+--------------+\n",
            "| veh|route|    dl|delay_category|\n",
            "+----+-----+------+--------------+\n",
            "| 139| 31M1|  NULL|     À l'heure|\n",
            "| 971| 1053|     0|     À l'heure|\n",
            "| 693| 4522|   -17|     À l'heure|\n",
            "|1437| 1057|   -60|     À l'heure|\n",
            "|1020|3002A|   -53|     À l'heure|\n",
            "|2208| 4570|  -231|        Avance|\n",
            "|  71| 1002|    74|     À l'heure|\n",
            "| 100| 6919|-22023|        Avance|\n",
            "| 211| 9641|   -47|     À l'heure|\n",
            "| 432| 1006|   -60|     À l'heure|\n",
            "| 821| 1813|  -119|        Avance|\n",
            "|  34| 1054|    55|     À l'heure|\n",
            "|1602| 4721|   -60|     À l'heure|\n",
            "| 455| 1008|     0|     À l'heure|\n",
            "|1022|3001I|     0|     À l'heure|\n",
            "|1022|3001I|     0|     À l'heure|\n",
            "|1276| 1040|  -539|        Avance|\n",
            "|1243| 1020|  -180|        Avance|\n",
            "| 444| 1055|    59|     À l'heure|\n",
            "|  62| 1073|  -110|        Avance|\n",
            "+----+-----+------+--------------+\n",
            "only showing top 20 rows\n",
            "\n"
          ]
        }
      ],
      "source": [
        "vehicle_positions = vehicle_positions.withColumn(\n",
        "    \"delay_category\",\n",
        "    when(col(\"dl\") < -60, \"Avance\")\n",
        "    .when(col(\"dl\") > 300, \"Retard\")\n",
        "    .otherwise(\"À l'heure\")\n",
        ")\n",
        "\n",
        "vehicle_positions.select(\"veh\", \"route\", \"dl\", \"delay_category\").show()\n"
      ]
    },
    {
      "cell_type": "code",
      "execution_count": 33,
      "metadata": {
        "colab": {
          "base_uri": "https://localhost:8080/"
        },
        "id": "dO6TUwzaikUB",
        "outputId": "1b8b668c-13a6-4bc2-dca9-01bdf1d5fae3"
      },
      "outputs": [
        {
          "name": "stdout",
          "output_type": "stream",
          "text": [
            "+--------+-------------------+\n",
            "|route_id|         avg(delay)|\n",
            "+--------+-------------------+\n",
            "|  2349BK|         -1303358.0|\n",
            "|    4588|         -1303357.0|\n",
            "|    9665|         -1303330.0|\n",
            "|   2166K|         -1303281.0|\n",
            "|    4434|-1303153.6666666667|\n",
            "|    1096|-1303109.3333333333|\n",
            "|    9976|-1302970.1818181819|\n",
            "|    1098|-1302960.4545454546|\n",
            "|   1022B|         -1302952.5|\n",
            "|    1089|-1302938.8181818181|\n",
            "|    1813|      -1302914.1875|\n",
            "|    1033|-1302908.7333333334|\n",
            "|    1090|-1302887.4166666667|\n",
            "|    4734|-1302882.6818181819|\n",
            "|   4522B|-1302867.7307692308|\n",
            "|    2166|        -1302837.25|\n",
            "|    1814|        -1302828.75|\n",
            "|    1816|-1302826.7272727273|\n",
            "|    2203|-1302814.1666666667|\n",
            "|    9978|         -1302810.6|\n",
            "+--------+-------------------+\n",
            "only showing top 20 rows\n",
            "\n"
          ]
        }
      ],
      "source": [
        "trip_updates.groupBy(\"route_id\").agg({\"delay\": \"avg\"}).orderBy(\"avg(delay)\", ascending=True).show()\n"
      ]
    },
    {
      "cell_type": "code",
      "execution_count": 34,
      "metadata": {
        "colab": {
          "base_uri": "https://localhost:8080/"
        },
        "id": "dbGOXMxyiw6K",
        "outputId": "41e1a1f7-6ce4-4540-e27a-9d59b58b47c5"
      },
      "outputs": [
        {
          "name": "stdout",
          "output_type": "stream",
          "text": [
            "+-------+----------+\n",
            "|stop_id|avg(delay)|\n",
            "+-------+----------+\n",
            "|1492123|-1298637.0|\n",
            "|1452103|-1298647.0|\n",
            "|1492121|-1298659.0|\n",
            "|1455111|-1298953.0|\n",
            "|1140125|-1299016.8|\n",
            "+-------+----------+\n",
            "only showing top 5 rows\n",
            "\n"
          ]
        }
      ],
      "source": [
        "trip_updates.groupBy(\"stop_id\").agg({\"delay\": \"avg\"}).orderBy(\"avg(delay)\", ascending=False).show(5)\n"
      ]
    },
    {
      "cell_type": "code",
      "execution_count": 35,
      "metadata": {
        "colab": {
          "base_uri": "https://localhost:8080/"
        },
        "id": "XbdOyzCojUyR",
        "outputId": "733e47ae-eb95-4123-d28e-285aa89701d6"
      },
      "outputs": [
        {
          "name": "stdout",
          "output_type": "stream",
          "text": [
            "+------------------------+-------+-------------------+-------------------+\n",
            "|trip_id                 |stop_id|start_time         |arrival_time       |\n",
            "+------------------------+-------+-------------------+-------------------+\n",
            "|2124_20250116_11:21:00_1|2411217|2025-01-31 11:21:00|2025-01-16 09:22:52|\n",
            "|2124_20250116_11:21:00_1|2411259|2025-01-31 11:21:00|2025-01-16 09:23:18|\n",
            "|2124_20250116_11:21:00_1|2443228|2025-01-31 11:21:00|2025-01-16 09:25:09|\n",
            "|2124_20250116_11:21:00_1|2411225|2025-01-31 11:21:00|2025-01-16 09:26:22|\n",
            "|2124_20250116_11:21:00_1|2432231|2025-01-31 11:21:00|2025-01-16 09:28:33|\n",
            "|2124_20250116_11:21:00_1|2434229|2025-01-31 11:21:00|2025-01-16 09:28:53|\n",
            "|2124_20250116_11:21:00_1|2434227|2025-01-31 11:21:00|2025-01-16 09:29:54|\n",
            "|2124_20250116_11:21:00_1|2432226|2025-01-31 11:21:00|2025-01-16 09:30:30|\n",
            "|2124_20250116_11:21:00_1|2432224|2025-01-31 11:21:00|2025-01-16 09:31:18|\n",
            "|2124_20250116_11:21:00_1|2432222|2025-01-31 11:21:00|2025-01-16 09:32:26|\n",
            "+------------------------+-------+-------------------+-------------------+\n",
            "only showing top 10 rows\n",
            "\n"
          ]
        }
      ],
      "source": [
        "trip_updates.select(\"trip_id\", \"stop_id\", \"start_time\", \"arrival_time\").show(10, False)\n"
      ]
    },
    {
      "cell_type": "code",
      "execution_count": 36,
      "metadata": {
        "colab": {
          "base_uri": "https://localhost:8080/"
        },
        "id": "1z3cvUNakEkI",
        "outputId": "236fbc2c-bf65-40ce-f8f9-e176b6ad1471"
      },
      "outputs": [
        {
          "name": "stdout",
          "output_type": "stream",
          "text": [
            "+----+-------------------+\n",
            "|hour|         avg(delay)|\n",
            "+----+-------------------+\n",
            "|   8| -1302943.637735849|\n",
            "|   9|-1302084.2437155603|\n",
            "|  10|-1301032.9117833185|\n",
            "|  11|         -1300020.0|\n",
            "+----+-------------------+\n",
            "\n"
          ]
        }
      ],
      "source": [
        "trip_updates = trip_updates.withColumn(\"hour\", hour(col(\"arrival_time\")))\n",
        "\n",
        "trip_updates.groupBy(\"hour\").agg({\"delay\": \"avg\"}).orderBy(\"hour\").show()\n"
      ]
    },
    {
      "cell_type": "code",
      "execution_count": 37,
      "metadata": {
        "colab": {
          "base_uri": "https://localhost:8080/",
          "height": 488
        },
        "id": "s9udc2zekLDB",
        "outputId": "1fa37463-045c-400e-f03c-064b4e3d6d1f"
      },
      "outputs": [
        {
          "data": {
            "image/png": "[encoded data removed]",
            "text/plain": [
              "<Figure size 1000x500 with 1 Axes>"
            ]
          },
          "metadata": {},
          "output_type": "display_data"
        }
      ],
      "source": [
        "import pandas as pd\n",
        "import matplotlib.pyplot as plt\n",
        "\n",
        "df = trip_updates.groupBy(\"hour\").agg({\"delay\": \"avg\"}).toPandas()\n",
        "\n",
        "plt.figure(figsize=(10,5))\n",
        "plt.plot(df[\"hour\"], df[\"avg(delay)\"], marker=\"o\")\n",
        "plt.xlabel(\"Heure de la journée\")\n",
        "plt.ylabel(\"Retard moyen (secondes)\")\n",
        "plt.title(\"Variation des retards des véhicules par heure\")\n",
        "plt.grid()\n",
        "plt.show()\n"
      ]
    },
    {
      "cell_type": "markdown",
      "metadata": {
        "id": "2P2jdmE2k9GS"
      },
      "source": [
        "\n",
        "\n",
        " Choix des Sommets et Arêtes\n",
        "Sommets (nœuds) :\n",
        "\n",
        "stop_id (arrêts de bus)\n",
        "\n",
        "vehicle_id (véhicules)\n",
        "\n",
        "trip_id (trajets)\n",
        "\n",
        "Arêtes (relations) :\n",
        "\n",
        "(stop_id) --[utilisé par]--> (trip_id)\n",
        "\n",
        "(trip_id) --[assigné à]--> (vehicle_id)\n",
        "\n",
        "(stop_id) --[suivi de]--> (stop_id suivant)"
      ]
    },
    {
      "cell_type": "code",
      "execution_count": 38,
      "metadata": {
        "colab": {
          "base_uri": "https://localhost:8080/"
        },
        "id": "EnVQz-WGlTn-",
        "outputId": "914a0c66-b034-4c3d-ed22-dbfc7ddbd442"
      },
      "outputs": [
        {
          "name": "stdout",
          "output_type": "stream",
          "text": [
            "Collecting Pyvis\n",
            "  Downloading pyvis-0.3.2-py3-none-any.whl.metadata (1.7 kB)\n",
            "Requirement already satisfied: ipython>=5.3.0 in /usr/local/lib/python3.11/dist-packages (from Pyvis) (7.34.0)\n",
            "Requirement already satisfied: jinja2>=2.9.6 in /usr/local/lib/python3.11/dist-packages (from Pyvis) (3.1.5)\n",
            "Requirement already satisfied: jsonpickle>=1.4.1 in /usr/local/lib/python3.11/dist-packages (from Pyvis) (4.0.1)\n",
            "Requirement already satisfied: networkx>=1.11 in /usr/local/lib/python3.11/dist-packages (from Pyvis) (3.4.2)\n",
            "Requirement already satisfied: setuptools>=18.5 in /usr/local/lib/python3.11/dist-packages (from ipython>=5.3.0->Pyvis) (75.1.0)\n",
            "Collecting jedi>=0.16 (from ipython>=5.3.0->Pyvis)\n",
            "  Downloading jedi-0.19.2-py2.py3-none-any.whl.metadata (22 kB)\n",
            "Requirement already satisfied: decorator in /usr/local/lib/python3.11/dist-packages (from ipython>=5.3.0->Pyvis) (4.4.2)\n",
            "Requirement already satisfied: pickleshare in /usr/local/lib/python3.11/dist-packages (from ipython>=5.3.0->Pyvis) (0.7.5)\n",
            "Requirement already satisfied: traitlets>=4.2 in /usr/local/lib/python3.11/dist-packages (from ipython>=5.3.0->Pyvis) (5.7.1)\n",
            "Requirement already satisfied: prompt-toolkit!=3.0.0,!=3.0.1,<3.1.0,>=2.0.0 in /usr/local/lib/python3.11/dist-packages (from ipython>=5.3.0->Pyvis) (3.0.50)\n",
            "Requirement already satisfied: pygments in /usr/local/lib/python3.11/dist-packages (from ipython>=5.3.0->Pyvis) (2.18.0)\n",
            "Requirement already satisfied: backcall in /usr/local/lib/python3.11/dist-packages (from ipython>=5.3.0->Pyvis) (0.2.0)\n",
            "Requirement already satisfied: matplotlib-inline in /usr/local/lib/python3.11/dist-packages (from ipython>=5.3.0->Pyvis) (0.1.7)\n",
            "Requirement already satisfied: pexpect>4.3 in /usr/local/lib/python3.11/dist-packages (from ipython>=5.3.0->Pyvis) (4.9.0)\n",
            "Requirement already satisfied: MarkupSafe>=2.0 in /usr/local/lib/python3.11/dist-packages (from jinja2>=2.9.6->Pyvis) (3.0.2)\n",
            "Requirement already satisfied: parso<0.9.0,>=0.8.4 in /usr/local/lib/python3.11/dist-packages (from jedi>=0.16->ipython>=5.3.0->Pyvis) (0.8.4)\n",
            "Requirement already satisfied: ptyprocess>=0.5 in /usr/local/lib/python3.11/dist-packages (from pexpect>4.3->ipython>=5.3.0->Pyvis) (0.7.0)\n",
            "Requirement already satisfied: wcwidth in /usr/local/lib/python3.11/dist-packages (from prompt-toolkit!=3.0.0,!=3.0.1,<3.1.0,>=2.0.0->ipython>=5.3.0->Pyvis) (0.2.13)\n",
            "Downloading pyvis-0.3.2-py3-none-any.whl (756 kB)\n",
            "\u001b[2K   \u001b[90m━━━━━━━━━━━━━━━━━━━━━━━━━━━━━━━━━━━━━━━━\u001b[0m \u001b[32m756.0/756.0 kB\u001b[0m \u001b[31m37.9 MB/s\u001b[0m eta \u001b[36m0:00:00\u001b[0m\n",
            "\u001b[?25hDownloading jedi-0.19.2-py2.py3-none-any.whl (1.6 MB)\n",
            "\u001b[2K   \u001b[90m━━━━━━━━━━━━━━━━━━━━━━━━━━━━━━━━━━━━━━━━\u001b[0m \u001b[32m1.6/1.6 MB\u001b[0m \u001b[31m62.7 MB/s\u001b[0m eta \u001b[36m0:00:00\u001b[0m\n",
            "\u001b[?25hInstalling collected packages: jedi, Pyvis\n",
            "Successfully installed Pyvis-0.3.2 jedi-0.19.2\n"
          ]
        }
      ],
      "source": [
        "! pip  install Pyvis"
      ]
    },
    {
      "cell_type": "code",
      "execution_count": 40,
      "metadata": {
        "colab": {
          "base_uri": "https://localhost:8080/",
          "height": 789
        },
        "id": "GbTmMTQylm0H",
        "outputId": "bab4ccda-b09f-4d3f-eb5d-ff5fd4290aa3"
      },
      "outputs": [
        {
          "name": "stdout",
          "output_type": "stream",
          "text": [
            "gtfs_graph.html\n"
          ]
        },
        {
          "data": {
            "text/html": [
              "\n",
              "        <iframe\n",
              "            width=\"100%\"\n",
              "            height=\"750px\"\n",
              "            src=\"gtfs_graph.html\"\n",
              "            frameborder=\"0\"\n",
              "            allowfullscreen\n",
              "            \n",
              "        ></iframe>\n",
              "        "
            ],
            "text/plain": [
              "<IPython.lib.display.IFrame at 0x7b252aff7850>"
            ]
          },
          "execution_count": 40,
          "metadata": {},
          "output_type": "execute_result"
        }
      ],
      "source": [
        "import networkx as nx\n",
        "from pyvis.network import Network\n",
        "import pandas as pd\n",
        "\n",
        "# Convertir Spark DataFrame en Pandas\n",
        "trip_updates_df = trip_updates.select(\"trip_id\", \"route_id\", \"stop_id\", \"vehicle_id\").toPandas()\n",
        "vehicle_positions_df = vehicle_positions.select(\"veh\", \"route\", \"stop\", \"dl\").toPandas()\n",
        "\n",
        "# Créer un graphe dirigé\n",
        "G = nx.DiGraph()\n",
        "\n",
        "# Ajouter les arrêts comme nœuds (Convertir en str)\n",
        "for stop in trip_updates_df[\"stop_id\"].dropna().unique():\n",
        "    G.add_node(str(stop), label=f\"Stop {stop}\", color=\"blue\", size=10)\n",
        "\n",
        "# Ajouter les véhicules comme nœuds (Convertir en str)\n",
        "for veh in vehicle_positions_df[\"veh\"].dropna().unique():\n",
        "    G.add_node(str(veh), label=f\"Veh {veh}\", color=\"red\", size=15)\n",
        "\n",
        "# Ajouter les trajets comme nœuds (Convertir en str)\n",
        "for trip in trip_updates_df[\"trip_id\"].dropna().unique():\n",
        "    G.add_node(str(trip), label=f\"Trip {trip}\", color=\"green\", size=12)\n",
        "\n",
        "# Ajouter les arêtes entre stop_id et trip_id (Convertir en str)\n",
        "for _, row in trip_updates_df.iterrows():\n",
        "    if pd.notna(row[\"stop_id\"]) and pd.notna(row[\"trip_id\"]):\n",
        "        G.add_edge(str(row[\"stop_id\"]), str(row[\"trip_id\"]), label=\"utilisé par\", color=\"gray\")\n",
        "\n",
        "# Ajouter les arêtes entre trip_id et vehicle_id (Convertir en str)\n",
        "for _, row in trip_updates_df.iterrows():\n",
        "    if pd.notna(row[\"trip_id\"]) and pd.notna(row[\"vehicle_id\"]):\n",
        "        G.add_edge(str(row[\"trip_id\"]), str(row[\"vehicle_id\"]), label=\"assigné à\", color=\"black\")\n",
        "\n",
        "# Ajouter les arêtes entre stops successifs (Convertir en str)\n",
        "stop_sequences = trip_updates_df.groupby(\"trip_id\")[\"stop_id\"].apply(list).to_dict()\n",
        "for trip, stops in stop_sequences.items():\n",
        "    for i in range(len(stops) - 1):\n",
        "        if pd.notna(stops[i]) and pd.notna(stops[i + 1]):\n",
        "            G.add_edge(str(stops[i]), str(stops[i + 1]), label=\"suivi de\", color=\"gray\")\n",
        "\n",
        "# Ajouter les retards aux véhicules (Convertir en str)\n",
        "for _, row in vehicle_positions_df.iterrows():\n",
        "    if pd.notna(row[\"stop\"]) and pd.notna(row[\"veh\"]) and pd.notna(row[\"dl\"]):\n",
        "        delay = row[\"dl\"]\n",
        "        color = \"green\" if delay < 0 else \"red\" if delay > 300 else \"orange\"\n",
        "        G.add_edge(str(row[\"stop\"]), str(row[\"veh\"]), label=f\"Retard: {delay}s\", color=color)\n",
        "\n",
        "# Créer une visualisation interactive avec Pyvis\n",
        "net = Network(notebook=True, height=\"750px\", width=\"100%\", directed=True, cdn_resources=\"in_line\")\n",
        "net.from_nx(G)\n",
        "\n",
        "# Sauvegarder en HTML et afficher\n",
        "net.show(\"gtfs_graph.html\")\n"
      ]
    },
    {
      "cell_type": "code",
      "execution_count": 43,
      "metadata": {
        "colab": {
          "base_uri": "https://localhost:8080/",
          "height": 789
        },
        "id": "Q5Q8bhMvmn8u",
        "outputId": "511a79f4-6b23-4214-bd7c-4ec266b6ec4a"
      },
      "outputs": [
        {
          "name": "stdout",
          "output_type": "stream",
          "text": [
            "gtfs.html\n"
          ]
        },
        {
          "data": {
            "text/html": [
              "\n",
              "        <iframe\n",
              "            width=\"100%\"\n",
              "            height=\"750px\"\n",
              "            src=\"gtfs.html\"\n",
              "            frameborder=\"0\"\n",
              "            allowfullscreen\n",
              "            \n",
              "        ></iframe>\n",
              "        "
            ],
            "text/plain": [
              "<IPython.lib.display.IFrame at 0x7b252901a4d0>"
            ]
          },
          "execution_count": 43,
          "metadata": {},
          "output_type": "execute_result"
        }
      ],
      "source": [
        "import networkx as nx\n",
        "from pyvis.network import Network\n",
        "import pandas as pd\n",
        "\n",
        "# Convertir Spark DataFrame en Pandas\n",
        "trip_updates_df = trip_updates.select(\"trip_id\", \"route_id\", \"stop_id\", \"vehicle_id\").toPandas()\n",
        "vehicle_positions_df = vehicle_positions.select(\"veh\", \"route\", \"stop\", \"dl\").toPandas()\n",
        "\n",
        "# 🔹 Sélectionner un SOUS-ENSEMBLE des trajets et véhicules\n",
        "subset_trips = trip_updates_df[\"trip_id\"].dropna().unique()[:10]  # 10 trajets\n",
        "subset_stops = trip_updates_df[\"stop_id\"].dropna().unique()[:20]  # 20 arrêts\n",
        "subset_vehicles = vehicle_positions_df[\"veh\"].dropna().unique()[:5]  # 5 véhicules\n",
        "\n",
        "# Créer un graphe dirigé\n",
        "G = nx.DiGraph()\n",
        "\n",
        "# Ajouter les arrêts sélectionnés comme nœuds\n",
        "for stop in subset_stops:\n",
        "    G.add_node(str(stop), label=f\"Stop {stop}\", color=\"blue\", size=10)\n",
        "\n",
        "# Ajouter les véhicules sélectionnés comme nœuds\n",
        "for veh in subset_vehicles:\n",
        "    G.add_node(str(veh), label=f\"Veh {veh}\", color=\"red\", size=15)\n",
        "\n",
        "# Ajouter les trajets sélectionnés comme nœuds\n",
        "for trip in subset_trips:\n",
        "    G.add_node(str(trip), label=f\"Trip {trip}\", color=\"green\", size=12)\n",
        "\n",
        "# Ajouter les arêtes pour les trajets sélectionnés\n",
        "filtered_trip_updates = trip_updates_df[trip_updates_df[\"trip_id\"].isin(subset_trips)]\n",
        "for _, row in filtered_trip_updates.iterrows():\n",
        "    if pd.notna(row[\"stop_id\"]) and pd.notna(row[\"trip_id\"]):\n",
        "        G.add_edge(str(row[\"stop_id\"]), str(row[\"trip_id\"]), label=\"utilisé par\", color=\"gray\")\n",
        "\n",
        "    if pd.notna(row[\"trip_id\"]) and pd.notna(row[\"vehicle_id\"]):\n",
        "        G.add_edge(str(row[\"trip_id\"]), str(row[\"vehicle_id\"]), label=\"assigné à\", color=\"black\")\n",
        "\n",
        "# Ajouter les arêtes pour les véhicules sélectionnés\n",
        "filtered_vehicle_positions = vehicle_positions_df[vehicle_positions_df[\"veh\"].isin(subset_vehicles)]\n",
        "for _, row in filtered_vehicle_positions.iterrows():\n",
        "    if pd.notna(row[\"stop\"]) and pd.notna(row[\"veh\"]) and pd.notna(row[\"dl\"]):\n",
        "        delay = row[\"dl\"]\n",
        "        color = \"green\" if delay < 0 else \"red\" if delay > 300 else \"orange\"\n",
        "        G.add_edge(str(row[\"stop\"]), str(row[\"veh\"]), label=f\"Retard: {delay}s\", color=color)\n",
        "\n",
        "# Créer une visualisation interactive avec Pyvis\n",
        "net = Network(notebook=True, height=\"750px\", width=\"100%\", directed=True, cdn_resources=\"in_line\")\n",
        "net.from_nx(G)\n",
        "\n",
        "# Sauvegarder en HTML et afficher\n",
        "net.show(\"gtfs.html\")\n"
      ]
    },
    {
      "cell_type": "code",
      "execution_count": 44,
      "metadata": {
        "colab": {
          "base_uri": "https://localhost:8080/",
          "height": 789
        },
        "id": "DgJ_aKbmngNW",
        "outputId": "c90f0de7-3095-4e55-bdc7-d244e6f5aeb4"
      },
      "outputs": [
        {
          "name": "stdout",
          "output_type": "stream",
          "text": [
            "graph.html\n"
          ]
        },
        {
          "data": {
            "text/html": [
              "\n",
              "        <iframe\n",
              "            width=\"100%\"\n",
              "            height=\"750px\"\n",
              "            src=\"graph.html\"\n",
              "            frameborder=\"0\"\n",
              "            allowfullscreen\n",
              "            \n",
              "        ></iframe>\n",
              "        "
            ],
            "text/plain": [
              "<IPython.lib.display.IFrame at 0x7b252b043c10>"
            ]
          },
          "execution_count": 44,
          "metadata": {},
          "output_type": "execute_result"
        }
      ],
      "source": [
        "import networkx as nx\n",
        "from pyvis.network import Network\n",
        "import pandas as pd\n",
        "\n",
        "# Charger les données\n",
        "trip_updates_df = trip_updates.select(\"trip_id\", \"route_id\", \"stop_id\", \"vehicle_id\").toPandas()\n",
        "vehicle_positions_df = vehicle_positions.select(\"veh\", \"route\", \"stop\").toPandas()\n",
        "\n",
        "# Créer un graphe dirigé\n",
        "G = nx.DiGraph()\n",
        "\n",
        "# Ajouter les arrêts comme nœuds (convertis en str)\n",
        "for stop in trip_updates_df[\"stop_id\"].dropna().unique():\n",
        "    G.add_node(str(stop), label=f\"Stop {stop}\", color=\"blue\", size=10)\n",
        "\n",
        "# Ajouter les véhicules comme nœuds (convertis en str)\n",
        "for veh in vehicle_positions_df[\"veh\"].dropna().unique():\n",
        "    G.add_node(str(veh), label=f\"Veh {veh}\", color=\"red\", size=15)\n",
        "\n",
        "# Ajouter les trajets comme nœuds (convertis en str)\n",
        "for trip in trip_updates_df[\"trip_id\"].dropna().unique():\n",
        "    G.add_node(str(trip), label=f\"Trip {trip}\", color=\"green\", size=12)\n",
        "\n",
        "# Ajouter les arêtes entre stop_id et trip_id\n",
        "for _, row in trip_updates_df.iterrows():\n",
        "    if pd.notna(row[\"stop_id\"]) and pd.notna(row[\"trip_id\"]):\n",
        "        G.add_edge(str(row[\"stop_id\"]), str(row[\"trip_id\"]), label=\"utilisé par\")\n",
        "\n",
        "# Ajouter les arêtes entre trip_id et vehicle_id\n",
        "for _, row in trip_updates_df.iterrows():\n",
        "    if pd.notna(row[\"trip_id\"]) and pd.notna(row[\"vehicle_id\"]):\n",
        "        G.add_edge(str(row[\"trip_id\"]), str(row[\"vehicle_id\"]), label=\"assigné à\")\n",
        "\n",
        "# Ajouter les arêtes entre stops successifs (convertis en str)\n",
        "stop_sequences = trip_updates_df.groupby(\"trip_id\")[\"stop_id\"].apply(list).to_dict()\n",
        "for trip, stops in stop_sequences.items():\n",
        "    stops = [str(stop) for stop in stops if pd.notna(stop)]  # Convertir en str et ignorer les NaN\n",
        "    for i in range(len(stops) - 1):\n",
        "        G.add_edge(stops[i], stops[i + 1], label=\"suivi de\", color=\"gray\")\n",
        "\n",
        "# Créer une visualisation interactive avec Pyvis\n",
        "net = Network(notebook=True, height=\"750px\", width=\"100%\", directed=True, cdn_resources=\"in_line\")\n",
        "net.from_nx(G)\n",
        "\n",
        "# Sauvegarder et afficher\n",
        "net.show(\"graph.html\")\n"
      ]
    },
    {
      "cell_type": "markdown",
      "metadata": {
        "id": "6WGTKV49oQ7F"
      },
      "source": [
        " ## Filtrer les données pour un seul trajet\n",
        "\n",
        "```\n",
        "\n",
        "```\n",
        "\n"
      ]
    },
    {
      "cell_type": "code",
      "execution_count": 45,
      "metadata": {
        "colab": {
          "base_uri": "https://localhost:8080/",
          "height": 789
        },
        "id": "AhDKvKiUoBNd",
        "outputId": "4e5cecd2-22bc-47ca-eb93-5a4094f88629"
      },
      "outputs": [
        {
          "name": "stdout",
          "output_type": "stream",
          "text": [
            "gtfs_trip_graph.html\n"
          ]
        },
        {
          "data": {
            "text/html": [
              "\n",
              "        <iframe\n",
              "            width=\"100%\"\n",
              "            height=\"750px\"\n",
              "            src=\"gtfs_trip_graph.html\"\n",
              "            frameborder=\"0\"\n",
              "            allowfullscreen\n",
              "            \n",
              "        ></iframe>\n",
              "        "
            ],
            "text/plain": [
              "<IPython.lib.display.IFrame at 0x7b252b027dd0>"
            ]
          },
          "execution_count": 45,
          "metadata": {},
          "output_type": "execute_result"
        }
      ],
      "source": [
        "import networkx as nx\n",
        "from pyvis.network import Network\n",
        "import pandas as pd\n",
        "\n",
        "# Charger les données\n",
        "trip_updates_df = trip_updates.select(\"trip_id\", \"route_id\", \"stop_id\", \"vehicle_id\").toPandas()\n",
        "\n",
        "# Sélectionner un trajet spécifique (par exemple, le premier disponible)\n",
        "selected_trip = trip_updates_df[\"trip_id\"].dropna().unique()[0]\n",
        "trip_data = trip_updates_df[trip_updates_df[\"trip_id\"] == selected_trip]\n",
        "\n",
        "# Créer un graphe dirigé\n",
        "G = nx.DiGraph()\n",
        "\n",
        "# Ajouter les stops du trajet\n",
        "for stop in trip_data[\"stop_id\"].dropna().unique():\n",
        "    G.add_node(str(stop), label=f\"Stop {stop}\", color=\"blue\", size=15)\n",
        "\n",
        "# Ajouter le trajet comme nœud central\n",
        "G.add_node(str(selected_trip), label=f\"Trip {selected_trip}\", color=\"green\", size=20)\n",
        "\n",
        "# Ajouter les arêtes entre stops successifs\n",
        "stops = trip_data[\"stop_id\"].dropna().tolist()\n",
        "for i in range(len(stops) - 1):\n",
        "    G.add_edge(str(stops[i]), str(stops[i + 1]), label=\"suivi de\", color=\"gray\")\n",
        "\n",
        "# Ajouter le véhicule du trajet\n",
        "vehicle_id = trip_data[\"vehicle_id\"].dropna().unique()\n",
        "if len(vehicle_id) > 0:\n",
        "    vehicle_id = str(vehicle_id[0])\n",
        "    G.add_node(vehicle_id, label=f\"Veh {vehicle_id}\", color=\"red\", size=25)\n",
        "    G.add_edge(vehicle_id, str(selected_trip), label=\"assigné à\", color=\"orange\")\n",
        "\n",
        "# Créer une visualisation interactive avec Pyvis\n",
        "net = Network(notebook=True, height=\"750px\", width=\"100%\", directed=True, cdn_resources=\"in_line\")\n",
        "net.from_nx(G)\n",
        "\n",
        "# Sauvegarder et afficher\n",
        "net.show(\"gtfs_trip_graph.html\")\n"
      ]
    },
    {
      "cell_type": "markdown",
      "metadata": {
        "id": "aa879OHYoSPN"
      },
      "source": [
        " Visualiser les arrêts les plus fréquentés"
      ]
    },
    {
      "cell_type": "code",
      "execution_count": 46,
      "metadata": {
        "colab": {
          "base_uri": "https://localhost:8080/",
          "height": 789
        },
        "id": "WheVXNsCoW3k",
        "outputId": "a2c1509b-2b55-4dea-c514-0a21cca31f07"
      },
      "outputs": [
        {
          "name": "stdout",
          "output_type": "stream",
          "text": [
            "gtfs_top_stops.html\n"
          ]
        },
        {
          "data": {
            "text/html": [
              "\n",
              "        <iframe\n",
              "            width=\"100%\"\n",
              "            height=\"750px\"\n",
              "            src=\"gtfs_top_stops.html\"\n",
              "            frameborder=\"0\"\n",
              "            allowfullscreen\n",
              "            \n",
              "        ></iframe>\n",
              "        "
            ],
            "text/plain": [
              "<IPython.lib.display.IFrame at 0x7b252be1fc50>"
            ]
          },
          "execution_count": 46,
          "metadata": {},
          "output_type": "execute_result"
        }
      ],
      "source": [
        "# Identifier les 10 arrêts les plus fréquents\n",
        "top_stops = trip_updates_df[\"stop_id\"].value_counts().head(10).index.tolist()\n",
        "\n",
        "# Créer un graphe\n",
        "G = nx.DiGraph()\n",
        "\n",
        "# Ajouter les arrêts populaires\n",
        "for stop in top_stops:\n",
        "    G.add_node(str(stop), label=f\"Stop {stop}\", color=\"blue\", size=20)\n",
        "\n",
        "# Ajouter les connexions entre ces arrêts (s'ils sont reliés par un trajet)\n",
        "filtered_trips = trip_updates_df[trip_updates_df[\"stop_id\"].isin(top_stops)]\n",
        "for _, row in filtered_trips.iterrows():\n",
        "    if pd.notna(row[\"trip_id\"]):\n",
        "        G.add_edge(str(row[\"trip_id\"]), str(row[\"stop_id\"]), label=\"dessert\", color=\"gray\")\n",
        "\n",
        "# Visualisation\n",
        "net = Network(notebook=True, height=\"750px\", width=\"100%\", directed=True, cdn_resources=\"in_line\")\n",
        "net.from_nx(G)\n",
        "net.show(\"gtfs_top_stops.html\")\n"
      ]
    }
  ],
  "metadata": {
    "colab": {
      "provenance": []
    },
    "kernelspec": {
      "display_name": "Python 3",
      "name": "python3"
    },
    "language_info": {
      "name": "python"
    }
  },
  "nbformat": 4,
  "nbformat_minor": 0
}

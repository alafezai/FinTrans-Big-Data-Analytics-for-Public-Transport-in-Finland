{
 "cells": [
  {
   "cell_type": "markdown",
   "metadata": {},
   "source": [
    "#  Simple  test"
   ]
  },
  {
   "cell_type": "code",
   "execution_count": 1,
   "metadata": {},
   "outputs": [
    {
     "ename": "SyntaxError",
     "evalue": "invalid syntax (2247488097.py, line 19)",
     "output_type": "error",
     "traceback": [
      "\u001b[0;36m  Cell \u001b[0;32mIn[1], line 19\u001b[0;36m\u001b[0m\n\u001b[0;31m    .\u001b[0m\n\u001b[0m    ^\u001b[0m\n\u001b[0;31mSyntaxError\u001b[0m\u001b[0;31m:\u001b[0m invalid syntax\n"
     ]
    }
   ],
   "source": [
    "import os\n",
    "import base64\n",
    "import requests\n",
    "import json\n",
    "from google.transit import gtfs_realtime_pb2  \n",
    "from google.protobuf.json_format import MessageToJson\n",
    "\n",
    "os.environ[\"CLIENT_ID\"] = \"6722072041100899\" \n",
    "os.environ[\"CLIENT_SECRET\"] = \"ISo0oqPMkfCB8wvaPSxrfj20EmnuvKwE\"  \n",
    "\n",
    "\n",
    "client_id = os.getenv(\"CLIENT_ID\")\n",
    "client_secret = os.getenv(\"CLIENT_SECRET\")\n",
    "\n",
    "if not client_id or not client_secret:\n",
    "    print(\"Error: CLIENT_ID and CLIENT_SECRET must be set as environment variables.\")\n",
    "    exit()\n",
    "\n",
    ".\n",
    "auth_string = f\"{client_id}:{client_secret}\"\n",
    "encoded_auth = base64.b64encode(auth_string.encode()).decode()\n",
    "\n",
    "\n",
    "city = \"tampere\"  \n",
    "endpoint = \"vehicleposition\"  \n",
    "url = f\"https://data.waltti.fi/{city}/api/gtfsrealtime/v1.0/feed/{endpoint}\"\n",
    "\n",
    "headers = {\n",
    "    \"Authorization\": f\"Basic {encoded_auth}\",\n",
    "}\n",
    "\n",
    "\n",
    "try:\n",
    "    response = requests.get(url, headers=headers)\n",
    "    response.raise_for_status()  \n",
    "\n",
    "\n",
    "    feed = gtfs_realtime_pb2.FeedMessage()\n",
    "    feed.ParseFromString(response.content)\n",
    "    feed_json = json.loads(MessageToJson(feed))\n",
    "\n",
    "    print(json.dumps(feed_json, indent=4))\n",
    "\n",
    "except requests.exceptions.RequestException as e:\n",
    "    print(json.dumps({\"error\": f\"Error connecting to the API: {e}\"}, indent=4))\n",
    "except Exception as e:\n",
    "    print(json.dumps({\"error\": f\"Unexpected error: {e}\"}, indent=4))\n"
   ]
  },
  {
   "cell_type": "markdown",
   "metadata": {},
   "source": [
    "# test kafka"
   ]
  },
  {
   "cell_type": "code",
   "execution_count": 2,
   "metadata": {},
   "outputs": [
    {
     "ename": "SyntaxError",
     "evalue": "invalid syntax (973979379.py, line 8)",
     "output_type": "error",
     "traceback": [
      "\u001b[0;36m  Cell \u001b[0;32mIn[2], line 8\u001b[0;36m\u001b[0m\n\u001b[0;31m    .\u001b[0m\n\u001b[0m    ^\u001b[0m\n\u001b[0;31mSyntaxError\u001b[0m\u001b[0;31m:\u001b[0m invalid syntax\n"
     ]
    }
   ],
   "source": [
    "import os\n",
    "import base64\n",
    "import requests\n",
    "import json\n",
    "from google.transit import gtfs_realtime_pb2  # GTFS Realtime\n",
    "from google.protobuf.json_format import MessageToJson\n",
    "from confluent_kafka import Producer\n",
    ".\n",
    "# Définir les variables d'environnement\n",
    "os.environ[\"CLIENT_ID\"] = \"6722072041100899\"  # Remplacez par votre véritable Client ID\n",
    "os.environ[\"CLIENT_SECRET\"] = \"ISo0oqPMkfCB8wvaPSxrfj20EmnuvKwE\"  # Remplacez par votre véritable Client Secret\n",
    "\n",
    "# Vérification des variables d'environnement\n",
    "client_id = os.getenv(\"CLIENT_ID\")\n",
    "client_secret = os.getenv(\"CLIENT_SECRET\")\n",
    "\n",
    "if not client_id or not client_secret:\n",
    "    print(\"Error: CLIENT_ID and CLIENT_SECRET must be set as environment variables.\")\n",
    "    exit()\n",
    "\n",
    "# Authentification avec Basic Authentication\n",
    "auth_string = f\"{client_id}:{client_secret}\"\n",
    "encoded_auth = base64.b64encode(auth_string.encode()).decode()\n",
    "\n",
    "# Préparation de l'URL et des en-têtes\n",
    "city = \"tampere\"  # Remplacez par votre ville\n",
    "endpoint = \"vehicleposition\"  # Endpoint choisi : tripupdate, vehicleposition, ou servicealert\n",
    "url = f\"https://data.waltti.fi/{city}/api/gtfsrealtime/v1.0/feed/{endpoint}\"\n",
    "\n",
    "headers = {\n",
    "    \"Authorization\": f\"Basic {encoded_auth}\",\n",
    "}\n",
    "\n",
    "# Configuration du producteur Kafka\n",
    "kafka_config = {\n",
    "    'bootstrap.servers': 'localhost:9092',  # Adresse du broker Kafka\n",
    "    'client.id': 'python-producer'\n",
    "}\n",
    "producer = Producer(kafka_config)\n",
    "kafka_topic = \"gtfs_realtime_topic\"  # Remplacez par votre topic Kafka\n",
    "\n",
    "# Callback pour la livraison Kafka\n",
    "def delivery_report(err, msg):\n",
    "    if err is not None:\n",
    "        print(f\"Message delivery failed: {err}\")\n",
    "    else:\n",
    "        print(f\"Message delivered to {msg.topic()} [partition: {msg.partition()}]\")\n",
    "\n",
    "# Faire la requête API\n",
    "try:\n",
    "    response = requests.get(url, headers=headers)\n",
    "    response.raise_for_status()  # Lève une exception pour les erreurs HTTP\n",
    "\n",
    "    # Parsing des données Protobuf et conversion en JSON\n",
    "    feed = gtfs_realtime_pb2.FeedMessage()\n",
    "    feed.ParseFromString(response.content)\n",
    "    feed_json = json.loads(MessageToJson(feed))\n",
    "\n",
    "    # Afficher les données localement\n",
    "    print(json.dumps(feed_json, indent=4))\n",
    "\n",
    "    # Envoyer les données à Kafka\n",
    "    for entity in feed.entity:\n",
    "        vehicle_json = json.loads(MessageToJson(entity))\n",
    "        producer.produce(\n",
    "            kafka_topic,\n",
    "            json.dumps(vehicle_json),\n",
    "            callback=delivery_report\n",
    "        )\n",
    "\n",
    "    # Assurez-vous que tous les messages sont bien envoyés\n",
    "    producer.flush()\n",
    "\n",
    "except requests.exceptions.RequestException as e:\n",
    "    print(json.dumps({\"error\": f\"Error connecting to the API: {e}\"}, indent=4))\n",
    "except Exception as e:\n",
    "    print(json.dumps({\"error\": f\"Unexpected error: {e}\"}, indent=4))\n"
   ]
  },
  {
   "cell_type": "code",
   "execution_count": null,
   "metadata": {},
   "outputs": [],
   "source": []
  }
 ],
 "metadata": {
  "kernelspec": {
   "display_name": "Python 3",
   "language": "python",
   "name": "python3"
  },
  "language_info": {
   "codemirror_mode": {
    "name": "ipython",
    "version": 3
   },
   "file_extension": ".py",
   "mimetype": "text/x-python",
   "name": "python",
   "nbconvert_exporter": "python",
   "pygments_lexer": "ipython3",
   "version": "3.10.12"
  }
 },
 "nbformat": 4,
 "nbformat_minor": 2
}

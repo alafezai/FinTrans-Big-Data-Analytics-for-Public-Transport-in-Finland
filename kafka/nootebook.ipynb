{
 "cells": [
  {
   "cell_type": "code",
   "execution_count": null,
   "metadata": {
    "vscode": {
     "languageId": "plaintext"
    }
   },
   "outputs": [],
   "source": [
    "#demarage\n",
    "!bin/kafka-server-start.sh config/server.properties\n",
    "!bin/zookeeper-server-start.sh config/zookeeper.properties\n"
   ]
  },
  {
   "cell_type": "code",
   "execution_count": null,
   "metadata": {
    "vscode": {
     "languageId": "plaintext"
    }
   },
   "outputs": [],
   "source": [
    "#crer  tripupdate topic \n",
    "!bin/kafka-topics.sh --create --topic tripupdate --bootstrap-server localhost:9092 --partitions 1 --replication-factor 1"
   ]
  },
  {
   "cell_type": "code",
   "execution_count": null,
   "metadata": {
    "vscode": {
     "languageId": "plaintext"
    }
   },
   "outputs": [],
   "source": [
    "#crer vehicleposition topic\n",
    "bin/kafka-topics.sh --create --topic vehicleposition --bootstrap-server localhost:9092 --partitions 1 --replication-factor 1"
   ]
  },
  {
   "cell_type": "code",
   "execution_count": null,
   "metadata": {
    "vscode": {
     "languageId": "plaintext"
    }
   },
   "outputs": [],
   "source": [
    "#crer servicealert topic\n",
    "bin/kafka-topics.sh --create --topic servicealert --bootstrap-server localhost:9092 --partitions 1 --replication-factor 1"
   ]
  }
 ],
 "metadata": {
  "language_info": {
   "name": "python"
  }
 },
 "nbformat": 4,
 "nbformat_minor": 2
}

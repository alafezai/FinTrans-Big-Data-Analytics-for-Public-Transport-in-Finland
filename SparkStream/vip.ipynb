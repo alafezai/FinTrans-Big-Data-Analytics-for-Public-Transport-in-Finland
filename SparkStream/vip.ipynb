{
 "cells": [
  {
   "cell_type": "code",
   "execution_count": 1,
   "metadata": {},
   "outputs": [
    {
     "name": "stderr",
     "output_type": "stream",
     "text": [
      "24/12/26 16:02:34 WARN Utils: Your hostname, Ala resolves to a loopback address: 127.0.1.1; using 10.255.255.254 instead (on interface lo)\n",
      "24/12/26 16:02:34 WARN Utils: Set SPARK_LOCAL_IP if you need to bind to another address\n"
     ]
    },
    {
     "name": "stdout",
     "output_type": "stream",
     "text": [
      ":: loading settings :: url = jar:file:/opt/spark/jars/ivy-2.5.1.jar!/org/apache/ivy/core/settings/ivysettings.xml\n"
     ]
    },
    {
     "name": "stderr",
     "output_type": "stream",
     "text": [
      "Ivy Default Cache set to: /home/ala/.ivy2/cache\n",
      "The jars for the packages stored in: /home/ala/.ivy2/jars\n",
      "org.apache.spark#spark-sql-kafka-0-10_2.12 added as a dependency\n",
      ":: resolving dependencies :: org.apache.spark#spark-submit-parent-c40237ec-1768-49e8-a964-6ceef1790b65;1.0\n",
      "\tconfs: [default]\n",
      "\tfound org.apache.spark#spark-sql-kafka-0-10_2.12;3.3.0 in central\n",
      "\tfound org.apache.spark#spark-token-provider-kafka-0-10_2.12;3.3.0 in central\n",
      "\tfound org.apache.kafka#kafka-clients;2.8.1 in central\n",
      "\tfound org.lz4#lz4-java;1.8.0 in central\n",
      "\tfound org.xerial.snappy#snappy-java;1.1.8.4 in central\n",
      "\tfound org.slf4j#slf4j-api;1.7.32 in central\n",
      "\tfound org.apache.hadoop#hadoop-client-runtime;3.3.2 in central\n",
      "\tfound org.spark-project.spark#unused;1.0.0 in central\n",
      "\tfound org.apache.hadoop#hadoop-client-api;3.3.2 in central\n",
      "\tfound commons-logging#commons-logging;1.1.3 in central\n",
      "\tfound com.google.code.findbugs#jsr305;3.0.0 in central\n",
      "\tfound org.apache.commons#commons-pool2;2.11.1 in central\n",
      ":: resolution report :: resolve 401ms :: artifacts dl 12ms\n",
      "\t:: modules in use:\n",
      "\tcom.google.code.findbugs#jsr305;3.0.0 from central in [default]\n",
      "\tcommons-logging#commons-logging;1.1.3 from central in [default]\n",
      "\torg.apache.commons#commons-pool2;2.11.1 from central in [default]\n",
      "\torg.apache.hadoop#hadoop-client-api;3.3.2 from central in [default]\n",
      "\torg.apache.hadoop#hadoop-client-runtime;3.3.2 from central in [default]\n",
      "\torg.apache.kafka#kafka-clients;2.8.1 from central in [default]\n",
      "\torg.apache.spark#spark-sql-kafka-0-10_2.12;3.3.0 from central in [default]\n",
      "\torg.apache.spark#spark-token-provider-kafka-0-10_2.12;3.3.0 from central in [default]\n",
      "\torg.lz4#lz4-java;1.8.0 from central in [default]\n",
      "\torg.slf4j#slf4j-api;1.7.32 from central in [default]\n",
      "\torg.spark-project.spark#unused;1.0.0 from central in [default]\n",
      "\torg.xerial.snappy#snappy-java;1.1.8.4 from central in [default]\n",
      "\t---------------------------------------------------------------------\n",
      "\t|                  |            modules            ||   artifacts   |\n",
      "\t|       conf       | number| search|dwnlded|evicted|| number|dwnlded|\n",
      "\t---------------------------------------------------------------------\n",
      "\t|      default     |   12  |   0   |   0   |   0   ||   12  |   0   |\n",
      "\t---------------------------------------------------------------------\n",
      ":: retrieving :: org.apache.spark#spark-submit-parent-c40237ec-1768-49e8-a964-6ceef1790b65\n",
      "\tconfs: [default]\n",
      "\t0 artifacts copied, 12 already retrieved (0kB/9ms)\n",
      "24/12/26 16:02:35 WARN NativeCodeLoader: Unable to load native-hadoop library for your platform... using builtin-java classes where applicable\n",
      "Setting default log level to \"WARN\".\n",
      "To adjust logging level use sc.setLogLevel(newLevel). For SparkR, use setLogLevel(newLevel).\n",
      "24/12/26 16:02:37 WARN Utils: Service 'SparkUI' could not bind on port 4040. Attempting port 4041.\n"
     ]
    }
   ],
   "source": [
    "%run \"SparkApp.ipynb\""
   ]
  },
  {
   "cell_type": "code",
   "execution_count": 2,
   "metadata": {},
   "outputs": [
    {
     "data": {
      "text/html": [
       "\n",
       "            <div>\n",
       "                <p><b>SparkSession - in-memory</b></p>\n",
       "                \n",
       "        <div>\n",
       "            <p><b>SparkContext</b></p>\n",
       "\n",
       "            <p><a href=\"http://10.255.255.254:4041\">Spark UI</a></p>\n",
       "\n",
       "            <dl>\n",
       "              <dt>Version</dt>\n",
       "                <dd><code>v3.5.3</code></dd>\n",
       "              <dt>Master</dt>\n",
       "                <dd><code>local[*]</code></dd>\n",
       "              <dt>AppName</dt>\n",
       "                <dd><code>Streaming from Kafka</code></dd>\n",
       "            </dl>\n",
       "        </div>\n",
       "        \n",
       "            </div>\n",
       "        "
      ],
      "text/plain": [
       "<pyspark.sql.session.SparkSession at 0x7ff9999fe020>"
      ]
     },
     "execution_count": 2,
     "metadata": {},
     "output_type": "execute_result"
    }
   ],
   "source": [
    "spark"
   ]
  },
  {
   "cell_type": "code",
   "execution_count": 9,
   "metadata": {},
   "outputs": [],
   "source": [
    "from pyspark.sql.types import StructType, StructField, StringType, DoubleType, LongType, TimestampType\n",
    "\n",
    "# Définition du schéma PySpark pour les données provenant de Kafka\n",
    "schema = StructType([\n",
    "    StructField(\"key\", StructType([\n",
    "        StructField(\"value\", StringType(), True),\n",
    "        StructField(\"topic\", StringType(), True),\n",
    "        StructField(\"partition\", LongType(), True),\n",
    "        StructField(\"offset\", LongType(), True),\n",
    "        StructField(\"timestamp\", TimestampType(), True),\n",
    "        StructField(\"timestampType\", LongType(), True)\n",
    "    ]), True),\n",
    "    StructField(\"data\", StructType([\n",
    "        StructField(\"DOO\", StructType([\n",
    "            StructField(\"desi\", StringType(), True),\n",
    "            StructField(\"dir\", StringType(), True),\n",
    "            StructField(\"oper\", LongType(), True),\n",
    "            StructField(\"veh\", LongType(), True),\n",
    "            StructField(\"tst\", StringType(), True),\n",
    "            StructField(\"tsi\", LongType(), True),\n",
    "            StructField(\"spd\", DoubleType(), True),\n",
    "            StructField(\"hdg\", LongType(), True),\n",
    "            StructField(\"lat\", DoubleType(), True),\n",
    "            StructField(\"long\", DoubleType(), True),\n",
    "            StructField(\"acc\", DoubleType(), True),\n",
    "            StructField(\"dl\", LongType(), True),\n",
    "            StructField(\"odo\", LongType(), True),\n",
    "            StructField(\"drst\", LongType(), True),\n",
    "            StructField(\"oday\", StringType(), True),\n",
    "            StructField(\"jrn\", LongType(), True),\n",
    "            StructField(\"line\", LongType(), True),\n",
    "            StructField(\"start\", StringType(), True),\n",
    "            StructField(\"loc\", StringType(), True),\n",
    "            StructField(\"stop\", LongType(), True),\n",
    "            StructField(\"route\", StringType(), True),\n",
    "            StructField(\"occu\", LongType(), True)\n",
    "        ]), True)\n",
    "    ]), True)\n",
    "])\n",
    "\n"
   ]
  },
  {
   "cell_type": "code",
   "execution_count": 4,
   "metadata": {},
   "outputs": [],
   "source": [
    "kafka_df = spark \\\n",
    "    .readStream \\\n",
    "    .format(\"kafka\") \\\n",
    "    .option(\"kafka.bootstrap.servers\", \"localhost:9092\") \\\n",
    "    .option(\"subscribe\", \"vip\") \\\n",
    "    .option(\"startingOffsets\",\"earliest\") \\\n",
    "    .load()"
   ]
  },
  {
   "cell_type": "code",
   "execution_count": 5,
   "metadata": {},
   "outputs": [
    {
     "name": "stdout",
     "output_type": "stream",
     "text": [
      "root\n",
      " |-- key: binary (nullable = true)\n",
      " |-- value: binary (nullable = true)\n",
      " |-- topic: string (nullable = true)\n",
      " |-- partition: integer (nullable = true)\n",
      " |-- offset: long (nullable = true)\n",
      " |-- timestamp: timestamp (nullable = true)\n",
      " |-- timestampType: integer (nullable = true)\n",
      "\n"
     ]
    }
   ],
   "source": [
    "kafka_df.printSchema()"
   ]
  },
  {
   "cell_type": "code",
   "execution_count": 6,
   "metadata": {},
   "outputs": [],
   "source": [
    "from pyspark.sql.functions import expr\n",
    "\n",
    "kafka_json_df = kafka_df.withColumn(\"value\", expr(\"cast(value as string)\"))"
   ]
  },
  {
   "cell_type": "code",
   "execution_count": 7,
   "metadata": {},
   "outputs": [],
   "source": [
    "from pyspark.sql.functions import from_json,col\n",
    "\n",
    "streaming_df = kafka_json_df.selectExpr(\"CAST(value AS STRING)\") \\\n",
    "    .select(from_json(col(\"value\"), schema).alias(\"data\"))"
   ]
  },
  {
   "cell_type": "code",
   "execution_count": 8,
   "metadata": {},
   "outputs": [
    {
     "name": "stdout",
     "output_type": "stream",
     "text": [
      "root\n",
      " |-- data: struct (nullable = true)\n",
      " |    |-- DOO: struct (nullable = true)\n",
      " |    |    |-- desi: string (nullable = true)\n",
      " |    |    |-- dir: string (nullable = true)\n",
      " |    |    |-- oper: long (nullable = true)\n",
      " |    |    |-- veh: long (nullable = true)\n",
      " |    |    |-- tst: string (nullable = true)\n",
      " |    |    |-- tsi: long (nullable = true)\n",
      " |    |    |-- spd: double (nullable = true)\n",
      " |    |    |-- hdg: long (nullable = true)\n",
      " |    |    |-- lat: double (nullable = true)\n",
      " |    |    |-- long: double (nullable = true)\n",
      " |    |    |-- acc: double (nullable = true)\n",
      " |    |    |-- dl: long (nullable = true)\n",
      " |    |    |-- odo: long (nullable = true)\n",
      " |    |    |-- drst: long (nullable = true)\n",
      " |    |    |-- oday: string (nullable = true)\n",
      " |    |    |-- jrn: long (nullable = true)\n",
      " |    |    |-- line: long (nullable = true)\n",
      " |    |    |-- start: string (nullable = true)\n",
      " |    |    |-- loc: string (nullable = true)\n",
      " |    |    |-- stop: long (nullable = true)\n",
      " |    |    |-- route: string (nullable = true)\n",
      " |    |    |-- occu: long (nullable = true)\n",
      "\n"
     ]
    }
   ],
   "source": [
    "streaming_df.printSchema()"
   ]
  },
  {
   "cell_type": "code",
   "execution_count": 11,
   "metadata": {},
   "outputs": [],
   "source": [
    "from pyspark.sql import functions as F\n",
    "\n",
    "# Aplatir et sélectionner les colonnes de DOO\n",
    "flattened_df = streaming_df.select(\n",
    "    F.col(\"data.DOO.desi\").alias(\"desi\"),\n",
    "    F.col(\"data.DOO.dir\").alias(\"dir\"),\n",
    "    F.col(\"data.DOO.oper\").alias(\"oper\"),\n",
    "    F.col(\"data.DOO.veh\").alias(\"veh\"),\n",
    "    F.col(\"data.DOO.tst\").alias(\"tst\"),\n",
    "    F.col(\"data.DOO.tsi\").alias(\"tsi\"),\n",
    "    F.col(\"data.DOO.spd\").alias(\"spd\"),\n",
    "    F.col(\"data.DOO.hdg\").alias(\"hdg\"),\n",
    "    F.col(\"data.DOO.lat\").alias(\"lat\"),\n",
    "    F.col(\"data.DOO.long\").alias(\"long\"),\n",
    "    F.col(\"data.DOO.acc\").alias(\"acc\"),\n",
    "    F.col(\"data.DOO.dl\").alias(\"dl\"),\n",
    "    F.col(\"data.DOO.odo\").alias(\"odo\"),\n",
    "    F.col(\"data.DOO.drst\").alias(\"drst\"),\n",
    "    F.col(\"data.DOO.oday\").alias(\"oday\"),\n",
    "    F.col(\"data.DOO.jrn\").alias(\"jrn\"),\n",
    "    F.col(\"data.DOO.line\").alias(\"line\"),\n",
    "    F.col(\"data.DOO.start\").alias(\"start\"),\n",
    "    F.col(\"data.DOO.loc\").alias(\"loc\"),\n",
    "    F.col(\"data.DOO.stop\").alias(\"stop\"),\n",
    "    F.col(\"data.DOO.route\").alias(\"route\"),\n",
    "    F.col(\"data.DOO.occu\").alias(\"occu\")\n",
    ")"
   ]
  },
  {
   "cell_type": "code",
   "execution_count": 12,
   "metadata": {},
   "outputs": [
    {
     "name": "stdout",
     "output_type": "stream",
     "text": [
      "root\n",
      " |-- desi: string (nullable = true)\n",
      " |-- dir: string (nullable = true)\n",
      " |-- oper: long (nullable = true)\n",
      " |-- veh: long (nullable = true)\n",
      " |-- tst: string (nullable = true)\n",
      " |-- tsi: long (nullable = true)\n",
      " |-- spd: double (nullable = true)\n",
      " |-- hdg: long (nullable = true)\n",
      " |-- lat: double (nullable = true)\n",
      " |-- long: double (nullable = true)\n",
      " |-- acc: double (nullable = true)\n",
      " |-- dl: long (nullable = true)\n",
      " |-- odo: long (nullable = true)\n",
      " |-- drst: long (nullable = true)\n",
      " |-- oday: string (nullable = true)\n",
      " |-- jrn: long (nullable = true)\n",
      " |-- line: long (nullable = true)\n",
      " |-- start: string (nullable = true)\n",
      " |-- loc: string (nullable = true)\n",
      " |-- stop: long (nullable = true)\n",
      " |-- route: string (nullable = true)\n",
      " |-- occu: long (nullable = true)\n",
      "\n"
     ]
    }
   ],
   "source": [
    "flattened_df.printSchema()"
   ]
  },
  {
   "cell_type": "code",
   "execution_count": null,
   "metadata": {},
   "outputs": [],
   "source": []
  }
 ],
 "metadata": {
  "kernelspec": {
   "display_name": "Python 3",
   "language": "python",
   "name": "python3"
  },
  "language_info": {
   "codemirror_mode": {
    "name": "ipython",
    "version": 3
   },
   "file_extension": ".py",
   "mimetype": "text/x-python",
   "name": "python",
   "nbconvert_exporter": "python",
   "pygments_lexer": "ipython3",
   "version": "3.10.12"
  }
 },
 "nbformat": 4,
 "nbformat_minor": 2
}

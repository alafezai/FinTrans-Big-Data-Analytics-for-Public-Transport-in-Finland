{
 "cells": [
  {
   "cell_type": "code",
   "execution_count": 32,
   "metadata": {},
   "outputs": [],
   "source": [
    "from pyspark.sql import SparkSession\n",
    "spark = (\n",
    "    SparkSession \n",
    "    .builder \n",
    "    .appName(\"Streaming from Kafka\") \n",
    "    .config(\"spark.streaming.stopGracefullyOnShutdown\", True)\n",
    "    .config(\"spark.jars.packages\", \"org.apache.spark:spark-sql-kafka-0-10_2.12:3.5.0,com.datastax.spark:spark-cassandra-connector_2.12:3.5.0\")\n",
    "    .config(\"spark.cassandra.connection.host\", \"127.0.0.1\")\n",
    "    .config(\"spark.executor.memory\", \"4g\")\n",
    "    .config(\"spark.driver.memory\", \"2g\")\n",
    "    .config(\"spark.cassandra.auth.username\", \"cassandra\")\n",
    "    .config(\"spark.cassandra.auth.password\", \"cassandra\")\n",
    "    .master(\"local[*]\") \n",
    "    .getOrCreate()\n",
    ")"
   ]
  },
  {
   "cell_type": "code",
   "execution_count": 33,
   "metadata": {},
   "outputs": [
    {
     "data": {
      "text/html": [
       "\n",
       "            <div>\n",
       "                <p><b>SparkSession - in-memory</b></p>\n",
       "                \n",
       "        <div>\n",
       "            <p><b>SparkContext</b></p>\n",
       "\n",
       "            <p><a href=\"http://10.255.255.254:4040\">Spark UI</a></p>\n",
       "\n",
       "            <dl>\n",
       "              <dt>Version</dt>\n",
       "                <dd><code>v3.5.3</code></dd>\n",
       "              <dt>Master</dt>\n",
       "                <dd><code>local[*]</code></dd>\n",
       "              <dt>AppName</dt>\n",
       "                <dd><code>Streaming from Kafka</code></dd>\n",
       "            </dl>\n",
       "        </div>\n",
       "        \n",
       "            </div>\n",
       "        "
      ],
      "text/plain": [
       "<pyspark.sql.session.SparkSession at 0x7f4738019960>"
      ]
     },
     "execution_count": 33,
     "metadata": {},
     "output_type": "execute_result"
    }
   ],
   "source": [
    "spark"
   ]
  },
  {
   "cell_type": "code",
   "execution_count": 34,
   "metadata": {},
   "outputs": [],
   "source": [
    "from pyspark.sql.types import StructType, StructField, StringType, DoubleType, LongType, IntegerType\n",
    "\n",
    "schema_vp = StructType([\n",
    "    StructField(\"vehicle_type\", StringType(), True),\n",
    "    StructField(\"nextStop\", StringType(), True),\n",
    "    StructField(\"VP\", StructType([\n",
    "        StructField(\"desi\", StringType(), True),\n",
    "        StructField(\"dir\", StringType(), True),\n",
    "        StructField(\"oper\", IntegerType(), True),\n",
    "        StructField(\"veh\", IntegerType(), True),\n",
    "        StructField(\"tst\", StringType(), True),\n",
    "        StructField(\"tsi\", LongType(), True),\n",
    "        StructField(\"spd\", DoubleType(), True),\n",
    "        StructField(\"hdg\", IntegerType(), True),\n",
    "        StructField(\"lat\", DoubleType(), True),\n",
    "        StructField(\"long\", DoubleType(), True),\n",
    "        StructField(\"acc\", DoubleType(), True),\n",
    "        StructField(\"dl\", IntegerType(), True),\n",
    "        StructField(\"odo\", IntegerType(), True),  # correction ici\n",
    "        StructField(\"drst\", IntegerType(), True),\n",
    "        StructField(\"oday\", StringType(), True),\n",
    "        StructField(\"jrn\", IntegerType(), True),\n",
    "        StructField(\"line\", IntegerType(), True),\n",
    "        StructField(\"start\", StringType(), True),\n",
    "        StructField(\"loc\", StringType(), True),\n",
    "        StructField(\"stop\", IntegerType(), True),\n",
    "        StructField(\"route\", StringType(), True),\n",
    "        StructField(\"occu\", IntegerType(), True)\n",
    "    ]))\n",
    "])"
   ]
  },
  {
   "cell_type": "code",
   "execution_count": 35,
   "metadata": {},
   "outputs": [],
   "source": [
    "from pyspark.sql.types import StructType, StructField, StringType, IntegerType, ArrayType\n",
    "\n",
    "stop_time_update_schema = StructType([\n",
    "    StructField(\"stop_id\", StringType(), True),\n",
    "    StructField(\"arrival_time\", StringType(), True),\n",
    "    StructField(\"departure_time\", StringType(), True)\n",
    "])\n",
    "\n",
    "trip_update_schema = StructType([\n",
    "    StructField(\"trip_id\", StringType(), True),\n",
    "    StructField(\"route_id\", StringType(), True),\n",
    "    StructField(\"start_date\", StringType(), True),\n",
    "    StructField(\"start_time\", StringType(), True),\n",
    "    StructField(\"direction_id\", IntegerType(), True),\n",
    "    StructField(\"stop_time_updates\", ArrayType(stop_time_update_schema), True)\n",
    "])\n"
   ]
  },
  {
   "cell_type": "code",
   "execution_count": 36,
   "metadata": {},
   "outputs": [],
   "source": [
    "kafka_df_vp = spark \\\n",
    "    .readStream \\\n",
    "    .format(\"kafka\") \\\n",
    "    .option(\"kafka.bootstrap.servers\", \"localhost:9092\") \\\n",
    "    .option(\"subscribe\", \"vp\") \\\n",
    "    .option(\"startingOffsets\",\"earliest\") \\\n",
    "    .option(\"enable.auto.create.topics\", \"false\") \\\n",
    "    .load()"
   ]
  },
  {
   "cell_type": "code",
   "execution_count": 37,
   "metadata": {},
   "outputs": [],
   "source": [
    "kafka_df_tp = spark \\\n",
    "    .readStream \\\n",
    "    .format(\"kafka\") \\\n",
    "    .option(\"kafka.bootstrap.servers\", \"localhost:9092\") \\\n",
    "    .option(\"subscribe\", \"trip\") \\\n",
    "    .option(\"startingOffsets\",\"earliest\") \\\n",
    "    .option(\"enable.auto.create.topics\", \"false\") \\\n",
    "    .load()"
   ]
  },
  {
   "cell_type": "code",
   "execution_count": 38,
   "metadata": {},
   "outputs": [],
   "source": [
    "from pyspark.sql.functions import expr\n",
    "\n",
    "kafka_json_df_vp = kafka_df_vp.withColumn(\"value\", expr(\"cast(value as string)\"))"
   ]
  },
  {
   "cell_type": "code",
   "execution_count": 39,
   "metadata": {},
   "outputs": [],
   "source": [
    "from pyspark.sql.functions import expr\n",
    "\n",
    "kafka_json_df_tp = kafka_df_tp.withColumn(\"value\", expr(\"cast(value as string)\"))"
   ]
  },
  {
   "cell_type": "code",
   "execution_count": 40,
   "metadata": {},
   "outputs": [],
   "source": [
    "from pyspark.sql.functions import from_json, col\n",
    "\n",
    "streaming_df_vp = kafka_json_df_vp.selectExpr(\"CAST(value AS STRING)\") \\\n",
    "    .select(from_json(col(\"value\"), schema_vp).alias(\"data\"))"
   ]
  },
  {
   "cell_type": "code",
   "execution_count": 41,
   "metadata": {},
   "outputs": [],
   "source": [
    "from pyspark.sql.functions import from_json, col\n",
    "\n",
    "streaming_df_tp= kafka_json_df_tp.selectExpr(\"CAST(value AS STRING)\") \\\n",
    "    .select(from_json(col(\"value\"), trip_update_schema).alias(\"data\"))"
   ]
  },
  {
   "cell_type": "code",
   "execution_count": 42,
   "metadata": {},
   "outputs": [
    {
     "name": "stdout",
     "output_type": "stream",
     "text": [
      "root\n",
      " |-- data: struct (nullable = true)\n",
      " |    |-- vehicle_type: string (nullable = true)\n",
      " |    |-- nextStop: string (nullable = true)\n",
      " |    |-- VP: struct (nullable = true)\n",
      " |    |    |-- desi: string (nullable = true)\n",
      " |    |    |-- dir: string (nullable = true)\n",
      " |    |    |-- oper: integer (nullable = true)\n",
      " |    |    |-- veh: integer (nullable = true)\n",
      " |    |    |-- tst: string (nullable = true)\n",
      " |    |    |-- tsi: long (nullable = true)\n",
      " |    |    |-- spd: double (nullable = true)\n",
      " |    |    |-- hdg: integer (nullable = true)\n",
      " |    |    |-- lat: double (nullable = true)\n",
      " |    |    |-- long: double (nullable = true)\n",
      " |    |    |-- acc: double (nullable = true)\n",
      " |    |    |-- dl: integer (nullable = true)\n",
      " |    |    |-- odo: integer (nullable = true)\n",
      " |    |    |-- drst: integer (nullable = true)\n",
      " |    |    |-- oday: string (nullable = true)\n",
      " |    |    |-- jrn: integer (nullable = true)\n",
      " |    |    |-- line: integer (nullable = true)\n",
      " |    |    |-- start: string (nullable = true)\n",
      " |    |    |-- loc: string (nullable = true)\n",
      " |    |    |-- stop: integer (nullable = true)\n",
      " |    |    |-- route: string (nullable = true)\n",
      " |    |    |-- occu: integer (nullable = true)\n",
      "\n"
     ]
    }
   ],
   "source": [
    "streaming_df_vp.printSchema()"
   ]
  },
  {
   "cell_type": "code",
   "execution_count": 43,
   "metadata": {},
   "outputs": [
    {
     "name": "stdout",
     "output_type": "stream",
     "text": [
      "root\n",
      " |-- data: struct (nullable = true)\n",
      " |    |-- trip_id: string (nullable = true)\n",
      " |    |-- route_id: string (nullable = true)\n",
      " |    |-- start_date: string (nullable = true)\n",
      " |    |-- start_time: string (nullable = true)\n",
      " |    |-- direction_id: integer (nullable = true)\n",
      " |    |-- stop_time_updates: array (nullable = true)\n",
      " |    |    |-- element: struct (containsNull = true)\n",
      " |    |    |    |-- stop_id: string (nullable = true)\n",
      " |    |    |    |-- arrival_time: string (nullable = true)\n",
      " |    |    |    |-- departure_time: string (nullable = true)\n",
      "\n"
     ]
    }
   ],
   "source": [
    "streaming_df_tp.printSchema()"
   ]
  },
  {
   "cell_type": "code",
   "execution_count": 44,
   "metadata": {},
   "outputs": [],
   "source": [
    "flattened_df_vp = streaming_df_vp.select(\n",
    "    col(\"data.vehicle_type\"),\n",
    "    col(\"data.nextStop\"),\n",
    "    col(\"data.VP.desi\"),\n",
    "    col(\"data.VP.dir\"),\n",
    "    col(\"data.VP.oper\"),\n",
    "    col(\"data.VP.veh\"),\n",
    "    col(\"data.VP.tst\"),\n",
    "    col(\"data.VP.tsi\"),\n",
    "    col(\"data.VP.spd\"),\n",
    "    col(\"data.VP.hdg\"),\n",
    "    col(\"data.VP.lat\"),\n",
    "    col(\"data.VP.long\"),\n",
    "    col(\"data.VP.acc\"),\n",
    "    col(\"data.VP.dl\"),\n",
    "    col(\"data.VP.odo\"),\n",
    "    col(\"data.VP.drst\"),\n",
    "    col(\"data.VP.oday\"),\n",
    "    col(\"data.VP.jrn\"),\n",
    "    col(\"data.VP.line\"),\n",
    "    col(\"data.VP.start\"),\n",
    "    col(\"data.VP.loc\"),\n",
    "    col(\"data.VP.stop\"),\n",
    "    col(\"data.VP.route\"),\n",
    "    col(\"data.VP.occu\")\n",
    ")"
   ]
  },
  {
   "cell_type": "code",
   "execution_count": 45,
   "metadata": {},
   "outputs": [
    {
     "name": "stdout",
     "output_type": "stream",
     "text": [
      "root\n",
      " |-- vehicle_type: string (nullable = true)\n",
      " |-- nextStop: string (nullable = true)\n",
      " |-- desi: string (nullable = true)\n",
      " |-- dir: string (nullable = true)\n",
      " |-- oper: integer (nullable = true)\n",
      " |-- veh: integer (nullable = true)\n",
      " |-- tst: string (nullable = true)\n",
      " |-- tsi: long (nullable = true)\n",
      " |-- spd: double (nullable = true)\n",
      " |-- hdg: integer (nullable = true)\n",
      " |-- lat: double (nullable = true)\n",
      " |-- long: double (nullable = true)\n",
      " |-- acc: double (nullable = true)\n",
      " |-- dl: integer (nullable = true)\n",
      " |-- odo: integer (nullable = true)\n",
      " |-- drst: integer (nullable = true)\n",
      " |-- oday: string (nullable = true)\n",
      " |-- jrn: integer (nullable = true)\n",
      " |-- line: integer (nullable = true)\n",
      " |-- start: string (nullable = true)\n",
      " |-- loc: string (nullable = true)\n",
      " |-- stop: integer (nullable = true)\n",
      " |-- route: string (nullable = true)\n",
      " |-- occu: integer (nullable = true)\n",
      "\n"
     ]
    }
   ],
   "source": [
    "flattened_df_vp.printSchema()"
   ]
  },
  {
   "cell_type": "code",
   "execution_count": 46,
   "metadata": {},
   "outputs": [],
   "source": [
    "from pyspark.sql.functions import concat_ws, col, date_format\n",
    "\n",
    "flattened_df_vp = flattened_df_vp.withColumn(\n",
    "    \"trip_id\",\n",
    "    concat_ws(\"_\", \n",
    "        col(\"route\"),  # Correspond à route_id dans TripUpdate\n",
    "        col(\"oday\"),   # Correspond à start_date dans TripUpdate\n",
    "        date_format(col(\"start\"), \"HH:mm:ss\"),  # Conversion de start_time au format hh:mm:ss\n",
    "        col(\"dir\")     # Correspond à direction_id dans TripUpdate\n",
    "    )\n",
    ")\n"
   ]
  },
  {
   "cell_type": "code",
   "execution_count": 47,
   "metadata": {},
   "outputs": [],
   "source": [
    "from pyspark.sql.functions import explode\n",
    "flattened_df_tp = streaming_df_tp.select(\n",
    "    col(\"data.trip_id\").alias(\"trip_id_tp\"),\n",
    "    col(\"data.route_id\"),\n",
    "    col(\"data.start_date\"),\n",
    "    col(\"data.start_time\"),\n",
    "    col(\"data.direction_id\"),\n",
    "    explode(col(\"data.stop_time_updates\")).alias(\"stop_time_update\")  # Exploser l'array\n",
    ")"
   ]
  },
  {
   "cell_type": "code",
   "execution_count": 48,
   "metadata": {},
   "outputs": [],
   "source": [
    "flattened_df_tp = flattened_df_tp.select(\n",
    "    \"trip_id_tp\",\n",
    "    \"route_id\",\n",
    "    \"start_date\",\n",
    "    \"start_time\",\n",
    "    \"direction_id\",\n",
    "    col(\"stop_time_update.stop_id\"),\n",
    "    col(\"stop_time_update.arrival_time\"),\n",
    "    col(\"stop_time_update.departure_time\")\n",
    ")"
   ]
  },
  {
   "cell_type": "code",
   "execution_count": 49,
   "metadata": {},
   "outputs": [
    {
     "name": "stdout",
     "output_type": "stream",
     "text": [
      "root\n",
      " |-- vehicle_type: string (nullable = true)\n",
      " |-- nextStop: string (nullable = true)\n",
      " |-- desi: string (nullable = true)\n",
      " |-- dir: string (nullable = true)\n",
      " |-- oper: integer (nullable = true)\n",
      " |-- veh: integer (nullable = true)\n",
      " |-- tst: string (nullable = true)\n",
      " |-- tsi: long (nullable = true)\n",
      " |-- spd: double (nullable = true)\n",
      " |-- hdg: integer (nullable = true)\n",
      " |-- lat: double (nullable = true)\n",
      " |-- long: double (nullable = true)\n",
      " |-- acc: double (nullable = true)\n",
      " |-- dl: integer (nullable = true)\n",
      " |-- odo: integer (nullable = true)\n",
      " |-- drst: integer (nullable = true)\n",
      " |-- oday: string (nullable = true)\n",
      " |-- jrn: integer (nullable = true)\n",
      " |-- line: integer (nullable = true)\n",
      " |-- start: string (nullable = true)\n",
      " |-- loc: string (nullable = true)\n",
      " |-- stop: integer (nullable = true)\n",
      " |-- route: string (nullable = true)\n",
      " |-- occu: integer (nullable = true)\n",
      " |-- trip_id: string (nullable = false)\n",
      "\n"
     ]
    }
   ],
   "source": [
    "flattened_df_vp.printSchema()"
   ]
  },
  {
   "cell_type": "code",
   "execution_count": 50,
   "metadata": {},
   "outputs": [
    {
     "name": "stdout",
     "output_type": "stream",
     "text": [
      "root\n",
      " |-- trip_id_tp: string (nullable = true)\n",
      " |-- route_id: string (nullable = true)\n",
      " |-- start_date: string (nullable = true)\n",
      " |-- start_time: string (nullable = true)\n",
      " |-- direction_id: integer (nullable = true)\n",
      " |-- stop_id: string (nullable = true)\n",
      " |-- arrival_time: string (nullable = true)\n",
      " |-- departure_time: string (nullable = true)\n",
      "\n"
     ]
    }
   ],
   "source": [
    "flattened_df_tp.printSchema()"
   ]
  },
  {
   "cell_type": "code",
   "execution_count": 61,
   "metadata": {},
   "outputs": [],
   "source": [
    "#joined_df = flattened_df_vp.join(flattened_df_tp, flattened_df_vp.trip_id == flattened_df_tp.trip_id_tp, how=\"inner\")\n",
    "#joined_df = flattened_df_vp.join(flattened_df_tp, \"trip_id\")\n",
    "joined_stream = flattened_df_vp.join(\n",
    "    flattened_df_tp,\n",
    "    (flattened_df_vp.trip_id == flattened_df_tp.trip_id_tp),\n",
    "    \"inner\"\n",
    ")"
   ]
  },
  {
   "cell_type": "code",
   "execution_count": 62,
   "metadata": {},
   "outputs": [],
   "source": [
    "joined_df = joined_stream.select(\n",
    "    flattened_df_vp.trip_id, \n",
    "    flattened_df_vp.vehicle_type, \n",
    "    flattened_df_vp.nextStop, \n",
    "    flattened_df_vp.desi,\n",
    "    flattened_df_vp.tst,\n",
    "    flattened_df_vp.dl,  \n",
    "    flattened_df_vp.spd, \n",
    "    flattened_df_vp.lat, \n",
    "    flattened_df_vp.long, \n",
    "    flattened_df_tp.route_id, \n",
    "    flattened_df_tp.start_date, \n",
    "    flattened_df_tp.start_time, \n",
    "    flattened_df_tp.arrival_time, \n",
    "    flattened_df_tp.departure_time\n",
    ")"
   ]
  },
  {
   "cell_type": "code",
   "execution_count": 63,
   "metadata": {},
   "outputs": [
    {
     "name": "stdout",
     "output_type": "stream",
     "text": [
      "root\n",
      " |-- trip_id: string (nullable = false)\n",
      " |-- vehicle_type: string (nullable = true)\n",
      " |-- nextStop: string (nullable = true)\n",
      " |-- desi: string (nullable = true)\n",
      " |-- tst: string (nullable = true)\n",
      " |-- dl: integer (nullable = true)\n",
      " |-- spd: double (nullable = true)\n",
      " |-- lat: double (nullable = true)\n",
      " |-- long: double (nullable = true)\n",
      " |-- route_id: string (nullable = true)\n",
      " |-- start_date: string (nullable = true)\n",
      " |-- start_time: string (nullable = true)\n",
      " |-- arrival_time: string (nullable = true)\n",
      " |-- departure_time: string (nullable = true)\n",
      "\n"
     ]
    }
   ],
   "source": [
    "joined_df.printSchema()"
   ]
  },
  {
   "cell_type": "code",
   "execution_count": 64,
   "metadata": {},
   "outputs": [],
   "source": [
    "from pyspark.sql.functions import concat_ws, col, to_timestamp, date_format\n",
    "\n",
    "# Convertir 'arrival_time' et 'departure_time' au format timestamp\n",
    "joined_df = joined_df.withColumn(\n",
    "    \"arrival_time\", \n",
    "    to_timestamp(col(\"arrival_time\"), \"yyyy-MM-dd'T'HH:mm:ss\")  # Conversion en timestamp\n",
    ").withColumn(\n",
    "    \"departure_time\", \n",
    "    to_timestamp(col(\"departure_time\"), \"yyyy-MM-dd'T'HH:mm:ss\")  # Conversion en timestamp\n",
    ")"
   ]
  },
  {
   "cell_type": "code",
   "execution_count": 65,
   "metadata": {},
   "outputs": [
    {
     "name": "stdout",
     "output_type": "stream",
     "text": [
      "root\n",
      " |-- trip_id: string (nullable = false)\n",
      " |-- vehicle_type: string (nullable = true)\n",
      " |-- nextStop: string (nullable = true)\n",
      " |-- desi: string (nullable = true)\n",
      " |-- tst: string (nullable = true)\n",
      " |-- dl: integer (nullable = true)\n",
      " |-- spd: double (nullable = true)\n",
      " |-- lat: double (nullable = true)\n",
      " |-- long: double (nullable = true)\n",
      " |-- route_id: string (nullable = true)\n",
      " |-- start_date: string (nullable = true)\n",
      " |-- start_time: string (nullable = true)\n",
      " |-- arrival_time: timestamp (nullable = true)\n",
      " |-- departure_time: timestamp (nullable = true)\n",
      "\n"
     ]
    }
   ],
   "source": [
    "joined_df.printSchema()\n",
    "df_unique = joined_df.distinct()"
   ]
  },
  {
   "cell_type": "code",
   "execution_count": 66,
   "metadata": {},
   "outputs": [],
   "source": [
    "joined_df =joined_df.withColumn(\"nextstop\",col(\"nextStop\"))"
   ]
  },
  {
   "cell_type": "code",
   "execution_count": 67,
   "metadata": {},
   "outputs": [
    {
     "name": "stdout",
     "output_type": "stream",
     "text": [
      "root\n",
      " |-- trip_id: string (nullable = false)\n",
      " |-- vehicle_type: string (nullable = true)\n",
      " |-- nextstop: string (nullable = true)\n",
      " |-- desi: string (nullable = true)\n",
      " |-- tst: string (nullable = true)\n",
      " |-- dl: integer (nullable = true)\n",
      " |-- spd: double (nullable = true)\n",
      " |-- lat: double (nullable = true)\n",
      " |-- long: double (nullable = true)\n",
      " |-- route_id: string (nullable = true)\n",
      " |-- start_date: string (nullable = true)\n",
      " |-- start_time: string (nullable = true)\n",
      " |-- arrival_time: timestamp (nullable = true)\n",
      " |-- departure_time: timestamp (nullable = true)\n",
      "\n"
     ]
    }
   ],
   "source": [
    "joined_df.printSchema()"
   ]
  },
  {
   "cell_type": "code",
   "execution_count": 70,
   "metadata": {},
   "outputs": [
    {
     "name": "stderr",
     "output_type": "stream",
     "text": [
      "25/01/20 21:44:28 WARN ResolveWriteToStream: spark.sql.adaptive.enabled is not supported in streaming DataFrames/Datasets and will be disabled.\n",
      "25/01/20 21:44:28 WARN AdminClientConfig: These configurations '[key.deserializer, value.deserializer, enable.auto.commit, max.poll.records, auto.offset.reset]' were supplied but are not used yet.\n",
      "25/01/20 21:44:28 WARN AdminClientConfig: These configurations '[key.deserializer, value.deserializer, enable.auto.commit, max.poll.records, auto.offset.reset]' were supplied but are not used yet.\n",
      "ERROR:root:KeyboardInterrupt while sending command.                             \n",
      "Traceback (most recent call last):\n",
      "  File \"/home/ala/.local/lib/python3.10/site-packages/py4j/java_gateway.py\", line 1038, in send_command\n",
      "    response = connection.send_command(command)\n",
      "  File \"/home/ala/.local/lib/python3.10/site-packages/py4j/clientserver.py\", line 511, in send_command\n",
      "    answer = smart_decode(self.stream.readline()[:-1])\n",
      "  File \"/usr/lib/python3.10/socket.py\", line 705, in readinto\n",
      "    return self._sock.recv_into(b)\n",
      "KeyboardInterrupt\n"
     ]
    },
    {
     "ename": "KeyboardInterrupt",
     "evalue": "",
     "output_type": "error",
     "traceback": [
      "\u001b[0;31m---------------------------------------------------------------------------\u001b[0m",
      "\u001b[0;31mKeyboardInterrupt\u001b[0m                         Traceback (most recent call last)",
      "Cell \u001b[0;32mIn[70], line 9\u001b[0m\n\u001b[1;32m      1\u001b[0m query \u001b[38;5;241m=\u001b[39m joined_df\u001b[38;5;241m.\u001b[39mwriteStream \\\n\u001b[1;32m      2\u001b[0m     \u001b[38;5;241m.\u001b[39mformat(\u001b[38;5;124m\"\u001b[39m\u001b[38;5;124morg.apache.spark.sql.cassandra\u001b[39m\u001b[38;5;124m\"\u001b[39m) \\\n\u001b[1;32m      3\u001b[0m     \u001b[38;5;241m.\u001b[39moption(\u001b[38;5;124m\"\u001b[39m\u001b[38;5;124mkeyspace\u001b[39m\u001b[38;5;124m\"\u001b[39m, \u001b[38;5;124m\"\u001b[39m\u001b[38;5;124mtest\u001b[39m\u001b[38;5;124m\"\u001b[39m) \\\n\u001b[0;32m   (...)\u001b[0m\n\u001b[1;32m      7\u001b[0m     \u001b[38;5;241m.\u001b[39moption(\u001b[38;5;124m\"\u001b[39m\u001b[38;5;124mfailOnDataLoss\u001b[39m\u001b[38;5;124m\"\u001b[39m, \u001b[38;5;124m\"\u001b[39m\u001b[38;5;124mfalse\u001b[39m\u001b[38;5;124m\"\u001b[39m) \\\n\u001b[1;32m      8\u001b[0m     \u001b[38;5;241m.\u001b[39mstart()\n\u001b[0;32m----> 9\u001b[0m \u001b[43mquery\u001b[49m\u001b[38;5;241;43m.\u001b[39;49m\u001b[43mawaitTermination\u001b[49m\u001b[43m(\u001b[49m\u001b[43m)\u001b[49m\n",
      "File \u001b[0;32m~/.local/lib/python3.10/site-packages/pyspark/sql/streaming/query.py:221\u001b[0m, in \u001b[0;36mStreamingQuery.awaitTermination\u001b[0;34m(self, timeout)\u001b[0m\n\u001b[1;32m    219\u001b[0m     \u001b[38;5;28;01mreturn\u001b[39;00m \u001b[38;5;28mself\u001b[39m\u001b[38;5;241m.\u001b[39m_jsq\u001b[38;5;241m.\u001b[39mawaitTermination(\u001b[38;5;28mint\u001b[39m(timeout \u001b[38;5;241m*\u001b[39m \u001b[38;5;241m1000\u001b[39m))\n\u001b[1;32m    220\u001b[0m \u001b[38;5;28;01melse\u001b[39;00m:\n\u001b[0;32m--> 221\u001b[0m     \u001b[38;5;28;01mreturn\u001b[39;00m \u001b[38;5;28;43mself\u001b[39;49m\u001b[38;5;241;43m.\u001b[39;49m\u001b[43m_jsq\u001b[49m\u001b[38;5;241;43m.\u001b[39;49m\u001b[43mawaitTermination\u001b[49m\u001b[43m(\u001b[49m\u001b[43m)\u001b[49m\n",
      "File \u001b[0;32m~/.local/lib/python3.10/site-packages/py4j/java_gateway.py:1321\u001b[0m, in \u001b[0;36mJavaMember.__call__\u001b[0;34m(self, *args)\u001b[0m\n\u001b[1;32m   1314\u001b[0m args_command, temp_args \u001b[38;5;241m=\u001b[39m \u001b[38;5;28mself\u001b[39m\u001b[38;5;241m.\u001b[39m_build_args(\u001b[38;5;241m*\u001b[39margs)\n\u001b[1;32m   1316\u001b[0m command \u001b[38;5;241m=\u001b[39m proto\u001b[38;5;241m.\u001b[39mCALL_COMMAND_NAME \u001b[38;5;241m+\u001b[39m\\\n\u001b[1;32m   1317\u001b[0m     \u001b[38;5;28mself\u001b[39m\u001b[38;5;241m.\u001b[39mcommand_header \u001b[38;5;241m+\u001b[39m\\\n\u001b[1;32m   1318\u001b[0m     args_command \u001b[38;5;241m+\u001b[39m\\\n\u001b[1;32m   1319\u001b[0m     proto\u001b[38;5;241m.\u001b[39mEND_COMMAND_PART\n\u001b[0;32m-> 1321\u001b[0m answer \u001b[38;5;241m=\u001b[39m \u001b[38;5;28;43mself\u001b[39;49m\u001b[38;5;241;43m.\u001b[39;49m\u001b[43mgateway_client\u001b[49m\u001b[38;5;241;43m.\u001b[39;49m\u001b[43msend_command\u001b[49m\u001b[43m(\u001b[49m\u001b[43mcommand\u001b[49m\u001b[43m)\u001b[49m\n\u001b[1;32m   1322\u001b[0m return_value \u001b[38;5;241m=\u001b[39m get_return_value(\n\u001b[1;32m   1323\u001b[0m     answer, \u001b[38;5;28mself\u001b[39m\u001b[38;5;241m.\u001b[39mgateway_client, \u001b[38;5;28mself\u001b[39m\u001b[38;5;241m.\u001b[39mtarget_id, \u001b[38;5;28mself\u001b[39m\u001b[38;5;241m.\u001b[39mname)\n\u001b[1;32m   1325\u001b[0m \u001b[38;5;28;01mfor\u001b[39;00m temp_arg \u001b[38;5;129;01min\u001b[39;00m temp_args:\n",
      "File \u001b[0;32m~/.local/lib/python3.10/site-packages/py4j/java_gateway.py:1038\u001b[0m, in \u001b[0;36mGatewayClient.send_command\u001b[0;34m(self, command, retry, binary)\u001b[0m\n\u001b[1;32m   1036\u001b[0m connection \u001b[38;5;241m=\u001b[39m \u001b[38;5;28mself\u001b[39m\u001b[38;5;241m.\u001b[39m_get_connection()\n\u001b[1;32m   1037\u001b[0m \u001b[38;5;28;01mtry\u001b[39;00m:\n\u001b[0;32m-> 1038\u001b[0m     response \u001b[38;5;241m=\u001b[39m \u001b[43mconnection\u001b[49m\u001b[38;5;241;43m.\u001b[39;49m\u001b[43msend_command\u001b[49m\u001b[43m(\u001b[49m\u001b[43mcommand\u001b[49m\u001b[43m)\u001b[49m\n\u001b[1;32m   1039\u001b[0m     \u001b[38;5;28;01mif\u001b[39;00m binary:\n\u001b[1;32m   1040\u001b[0m         \u001b[38;5;28;01mreturn\u001b[39;00m response, \u001b[38;5;28mself\u001b[39m\u001b[38;5;241m.\u001b[39m_create_connection_guard(connection)\n",
      "File \u001b[0;32m~/.local/lib/python3.10/site-packages/py4j/clientserver.py:511\u001b[0m, in \u001b[0;36mClientServerConnection.send_command\u001b[0;34m(self, command)\u001b[0m\n\u001b[1;32m    509\u001b[0m \u001b[38;5;28;01mtry\u001b[39;00m:\n\u001b[1;32m    510\u001b[0m     \u001b[38;5;28;01mwhile\u001b[39;00m \u001b[38;5;28;01mTrue\u001b[39;00m:\n\u001b[0;32m--> 511\u001b[0m         answer \u001b[38;5;241m=\u001b[39m smart_decode(\u001b[38;5;28;43mself\u001b[39;49m\u001b[38;5;241;43m.\u001b[39;49m\u001b[43mstream\u001b[49m\u001b[38;5;241;43m.\u001b[39;49m\u001b[43mreadline\u001b[49m\u001b[43m(\u001b[49m\u001b[43m)\u001b[49m[:\u001b[38;5;241m-\u001b[39m\u001b[38;5;241m1\u001b[39m])\n\u001b[1;32m    512\u001b[0m         logger\u001b[38;5;241m.\u001b[39mdebug(\u001b[38;5;124m\"\u001b[39m\u001b[38;5;124mAnswer received: \u001b[39m\u001b[38;5;132;01m{0}\u001b[39;00m\u001b[38;5;124m\"\u001b[39m\u001b[38;5;241m.\u001b[39mformat(answer))\n\u001b[1;32m    513\u001b[0m         \u001b[38;5;66;03m# Happens when a the other end is dead. There might be an empty\u001b[39;00m\n\u001b[1;32m    514\u001b[0m         \u001b[38;5;66;03m# answer before the socket raises an error.\u001b[39;00m\n",
      "File \u001b[0;32m/usr/lib/python3.10/socket.py:705\u001b[0m, in \u001b[0;36mSocketIO.readinto\u001b[0;34m(self, b)\u001b[0m\n\u001b[1;32m    703\u001b[0m \u001b[38;5;28;01mwhile\u001b[39;00m \u001b[38;5;28;01mTrue\u001b[39;00m:\n\u001b[1;32m    704\u001b[0m     \u001b[38;5;28;01mtry\u001b[39;00m:\n\u001b[0;32m--> 705\u001b[0m         \u001b[38;5;28;01mreturn\u001b[39;00m \u001b[38;5;28;43mself\u001b[39;49m\u001b[38;5;241;43m.\u001b[39;49m\u001b[43m_sock\u001b[49m\u001b[38;5;241;43m.\u001b[39;49m\u001b[43mrecv_into\u001b[49m\u001b[43m(\u001b[49m\u001b[43mb\u001b[49m\u001b[43m)\u001b[49m\n\u001b[1;32m    706\u001b[0m     \u001b[38;5;28;01mexcept\u001b[39;00m timeout:\n\u001b[1;32m    707\u001b[0m         \u001b[38;5;28mself\u001b[39m\u001b[38;5;241m.\u001b[39m_timeout_occurred \u001b[38;5;241m=\u001b[39m \u001b[38;5;28;01mTrue\u001b[39;00m\n",
      "\u001b[0;31mKeyboardInterrupt\u001b[0m: "
     ]
    }
   ],
   "source": [
    "query = joined_df.writeStream \\\n",
    "    .format(\"org.apache.spark.sql.cassandra\") \\\n",
    "    .option(\"keyspace\", \"test\") \\\n",
    "    .option(\"table\", \"vehicle_data_st\") \\\n",
    "    .outputMode(\"append\") \\\n",
    "    .option(\"checkpointLocation\", \"chetest\") \\\n",
    "    .option(\"failOnDataLoss\", \"false\") \\\n",
    "    .start()\n",
    "query.awaitTermination()"
   ]
  },
  {
   "cell_type": "code",
   "execution_count": 242,
   "metadata": {},
   "outputs": [
    {
     "name": "stderr",
     "output_type": "stream",
     "text": [
      "25/01/20 14:33:47 WARN ResolveWriteToStream: Temporary checkpoint location created which is deleted normally when the query didn't fail: /tmp/temporary-cd4a1bf6-9d8d-4dc7-bd77-d3c496bdf55b. If it's required to delete it under any circumstances, please set spark.sql.streaming.forceDeleteTempCheckpointLocation to true. Important to know deleting temp checkpoint folder is best effort.\n",
      "25/01/20 14:33:47 WARN ResolveWriteToStream: spark.sql.adaptive.enabled is not supported in streaming DataFrames/Datasets and will be disabled.\n",
      "25/01/20 14:33:47 WARN AdminClientConfig: These configurations '[key.deserializer, value.deserializer, enable.auto.commit, max.poll.records, auto.offset.reset]' were supplied but are not used yet.\n",
      "25/01/20 14:33:47 WARN AdminClientConfig: These configurations '[key.deserializer, value.deserializer, enable.auto.commit, max.poll.records, auto.offset.reset]' were supplied but are not used yet.\n",
      "                                                                                \r"
     ]
    },
    {
     "name": "stdout",
     "output_type": "stream",
     "text": [
      "-------------------------------------------\n",
      "Batch: 0\n",
      "-------------------------------------------\n",
      "+--------------------------+------------+--------+----+------------------------+----+-----+---------+---------+--------+----------+----------+-------------------+-------------------+\n",
      "|trip_id                   |vehicle_type|nextstop|desi|tst                     |dl  |spd  |lat      |long     |route_id|start_date|start_time|arrival_time       |departure_time     |\n",
      "+--------------------------+------------+--------+----+------------------------+----+-----+---------+---------+--------+----------+----------+-------------------+-------------------+\n",
      "|1059_2025-01-20_14:21:00_1|bus         |1333182 |59  |2025-01-20T13:13:04.755Z|-51 |8.29 |60.250694|24.851788|1059    |2025-01-20|14:21:00  |2025-01-20 13:19:24|2025-01-20 13:21:17|\n",
      "|1059_2025-01-20_14:21:00_1|bus         |1333182 |59  |2025-01-20T13:13:05.755Z|-51 |8.06 |60.250753|24.851699|1059    |2025-01-20|14:21:00  |2025-01-20 13:19:24|2025-01-20 13:21:17|\n",
      "|1059_2025-01-20_14:21:00_1|bus         |1333182 |59  |2025-01-20T13:13:06.755Z|-51 |7.83 |60.250811|24.851613|1059    |2025-01-20|14:21:00  |2025-01-20 13:19:24|2025-01-20 13:21:17|\n",
      "|1059_2025-01-20_14:21:00_1|bus         |1333182 |59  |2025-01-20T13:13:07.754Z|-51 |7.75 |60.250868|24.851529|1059    |2025-01-20|14:21:00  |2025-01-20 13:19:24|2025-01-20 13:21:17|\n",
      "|1059_2025-01-20_14:21:00_1|bus         |1333182 |59  |2025-01-20T13:13:04.755Z|-51 |8.29 |60.250694|24.851788|1059    |2025-01-20|14:21:00  |2025-01-20 13:19:24|2025-01-20 13:21:17|\n",
      "|1059_2025-01-20_14:21:00_1|bus         |1333182 |59  |2025-01-20T13:13:05.755Z|-51 |8.06 |60.250753|24.851699|1059    |2025-01-20|14:21:00  |2025-01-20 13:19:24|2025-01-20 13:21:17|\n",
      "|1059_2025-01-20_14:21:00_1|bus         |1333182 |59  |2025-01-20T13:13:06.755Z|-51 |7.83 |60.250811|24.851613|1059    |2025-01-20|14:21:00  |2025-01-20 13:19:24|2025-01-20 13:21:17|\n",
      "|1059_2025-01-20_14:21:00_1|bus         |1333182 |59  |2025-01-20T13:13:07.754Z|-51 |7.75 |60.250868|24.851529|1059    |2025-01-20|14:21:00  |2025-01-20 13:19:24|2025-01-20 13:21:17|\n",
      "|6901_2025-01-20_14:00:00_1|bus         |6110203 |901 |2025-01-20T12:28:24.251Z|-42 |11.82|60.072227|24.601235|6901    |2025-01-20|14:00:00  |2025-01-20 12:56:14|2025-01-20 13:00:09|\n",
      "|6901_2025-01-20_14:00:00_1|bus         |6110203 |901 |2025-01-20T12:28:25.251Z|-42 |10.61|60.072127|24.601263|6901    |2025-01-20|14:00:00  |2025-01-20 12:56:14|2025-01-20 13:00:09|\n",
      "|6901_2025-01-20_14:00:00_1|bus         |6110203 |901 |2025-01-20T12:28:26.252Z|-42 |10.03|60.072033|24.601277|6901    |2025-01-20|14:00:00  |2025-01-20 12:56:14|2025-01-20 13:00:09|\n",
      "|6901_2025-01-20_14:00:00_1|bus         |6110203 |901 |2025-01-20T12:28:27.251Z|-42 |9.99 |60.07194 |24.601277|6901    |2025-01-20|14:00:00  |2025-01-20 12:56:14|2025-01-20 13:00:09|\n",
      "|6901_2025-01-20_14:00:00_1|bus         |6110203 |901 |2025-01-20T12:28:24.251Z|-42 |11.82|60.072227|24.601235|6901    |2025-01-20|14:00:00  |2025-01-20 12:56:14|2025-01-20 13:00:09|\n",
      "|6901_2025-01-20_14:00:00_1|bus         |6110203 |901 |2025-01-20T12:28:25.251Z|-42 |10.61|60.072127|24.601263|6901    |2025-01-20|14:00:00  |2025-01-20 12:56:14|2025-01-20 13:00:09|\n",
      "|6901_2025-01-20_14:00:00_1|bus         |6110203 |901 |2025-01-20T12:28:26.252Z|-42 |10.03|60.072033|24.601277|6901    |2025-01-20|14:00:00  |2025-01-20 12:56:14|2025-01-20 13:00:09|\n",
      "|6901_2025-01-20_14:00:00_1|bus         |6110203 |901 |2025-01-20T12:28:27.251Z|-42 |9.99 |60.07194 |24.601277|6901    |2025-01-20|14:00:00  |2025-01-20 12:56:14|2025-01-20 13:00:09|\n",
      "|4721_2025-01-20_13:32:00_1|bus         |4740230 |721 |2025-01-20T12:28:24.251Z|-427|10.42|60.322572|25.08305 |4721    |2025-01-20|13:32:00  |2025-01-20 12:48:52|2025-01-20 12:48:52|\n",
      "|4721_2025-01-20_13:32:00_1|bus         |4740230 |721 |2025-01-20T12:28:25.252Z|-427|9.29 |60.322491|25.08298 |4721    |2025-01-20|13:32:00  |2025-01-20 12:48:52|2025-01-20 12:48:52|\n",
      "|4721_2025-01-20_13:32:00_1|bus         |4740230 |721 |2025-01-20T12:28:26.252Z|-427|8.03 |60.322421|25.082915|4721    |2025-01-20|13:32:00  |2025-01-20 12:48:52|2025-01-20 12:48:52|\n",
      "|4721_2025-01-20_13:32:00_1|bus         |4740230 |721 |2025-01-20T12:28:27.252Z|-427|6.68 |60.322364|25.082853|4721    |2025-01-20|13:32:00  |2025-01-20 12:48:52|2025-01-20 12:48:52|\n",
      "+--------------------------+------------+--------+----+------------------------+----+-----+---------+---------+--------+----------+----------+-------------------+-------------------+\n",
      "only showing top 20 rows\n",
      "\n"
     ]
    },
    {
     "name": "stderr",
     "output_type": "stream",
     "text": [
      "ERROR:root:KeyboardInterrupt while sending command.\n",
      "Traceback (most recent call last):\n",
      "  File \"/home/ala/.local/lib/python3.10/site-packages/py4j/java_gateway.py\", line 1038, in send_command\n",
      "    response = connection.send_command(command)\n",
      "  File \"/home/ala/.local/lib/python3.10/site-packages/py4j/clientserver.py\", line 511, in send_command\n",
      "    answer = smart_decode(self.stream.readline()[:-1])\n",
      "  File \"/usr/lib/python3.10/socket.py\", line 705, in readinto\n",
      "    return self._sock.recv_into(b)\n",
      "KeyboardInterrupt\n"
     ]
    },
    {
     "ename": "KeyboardInterrupt",
     "evalue": "",
     "output_type": "error",
     "traceback": [
      "\u001b[0;31m---------------------------------------------------------------------------\u001b[0m",
      "\u001b[0;31mKeyboardInterrupt\u001b[0m                         Traceback (most recent call last)",
      "Cell \u001b[0;32mIn[242], line 6\u001b[0m\n\u001b[1;32m      1\u001b[0m query \u001b[38;5;241m=\u001b[39m joined_df\u001b[38;5;241m.\u001b[39mwriteStream \\\n\u001b[1;32m      2\u001b[0m     \u001b[38;5;241m.\u001b[39moutputMode(\u001b[38;5;124m\"\u001b[39m\u001b[38;5;124mappend\u001b[39m\u001b[38;5;124m\"\u001b[39m) \\\n\u001b[1;32m      3\u001b[0m     \u001b[38;5;241m.\u001b[39mformat(\u001b[38;5;124m\"\u001b[39m\u001b[38;5;124mconsole\u001b[39m\u001b[38;5;124m\"\u001b[39m) \\\n\u001b[1;32m      4\u001b[0m     \u001b[38;5;241m.\u001b[39moption(\u001b[38;5;124m\"\u001b[39m\u001b[38;5;124mtruncate\u001b[39m\u001b[38;5;124m\"\u001b[39m, \u001b[38;5;28;01mFalse\u001b[39;00m) \\\n\u001b[1;32m      5\u001b[0m     \u001b[38;5;241m.\u001b[39mstart()\n\u001b[0;32m----> 6\u001b[0m \u001b[43mquery\u001b[49m\u001b[38;5;241;43m.\u001b[39;49m\u001b[43mawaitTermination\u001b[49m\u001b[43m(\u001b[49m\u001b[43m)\u001b[49m\n",
      "File \u001b[0;32m~/.local/lib/python3.10/site-packages/pyspark/sql/streaming/query.py:221\u001b[0m, in \u001b[0;36mStreamingQuery.awaitTermination\u001b[0;34m(self, timeout)\u001b[0m\n\u001b[1;32m    219\u001b[0m     \u001b[38;5;28;01mreturn\u001b[39;00m \u001b[38;5;28mself\u001b[39m\u001b[38;5;241m.\u001b[39m_jsq\u001b[38;5;241m.\u001b[39mawaitTermination(\u001b[38;5;28mint\u001b[39m(timeout \u001b[38;5;241m*\u001b[39m \u001b[38;5;241m1000\u001b[39m))\n\u001b[1;32m    220\u001b[0m \u001b[38;5;28;01melse\u001b[39;00m:\n\u001b[0;32m--> 221\u001b[0m     \u001b[38;5;28;01mreturn\u001b[39;00m \u001b[38;5;28;43mself\u001b[39;49m\u001b[38;5;241;43m.\u001b[39;49m\u001b[43m_jsq\u001b[49m\u001b[38;5;241;43m.\u001b[39;49m\u001b[43mawaitTermination\u001b[49m\u001b[43m(\u001b[49m\u001b[43m)\u001b[49m\n",
      "File \u001b[0;32m~/.local/lib/python3.10/site-packages/py4j/java_gateway.py:1321\u001b[0m, in \u001b[0;36mJavaMember.__call__\u001b[0;34m(self, *args)\u001b[0m\n\u001b[1;32m   1314\u001b[0m args_command, temp_args \u001b[38;5;241m=\u001b[39m \u001b[38;5;28mself\u001b[39m\u001b[38;5;241m.\u001b[39m_build_args(\u001b[38;5;241m*\u001b[39margs)\n\u001b[1;32m   1316\u001b[0m command \u001b[38;5;241m=\u001b[39m proto\u001b[38;5;241m.\u001b[39mCALL_COMMAND_NAME \u001b[38;5;241m+\u001b[39m\\\n\u001b[1;32m   1317\u001b[0m     \u001b[38;5;28mself\u001b[39m\u001b[38;5;241m.\u001b[39mcommand_header \u001b[38;5;241m+\u001b[39m\\\n\u001b[1;32m   1318\u001b[0m     args_command \u001b[38;5;241m+\u001b[39m\\\n\u001b[1;32m   1319\u001b[0m     proto\u001b[38;5;241m.\u001b[39mEND_COMMAND_PART\n\u001b[0;32m-> 1321\u001b[0m answer \u001b[38;5;241m=\u001b[39m \u001b[38;5;28;43mself\u001b[39;49m\u001b[38;5;241;43m.\u001b[39;49m\u001b[43mgateway_client\u001b[49m\u001b[38;5;241;43m.\u001b[39;49m\u001b[43msend_command\u001b[49m\u001b[43m(\u001b[49m\u001b[43mcommand\u001b[49m\u001b[43m)\u001b[49m\n\u001b[1;32m   1322\u001b[0m return_value \u001b[38;5;241m=\u001b[39m get_return_value(\n\u001b[1;32m   1323\u001b[0m     answer, \u001b[38;5;28mself\u001b[39m\u001b[38;5;241m.\u001b[39mgateway_client, \u001b[38;5;28mself\u001b[39m\u001b[38;5;241m.\u001b[39mtarget_id, \u001b[38;5;28mself\u001b[39m\u001b[38;5;241m.\u001b[39mname)\n\u001b[1;32m   1325\u001b[0m \u001b[38;5;28;01mfor\u001b[39;00m temp_arg \u001b[38;5;129;01min\u001b[39;00m temp_args:\n",
      "File \u001b[0;32m~/.local/lib/python3.10/site-packages/py4j/java_gateway.py:1038\u001b[0m, in \u001b[0;36mGatewayClient.send_command\u001b[0;34m(self, command, retry, binary)\u001b[0m\n\u001b[1;32m   1036\u001b[0m connection \u001b[38;5;241m=\u001b[39m \u001b[38;5;28mself\u001b[39m\u001b[38;5;241m.\u001b[39m_get_connection()\n\u001b[1;32m   1037\u001b[0m \u001b[38;5;28;01mtry\u001b[39;00m:\n\u001b[0;32m-> 1038\u001b[0m     response \u001b[38;5;241m=\u001b[39m \u001b[43mconnection\u001b[49m\u001b[38;5;241;43m.\u001b[39;49m\u001b[43msend_command\u001b[49m\u001b[43m(\u001b[49m\u001b[43mcommand\u001b[49m\u001b[43m)\u001b[49m\n\u001b[1;32m   1039\u001b[0m     \u001b[38;5;28;01mif\u001b[39;00m binary:\n\u001b[1;32m   1040\u001b[0m         \u001b[38;5;28;01mreturn\u001b[39;00m response, \u001b[38;5;28mself\u001b[39m\u001b[38;5;241m.\u001b[39m_create_connection_guard(connection)\n",
      "File \u001b[0;32m~/.local/lib/python3.10/site-packages/py4j/clientserver.py:511\u001b[0m, in \u001b[0;36mClientServerConnection.send_command\u001b[0;34m(self, command)\u001b[0m\n\u001b[1;32m    509\u001b[0m \u001b[38;5;28;01mtry\u001b[39;00m:\n\u001b[1;32m    510\u001b[0m     \u001b[38;5;28;01mwhile\u001b[39;00m \u001b[38;5;28;01mTrue\u001b[39;00m:\n\u001b[0;32m--> 511\u001b[0m         answer \u001b[38;5;241m=\u001b[39m smart_decode(\u001b[38;5;28;43mself\u001b[39;49m\u001b[38;5;241;43m.\u001b[39;49m\u001b[43mstream\u001b[49m\u001b[38;5;241;43m.\u001b[39;49m\u001b[43mreadline\u001b[49m\u001b[43m(\u001b[49m\u001b[43m)\u001b[49m[:\u001b[38;5;241m-\u001b[39m\u001b[38;5;241m1\u001b[39m])\n\u001b[1;32m    512\u001b[0m         logger\u001b[38;5;241m.\u001b[39mdebug(\u001b[38;5;124m\"\u001b[39m\u001b[38;5;124mAnswer received: \u001b[39m\u001b[38;5;132;01m{0}\u001b[39;00m\u001b[38;5;124m\"\u001b[39m\u001b[38;5;241m.\u001b[39mformat(answer))\n\u001b[1;32m    513\u001b[0m         \u001b[38;5;66;03m# Happens when a the other end is dead. There might be an empty\u001b[39;00m\n\u001b[1;32m    514\u001b[0m         \u001b[38;5;66;03m# answer before the socket raises an error.\u001b[39;00m\n",
      "File \u001b[0;32m/usr/lib/python3.10/socket.py:705\u001b[0m, in \u001b[0;36mSocketIO.readinto\u001b[0;34m(self, b)\u001b[0m\n\u001b[1;32m    703\u001b[0m \u001b[38;5;28;01mwhile\u001b[39;00m \u001b[38;5;28;01mTrue\u001b[39;00m:\n\u001b[1;32m    704\u001b[0m     \u001b[38;5;28;01mtry\u001b[39;00m:\n\u001b[0;32m--> 705\u001b[0m         \u001b[38;5;28;01mreturn\u001b[39;00m \u001b[38;5;28;43mself\u001b[39;49m\u001b[38;5;241;43m.\u001b[39;49m\u001b[43m_sock\u001b[49m\u001b[38;5;241;43m.\u001b[39;49m\u001b[43mrecv_into\u001b[49m\u001b[43m(\u001b[49m\u001b[43mb\u001b[49m\u001b[43m)\u001b[49m\n\u001b[1;32m    706\u001b[0m     \u001b[38;5;28;01mexcept\u001b[39;00m timeout:\n\u001b[1;32m    707\u001b[0m         \u001b[38;5;28mself\u001b[39m\u001b[38;5;241m.\u001b[39m_timeout_occurred \u001b[38;5;241m=\u001b[39m \u001b[38;5;28;01mTrue\u001b[39;00m\n",
      "\u001b[0;31mKeyboardInterrupt\u001b[0m: "
     ]
    }
   ],
   "source": [
    "query = joined_df.writeStream \\\n",
    "    .outputMode(\"append\") \\\n",
    "    .format(\"console\") \\\n",
    "    .option(\"truncate\", False) \\\n",
    "    .start()\n",
    "query.awaitTermination()"
   ]
  },
  {
   "cell_type": "code",
   "execution_count": 33,
   "metadata": {},
   "outputs": [
    {
     "name": "stderr",
     "output_type": "stream",
     "text": [
      "25/01/20 13:09:26 WARN ResolveWriteToStream: Temporary checkpoint location created which is deleted normally when the query didn't fail: /tmp/temporary-fcb0493c-c5e5-42db-9d49-3d21599ab5d3. If it's required to delete it under any circumstances, please set spark.sql.streaming.forceDeleteTempCheckpointLocation to true. Important to know deleting temp checkpoint folder is best effort.\n",
      "25/01/20 13:09:26 WARN ResolveWriteToStream: spark.sql.adaptive.enabled is not supported in streaming DataFrames/Datasets and will be disabled.\n",
      "25/01/20 13:09:26 WARN AdminClientConfig: These configurations '[key.deserializer, value.deserializer, enable.auto.commit, max.poll.records, auto.offset.reset]' were supplied but are not used yet.\n"
     ]
    },
    {
     "name": "stdout",
     "output_type": "stream",
     "text": [
      "-------------------------------------------\n",
      "Batch: 0\n",
      "-------------------------------------------\n",
      "+------------+--------+----+---+----+----+------------------------+----------+-----+----+---------+---------+-----+------+-----+----+----------+----+----+-----+---+-------+-----+----+------------------------+\n",
      "|vehicle_type|nextStop|desi|dir|oper|veh |tst                     |tsi       |spd  |hdg |lat      |long     |acc  |dl    |odo  |drst|oday      |jrn |line|start|loc|stop   |route|occu|trip_id                 |\n",
      "+------------+--------+----+---+----+----+------------------------+----------+-----+----+---------+---------+-----+------+-----+----+----------+----+----+-----+---+-------+-----+----+------------------------+\n",
      "|bus         |1383181 |71  |2  |22  |1186|2025-01-20T10:39:28.008Z|1737369568|0.0  |60  |60.240936|24.998722|0.0  |-12   |1804 |0   |2025-01-20|1362|94  |12:35|GPS|1383181|1071 |0   |1071_2025-01-20_12:35_2 |\n",
      "|bus         |6040226 |171 |1  |6   |293 |2025-01-20T10:39:28.009Z|1737369568|12.19|302 |60.126188|24.467279|-0.21|55    |18438|0   |2025-01-20|446 |676 |12:08|GPS|NULL   |6171 |0   |6171_2025-01-20_12:08_1 |\n",
      "|bus         |6100200 |918 |1  |64  |100 |2025-01-20T10:39:28.009Z|1737369568|5.33 |173 |60.122646|24.442762|-0.08|-20366|NULL |NULL|2025-01-20|1   |689 |07:00|GPS|NULL   |6918 |0   |6918_2025-01-20_07:00_1 |\n",
      "|bus         |4330222 |444T|1  |51  |196 |2025-01-20T10:39:28.009Z|1737369568|6.74 |209 |60.354658|24.839275|-1.54|-113  |NULL |NULL|2025-01-20|185 |814 |12:19|GPS|NULL   |4444T|0   |4444T_2025-01-20_12:19_1|\n",
      "|bus         |6300216 |913B|1  |64  |205 |2025-01-20T10:39:27.998Z|1737369567|13.84|106 |60.114827|24.250088|0.0  |-63   |NULL |NULL|2025-01-20|30  |1035|12:35|GPS|NULL   |6913B|0   |6913B_2025-01-20_12:35_1|\n",
      "|tram        |1020402 |2   |2  |40  |116 |2025-01-20T10:39:28.012Z|1737369568|3.24 |177 |60.169847|24.945265|0.66 |-180  |6494 |0   |2025-01-20|3547|30  |12:05|GPS|1020402|1002 |0   |1002_2025-01-20_12:05_2 |\n",
      "|bus         |3170240 |549 |2  |22  |1439|2025-01-20T10:39:28.006Z|1737369568|2.5  |162 |60.210764|24.729375|0.75 |-10   |4237 |0   |2025-01-20|501 |875 |12:29|GPS|3170240|2549 |0   |2549_2025-01-20_12:29_2 |\n",
      "|bus         |1250115 |57  |2  |22  |1107|2025-01-20T10:39:27.995Z|1737369567|7.35 |55  |60.212656|24.956863|0.52 |-17   |5899 |0   |2025-01-20|1188|74  |12:22|GPS|1250115|1057 |0   |1057_2025-01-20_12:22_2 |\n",
      "|bus         |6010217 |907 |2  |6   |958 |2025-01-20T10:39:27.995Z|1737369567|13.74|218 |60.192222|24.470489|-0.06|-55   |15802|0   |2025-01-20|41  |684 |12:15|GPS|NULL   |6907 |0   |6907_2025-01-20_12:15_2 |\n",
      "|bus         |2132245 |114 |1  |12  |1541|2025-01-20T10:39:28.019Z|1737369568|0.0  |79  |60.216856|24.786875|0.0  |-79   |12621|1   |2025-01-20|158 |857 |12:04|GPS|2132245|2114 |0   |2114_2025-01-20_12:04_1 |\n",
      "|tram        |1140453 |2   |2  |40  |442 |2025-01-20T10:39:28.030Z|1737369568|6.69 |193 |60.184013|24.931715|0.98 |49    |3224 |0   |2025-01-20|3586|30  |12:25|GPS|1140453|1002 |0   |1002_2025-01-20_12:25_2 |\n",
      "|tram        |1282404 |15  |2  |40  |620 |2025-01-20T10:39:28.023Z|1737369568|2.28 |89  |60.234065|24.929941|-0.95|-22   |14476|0   |2025-01-20|1229|1142|12:03|GPS|1282404|2015 |0   |2015_2025-01-20_12:03_2 |\n",
      "|tram        |1220415 |10  |2  |40  |106 |2025-01-20T10:39:28.048Z|1737369568|NULL |NULL|NULL     |NULL     |NULL |0     |741  |0   |2025-01-20|3481|40  |12:35|GPS|NULL   |1010 |0   |1010_2025-01-20_12:35_2 |\n",
      "|bus         |4810240 |739 |1  |12  |1124|2025-01-20T10:39:28.067Z|1737369568|4.84 |148 |60.351156|25.077416|-0.74|92    |33478|0   |2025-01-20|980 |774 |11:37|GPS|4810240|4739 |0   |4739_2025-01-20_11:37_1 |\n",
      "|bus         |4130209 |335 |2  |22  |920 |2025-01-20T10:39:28.047Z|1737369568|4.23 |129 |60.259309|24.834542|-0.32|71    |7563 |0   |2025-01-20|1113|791 |12:23|GPS|NULL   |4335 |0   |4335_2025-01-20_12:23_2 |\n",
      "|bus         |2715295 |583 |1  |17  |16  |2025-01-20T10:39:28.070Z|1737369568|11.65|329 |60.269135|24.760056|0.59 |31    |18719|0   |2025-01-20|599 |1095|12:05|GPS|NULL   |5583 |0   |5583_2025-01-20_12:05_1 |\n",
      "|tram        |1203405 |7   |2  |40  |430 |2025-01-20T10:39:28.066Z|1737369568|3.29 |246 |60.160175|24.921263|-0.2 |-108  |9453 |0   |2025-01-20|2950|992 |11:51|GPS|NULL   |1007 |0   |1007_2025-01-20_11:51_2 |\n",
      "|tram        |1220403 |8   |1  |40  |424 |2025-01-20T10:39:28.071Z|1737369568|7.56 |355 |60.198304|24.961832|-0.52|-26   |7040 |0   |2025-01-20|775 |38  |12:08|GPS|1220403|1008 |0   |1008_2025-01-20_12:08_1 |\n",
      "|tram        |2222405 |15  |1  |40  |602 |2025-01-20T10:39:28.085Z|1737369568|5.92 |166 |60.185693|24.826439|0.04 |-76   |23342|0   |2025-01-20|1149|1142|11:43|GPS|NULL   |2015 |0   |2015_2025-01-20_11:43_1 |\n",
      "|bus         |1471136 |57  |1  |22  |1436|2025-01-20T10:39:28.068Z|1737369568|0.0  |272 |60.239776|25.073936|-0.01|39    |668  |1   |2025-01-20|357 |74  |12:38|GPS|1471136|1057 |0   |1057_2025-01-20_12:38_1 |\n",
      "+------------+--------+----+---+----+----+------------------------+----------+-----+----+---------+---------+-----+------+-----+----+----------+----+----+-----+---+-------+-----+----+------------------------+\n",
      "only showing top 20 rows\n",
      "\n"
     ]
    },
    {
     "name": "stderr",
     "output_type": "stream",
     "text": [
      "ERROR:root:KeyboardInterrupt while sending command.\n",
      "Traceback (most recent call last):\n",
      "  File \"/home/ala/.local/lib/python3.10/site-packages/py4j/java_gateway.py\", line 1038, in send_command\n",
      "    response = connection.send_command(command)\n",
      "  File \"/home/ala/.local/lib/python3.10/site-packages/py4j/clientserver.py\", line 511, in send_command\n",
      "    answer = smart_decode(self.stream.readline()[:-1])\n",
      "  File \"/usr/lib/python3.10/socket.py\", line 705, in readinto\n",
      "    return self._sock.recv_into(b)\n",
      "KeyboardInterrupt\n"
     ]
    },
    {
     "ename": "KeyboardInterrupt",
     "evalue": "",
     "output_type": "error",
     "traceback": [
      "\u001b[0;31m---------------------------------------------------------------------------\u001b[0m",
      "\u001b[0;31mKeyboardInterrupt\u001b[0m                         Traceback (most recent call last)",
      "Cell \u001b[0;32mIn[33], line 6\u001b[0m\n\u001b[1;32m      1\u001b[0m query \u001b[38;5;241m=\u001b[39m flattened_df_vp\u001b[38;5;241m.\u001b[39mwriteStream \\\n\u001b[1;32m      2\u001b[0m     \u001b[38;5;241m.\u001b[39moutputMode(\u001b[38;5;124m\"\u001b[39m\u001b[38;5;124mappend\u001b[39m\u001b[38;5;124m\"\u001b[39m) \\\n\u001b[1;32m      3\u001b[0m     \u001b[38;5;241m.\u001b[39mformat(\u001b[38;5;124m\"\u001b[39m\u001b[38;5;124mconsole\u001b[39m\u001b[38;5;124m\"\u001b[39m) \\\n\u001b[1;32m      4\u001b[0m     \u001b[38;5;241m.\u001b[39moption(\u001b[38;5;124m\"\u001b[39m\u001b[38;5;124mtruncate\u001b[39m\u001b[38;5;124m\"\u001b[39m, \u001b[38;5;28;01mFalse\u001b[39;00m) \\\n\u001b[1;32m      5\u001b[0m     \u001b[38;5;241m.\u001b[39mstart()\n\u001b[0;32m----> 6\u001b[0m \u001b[43mquery\u001b[49m\u001b[38;5;241;43m.\u001b[39;49m\u001b[43mawaitTermination\u001b[49m\u001b[43m(\u001b[49m\u001b[43m)\u001b[49m\n",
      "File \u001b[0;32m~/.local/lib/python3.10/site-packages/pyspark/sql/streaming/query.py:221\u001b[0m, in \u001b[0;36mStreamingQuery.awaitTermination\u001b[0;34m(self, timeout)\u001b[0m\n\u001b[1;32m    219\u001b[0m     \u001b[38;5;28;01mreturn\u001b[39;00m \u001b[38;5;28mself\u001b[39m\u001b[38;5;241m.\u001b[39m_jsq\u001b[38;5;241m.\u001b[39mawaitTermination(\u001b[38;5;28mint\u001b[39m(timeout \u001b[38;5;241m*\u001b[39m \u001b[38;5;241m1000\u001b[39m))\n\u001b[1;32m    220\u001b[0m \u001b[38;5;28;01melse\u001b[39;00m:\n\u001b[0;32m--> 221\u001b[0m     \u001b[38;5;28;01mreturn\u001b[39;00m \u001b[38;5;28;43mself\u001b[39;49m\u001b[38;5;241;43m.\u001b[39;49m\u001b[43m_jsq\u001b[49m\u001b[38;5;241;43m.\u001b[39;49m\u001b[43mawaitTermination\u001b[49m\u001b[43m(\u001b[49m\u001b[43m)\u001b[49m\n",
      "File \u001b[0;32m~/.local/lib/python3.10/site-packages/py4j/java_gateway.py:1321\u001b[0m, in \u001b[0;36mJavaMember.__call__\u001b[0;34m(self, *args)\u001b[0m\n\u001b[1;32m   1314\u001b[0m args_command, temp_args \u001b[38;5;241m=\u001b[39m \u001b[38;5;28mself\u001b[39m\u001b[38;5;241m.\u001b[39m_build_args(\u001b[38;5;241m*\u001b[39margs)\n\u001b[1;32m   1316\u001b[0m command \u001b[38;5;241m=\u001b[39m proto\u001b[38;5;241m.\u001b[39mCALL_COMMAND_NAME \u001b[38;5;241m+\u001b[39m\\\n\u001b[1;32m   1317\u001b[0m     \u001b[38;5;28mself\u001b[39m\u001b[38;5;241m.\u001b[39mcommand_header \u001b[38;5;241m+\u001b[39m\\\n\u001b[1;32m   1318\u001b[0m     args_command \u001b[38;5;241m+\u001b[39m\\\n\u001b[1;32m   1319\u001b[0m     proto\u001b[38;5;241m.\u001b[39mEND_COMMAND_PART\n\u001b[0;32m-> 1321\u001b[0m answer \u001b[38;5;241m=\u001b[39m \u001b[38;5;28;43mself\u001b[39;49m\u001b[38;5;241;43m.\u001b[39;49m\u001b[43mgateway_client\u001b[49m\u001b[38;5;241;43m.\u001b[39;49m\u001b[43msend_command\u001b[49m\u001b[43m(\u001b[49m\u001b[43mcommand\u001b[49m\u001b[43m)\u001b[49m\n\u001b[1;32m   1322\u001b[0m return_value \u001b[38;5;241m=\u001b[39m get_return_value(\n\u001b[1;32m   1323\u001b[0m     answer, \u001b[38;5;28mself\u001b[39m\u001b[38;5;241m.\u001b[39mgateway_client, \u001b[38;5;28mself\u001b[39m\u001b[38;5;241m.\u001b[39mtarget_id, \u001b[38;5;28mself\u001b[39m\u001b[38;5;241m.\u001b[39mname)\n\u001b[1;32m   1325\u001b[0m \u001b[38;5;28;01mfor\u001b[39;00m temp_arg \u001b[38;5;129;01min\u001b[39;00m temp_args:\n",
      "File \u001b[0;32m~/.local/lib/python3.10/site-packages/py4j/java_gateway.py:1038\u001b[0m, in \u001b[0;36mGatewayClient.send_command\u001b[0;34m(self, command, retry, binary)\u001b[0m\n\u001b[1;32m   1036\u001b[0m connection \u001b[38;5;241m=\u001b[39m \u001b[38;5;28mself\u001b[39m\u001b[38;5;241m.\u001b[39m_get_connection()\n\u001b[1;32m   1037\u001b[0m \u001b[38;5;28;01mtry\u001b[39;00m:\n\u001b[0;32m-> 1038\u001b[0m     response \u001b[38;5;241m=\u001b[39m \u001b[43mconnection\u001b[49m\u001b[38;5;241;43m.\u001b[39;49m\u001b[43msend_command\u001b[49m\u001b[43m(\u001b[49m\u001b[43mcommand\u001b[49m\u001b[43m)\u001b[49m\n\u001b[1;32m   1039\u001b[0m     \u001b[38;5;28;01mif\u001b[39;00m binary:\n\u001b[1;32m   1040\u001b[0m         \u001b[38;5;28;01mreturn\u001b[39;00m response, \u001b[38;5;28mself\u001b[39m\u001b[38;5;241m.\u001b[39m_create_connection_guard(connection)\n",
      "File \u001b[0;32m~/.local/lib/python3.10/site-packages/py4j/clientserver.py:511\u001b[0m, in \u001b[0;36mClientServerConnection.send_command\u001b[0;34m(self, command)\u001b[0m\n\u001b[1;32m    509\u001b[0m \u001b[38;5;28;01mtry\u001b[39;00m:\n\u001b[1;32m    510\u001b[0m     \u001b[38;5;28;01mwhile\u001b[39;00m \u001b[38;5;28;01mTrue\u001b[39;00m:\n\u001b[0;32m--> 511\u001b[0m         answer \u001b[38;5;241m=\u001b[39m smart_decode(\u001b[38;5;28;43mself\u001b[39;49m\u001b[38;5;241;43m.\u001b[39;49m\u001b[43mstream\u001b[49m\u001b[38;5;241;43m.\u001b[39;49m\u001b[43mreadline\u001b[49m\u001b[43m(\u001b[49m\u001b[43m)\u001b[49m[:\u001b[38;5;241m-\u001b[39m\u001b[38;5;241m1\u001b[39m])\n\u001b[1;32m    512\u001b[0m         logger\u001b[38;5;241m.\u001b[39mdebug(\u001b[38;5;124m\"\u001b[39m\u001b[38;5;124mAnswer received: \u001b[39m\u001b[38;5;132;01m{0}\u001b[39;00m\u001b[38;5;124m\"\u001b[39m\u001b[38;5;241m.\u001b[39mformat(answer))\n\u001b[1;32m    513\u001b[0m         \u001b[38;5;66;03m# Happens when a the other end is dead. There might be an empty\u001b[39;00m\n\u001b[1;32m    514\u001b[0m         \u001b[38;5;66;03m# answer before the socket raises an error.\u001b[39;00m\n",
      "File \u001b[0;32m/usr/lib/python3.10/socket.py:705\u001b[0m, in \u001b[0;36mSocketIO.readinto\u001b[0;34m(self, b)\u001b[0m\n\u001b[1;32m    703\u001b[0m \u001b[38;5;28;01mwhile\u001b[39;00m \u001b[38;5;28;01mTrue\u001b[39;00m:\n\u001b[1;32m    704\u001b[0m     \u001b[38;5;28;01mtry\u001b[39;00m:\n\u001b[0;32m--> 705\u001b[0m         \u001b[38;5;28;01mreturn\u001b[39;00m \u001b[38;5;28;43mself\u001b[39;49m\u001b[38;5;241;43m.\u001b[39;49m\u001b[43m_sock\u001b[49m\u001b[38;5;241;43m.\u001b[39;49m\u001b[43mrecv_into\u001b[49m\u001b[43m(\u001b[49m\u001b[43mb\u001b[49m\u001b[43m)\u001b[49m\n\u001b[1;32m    706\u001b[0m     \u001b[38;5;28;01mexcept\u001b[39;00m timeout:\n\u001b[1;32m    707\u001b[0m         \u001b[38;5;28mself\u001b[39m\u001b[38;5;241m.\u001b[39m_timeout_occurred \u001b[38;5;241m=\u001b[39m \u001b[38;5;28;01mTrue\u001b[39;00m\n",
      "\u001b[0;31mKeyboardInterrupt\u001b[0m: "
     ]
    }
   ],
   "source": [
    "query = flattened_df_vp.writeStream \\\n",
    "    .outputMode(\"append\") \\\n",
    "    .format(\"console\") \\\n",
    "    .option(\"truncate\", False) \\\n",
    "    .start()\n",
    "query.awaitTermination()"
   ]
  },
  {
   "cell_type": "code",
   "execution_count": 102,
   "metadata": {},
   "outputs": [
    {
     "name": "stderr",
     "output_type": "stream",
     "text": [
      "25/01/20 12:37:47 WARN ResolveWriteToStream: Temporary checkpoint location created which is deleted normally when the query didn't fail: /tmp/temporary-215aeec1-1906-44eb-b342-88b55327a8a9. If it's required to delete it under any circumstances, please set spark.sql.streaming.forceDeleteTempCheckpointLocation to true. Important to know deleting temp checkpoint folder is best effort.\n",
      "25/01/20 12:37:47 WARN ResolveWriteToStream: spark.sql.adaptive.enabled is not supported in streaming DataFrames/Datasets and will be disabled.\n",
      "25/01/20 12:37:47 WARN AdminClientConfig: These configurations '[key.deserializer, value.deserializer, enable.auto.commit, max.poll.records, auto.offset.reset]' were supplied but are not used yet.\n"
     ]
    },
    {
     "name": "stdout",
     "output_type": "stream",
     "text": [
      "-------------------------------------------\n",
      "Batch: 0\n",
      "-------------------------------------------\n",
      "+------------+--------+----+---+----+----+--------------------+----------+-----+----+---------+---------+-----+------+-----+----+----------+----+----+-----+---+-------+-----+----+--------------------+\n",
      "|vehicle_type|nextStop|desi|dir|oper| veh|                 tst|       tsi|  spd| hdg|      lat|     long|  acc|    dl|  odo|drst|      oday| jrn|line|start|loc|   stop|route|occu|             trip_id|\n",
      "+------------+--------+----+---+----+----+--------------------+----------+-----+----+---------+---------+-----+------+-----+----+----------+----+----+-----+---+-------+-----+----+--------------------+\n",
      "|         bus| 1383181|  71|  2|  22|1186|2025-01-20T10:39:...|1737369568|  0.0|  60|60.240936|24.998722|  0.0|   -12| 1804|   0|2025-01-20|1362|  94|12:35|GPS|1383181| 1071|   0|1071_2025-01-20_1...|\n",
      "|         bus| 6040226| 171|  1|   6| 293|2025-01-20T10:39:...|1737369568|12.19| 302|60.126188|24.467279|-0.21|    55|18438|   0|2025-01-20| 446| 676|12:08|GPS|   NULL| 6171|   0|6171_2025-01-20_1...|\n",
      "|         bus| 6100200| 918|  1|  64| 100|2025-01-20T10:39:...|1737369568| 5.33| 173|60.122646|24.442762|-0.08|-20366| NULL|NULL|2025-01-20|   1| 689|07:00|GPS|   NULL| 6918|   0|6918_2025-01-20_0...|\n",
      "|         bus| 4330222|444T|  1|  51| 196|2025-01-20T10:39:...|1737369568| 6.74| 209|60.354658|24.839275|-1.54|  -113| NULL|NULL|2025-01-20| 185| 814|12:19|GPS|   NULL|4444T|   0|4444T_2025-01-20_...|\n",
      "|         bus| 6300216|913B|  1|  64| 205|2025-01-20T10:39:...|1737369567|13.84| 106|60.114827|24.250088|  0.0|   -63| NULL|NULL|2025-01-20|  30|1035|12:35|GPS|   NULL|6913B|   0|6913B_2025-01-20_...|\n",
      "|        tram| 1020402|   2|  2|  40| 116|2025-01-20T10:39:...|1737369568| 3.24| 177|60.169847|24.945265| 0.66|  -180| 6494|   0|2025-01-20|3547|  30|12:05|GPS|1020402| 1002|   0|1002_2025-01-20_1...|\n",
      "|         bus| 3170240| 549|  2|  22|1439|2025-01-20T10:39:...|1737369568|  2.5| 162|60.210764|24.729375| 0.75|   -10| 4237|   0|2025-01-20| 501| 875|12:29|GPS|3170240| 2549|   0|2549_2025-01-20_1...|\n",
      "|         bus| 1250115|  57|  2|  22|1107|2025-01-20T10:39:...|1737369567| 7.35|  55|60.212656|24.956863| 0.52|   -17| 5899|   0|2025-01-20|1188|  74|12:22|GPS|1250115| 1057|   0|1057_2025-01-20_1...|\n",
      "|         bus| 6010217| 907|  2|   6| 958|2025-01-20T10:39:...|1737369567|13.74| 218|60.192222|24.470489|-0.06|   -55|15802|   0|2025-01-20|  41| 684|12:15|GPS|   NULL| 6907|   0|6907_2025-01-20_1...|\n",
      "|         bus| 2132245| 114|  1|  12|1541|2025-01-20T10:39:...|1737369568|  0.0|  79|60.216856|24.786875|  0.0|   -79|12621|   1|2025-01-20| 158| 857|12:04|GPS|2132245| 2114|   0|2114_2025-01-20_1...|\n",
      "|        tram| 1140453|   2|  2|  40| 442|2025-01-20T10:39:...|1737369568| 6.69| 193|60.184013|24.931715| 0.98|    49| 3224|   0|2025-01-20|3586|  30|12:25|GPS|1140453| 1002|   0|1002_2025-01-20_1...|\n",
      "|        tram| 1282404|  15|  2|  40| 620|2025-01-20T10:39:...|1737369568| 2.28|  89|60.234065|24.929941|-0.95|   -22|14476|   0|2025-01-20|1229|1142|12:03|GPS|1282404| 2015|   0|2015_2025-01-20_1...|\n",
      "|        tram| 1220415|  10|  2|  40| 106|2025-01-20T10:39:...|1737369568| NULL|NULL|     NULL|     NULL| NULL|     0|  741|   0|2025-01-20|3481|  40|12:35|GPS|   NULL| 1010|   0|1010_2025-01-20_1...|\n",
      "|         bus| 4810240| 739|  1|  12|1124|2025-01-20T10:39:...|1737369568| 4.84| 148|60.351156|25.077416|-0.74|    92|33478|   0|2025-01-20| 980| 774|11:37|GPS|4810240| 4739|   0|4739_2025-01-20_1...|\n",
      "|         bus| 4130209| 335|  2|  22| 920|2025-01-20T10:39:...|1737369568| 4.23| 129|60.259309|24.834542|-0.32|    71| 7563|   0|2025-01-20|1113| 791|12:23|GPS|   NULL| 4335|   0|4335_2025-01-20_1...|\n",
      "|         bus| 2715295| 583|  1|  17|  16|2025-01-20T10:39:...|1737369568|11.65| 329|60.269135|24.760056| 0.59|    31|18719|   0|2025-01-20| 599|1095|12:05|GPS|   NULL| 5583|   0|5583_2025-01-20_1...|\n",
      "|        tram| 1203405|   7|  2|  40| 430|2025-01-20T10:39:...|1737369568| 3.29| 246|60.160175|24.921263| -0.2|  -108| 9453|   0|2025-01-20|2950| 992|11:51|GPS|   NULL| 1007|   0|1007_2025-01-20_1...|\n",
      "|        tram| 1220403|   8|  1|  40| 424|2025-01-20T10:39:...|1737369568| 7.56| 355|60.198304|24.961832|-0.52|   -26| 7040|   0|2025-01-20| 775|  38|12:08|GPS|1220403| 1008|   0|1008_2025-01-20_1...|\n",
      "|        tram| 2222405|  15|  1|  40| 602|2025-01-20T10:39:...|1737369568| 5.92| 166|60.185693|24.826439| 0.04|   -76|23342|   0|2025-01-20|1149|1142|11:43|GPS|   NULL| 2015|   0|2015_2025-01-20_1...|\n",
      "|         bus| 1471136|  57|  1|  22|1436|2025-01-20T10:39:...|1737369568|  0.0| 272|60.239776|25.073936|-0.01|    39|  668|   1|2025-01-20| 357|  74|12:38|GPS|1471136| 1057|   0|1057_2025-01-20_1...|\n",
      "+------------+--------+----+---+----+----+--------------------+----------+-----+----+---------+---------+-----+------+-----+----+----------+----+----+-----+---+-------+-----+----+--------------------+\n",
      "only showing top 20 rows\n",
      "\n"
     ]
    },
    {
     "name": "stderr",
     "output_type": "stream",
     "text": [
      "ERROR:root:KeyboardInterrupt while sending command.\n",
      "Traceback (most recent call last):\n",
      "  File \"/home/ala/.local/lib/python3.10/site-packages/py4j/java_gateway.py\", line 1038, in send_command\n",
      "    response = connection.send_command(command)\n",
      "  File \"/home/ala/.local/lib/python3.10/site-packages/py4j/clientserver.py\", line 511, in send_command\n",
      "    answer = smart_decode(self.stream.readline()[:-1])\n",
      "  File \"/usr/lib/python3.10/socket.py\", line 705, in readinto\n",
      "    return self._sock.recv_into(b)\n",
      "KeyboardInterrupt\n"
     ]
    },
    {
     "ename": "KeyboardInterrupt",
     "evalue": "",
     "output_type": "error",
     "traceback": [
      "\u001b[0;31m---------------------------------------------------------------------------\u001b[0m",
      "\u001b[0;31mKeyboardInterrupt\u001b[0m                         Traceback (most recent call last)",
      "Cell \u001b[0;32mIn[102], line 5\u001b[0m\n\u001b[1;32m      1\u001b[0m query \u001b[38;5;241m=\u001b[39m flattened_df_vp\u001b[38;5;241m.\u001b[39mwriteStream \\\n\u001b[1;32m      2\u001b[0m     \u001b[38;5;241m.\u001b[39moutputMode(\u001b[38;5;124m\"\u001b[39m\u001b[38;5;124mappend\u001b[39m\u001b[38;5;124m\"\u001b[39m) \\\n\u001b[1;32m      3\u001b[0m     \u001b[38;5;241m.\u001b[39mformat(\u001b[38;5;124m\"\u001b[39m\u001b[38;5;124mconsole\u001b[39m\u001b[38;5;124m\"\u001b[39m) \\\n\u001b[1;32m      4\u001b[0m     \u001b[38;5;241m.\u001b[39mstart()\n\u001b[0;32m----> 5\u001b[0m \u001b[43mquery\u001b[49m\u001b[38;5;241;43m.\u001b[39;49m\u001b[43mawaitTermination\u001b[49m\u001b[43m(\u001b[49m\u001b[43m)\u001b[49m\n",
      "File \u001b[0;32m~/.local/lib/python3.10/site-packages/pyspark/sql/streaming/query.py:221\u001b[0m, in \u001b[0;36mStreamingQuery.awaitTermination\u001b[0;34m(self, timeout)\u001b[0m\n\u001b[1;32m    219\u001b[0m     \u001b[38;5;28;01mreturn\u001b[39;00m \u001b[38;5;28mself\u001b[39m\u001b[38;5;241m.\u001b[39m_jsq\u001b[38;5;241m.\u001b[39mawaitTermination(\u001b[38;5;28mint\u001b[39m(timeout \u001b[38;5;241m*\u001b[39m \u001b[38;5;241m1000\u001b[39m))\n\u001b[1;32m    220\u001b[0m \u001b[38;5;28;01melse\u001b[39;00m:\n\u001b[0;32m--> 221\u001b[0m     \u001b[38;5;28;01mreturn\u001b[39;00m \u001b[38;5;28;43mself\u001b[39;49m\u001b[38;5;241;43m.\u001b[39;49m\u001b[43m_jsq\u001b[49m\u001b[38;5;241;43m.\u001b[39;49m\u001b[43mawaitTermination\u001b[49m\u001b[43m(\u001b[49m\u001b[43m)\u001b[49m\n",
      "File \u001b[0;32m~/.local/lib/python3.10/site-packages/py4j/java_gateway.py:1321\u001b[0m, in \u001b[0;36mJavaMember.__call__\u001b[0;34m(self, *args)\u001b[0m\n\u001b[1;32m   1314\u001b[0m args_command, temp_args \u001b[38;5;241m=\u001b[39m \u001b[38;5;28mself\u001b[39m\u001b[38;5;241m.\u001b[39m_build_args(\u001b[38;5;241m*\u001b[39margs)\n\u001b[1;32m   1316\u001b[0m command \u001b[38;5;241m=\u001b[39m proto\u001b[38;5;241m.\u001b[39mCALL_COMMAND_NAME \u001b[38;5;241m+\u001b[39m\\\n\u001b[1;32m   1317\u001b[0m     \u001b[38;5;28mself\u001b[39m\u001b[38;5;241m.\u001b[39mcommand_header \u001b[38;5;241m+\u001b[39m\\\n\u001b[1;32m   1318\u001b[0m     args_command \u001b[38;5;241m+\u001b[39m\\\n\u001b[1;32m   1319\u001b[0m     proto\u001b[38;5;241m.\u001b[39mEND_COMMAND_PART\n\u001b[0;32m-> 1321\u001b[0m answer \u001b[38;5;241m=\u001b[39m \u001b[38;5;28;43mself\u001b[39;49m\u001b[38;5;241;43m.\u001b[39;49m\u001b[43mgateway_client\u001b[49m\u001b[38;5;241;43m.\u001b[39;49m\u001b[43msend_command\u001b[49m\u001b[43m(\u001b[49m\u001b[43mcommand\u001b[49m\u001b[43m)\u001b[49m\n\u001b[1;32m   1322\u001b[0m return_value \u001b[38;5;241m=\u001b[39m get_return_value(\n\u001b[1;32m   1323\u001b[0m     answer, \u001b[38;5;28mself\u001b[39m\u001b[38;5;241m.\u001b[39mgateway_client, \u001b[38;5;28mself\u001b[39m\u001b[38;5;241m.\u001b[39mtarget_id, \u001b[38;5;28mself\u001b[39m\u001b[38;5;241m.\u001b[39mname)\n\u001b[1;32m   1325\u001b[0m \u001b[38;5;28;01mfor\u001b[39;00m temp_arg \u001b[38;5;129;01min\u001b[39;00m temp_args:\n",
      "File \u001b[0;32m~/.local/lib/python3.10/site-packages/py4j/java_gateway.py:1038\u001b[0m, in \u001b[0;36mGatewayClient.send_command\u001b[0;34m(self, command, retry, binary)\u001b[0m\n\u001b[1;32m   1036\u001b[0m connection \u001b[38;5;241m=\u001b[39m \u001b[38;5;28mself\u001b[39m\u001b[38;5;241m.\u001b[39m_get_connection()\n\u001b[1;32m   1037\u001b[0m \u001b[38;5;28;01mtry\u001b[39;00m:\n\u001b[0;32m-> 1038\u001b[0m     response \u001b[38;5;241m=\u001b[39m \u001b[43mconnection\u001b[49m\u001b[38;5;241;43m.\u001b[39;49m\u001b[43msend_command\u001b[49m\u001b[43m(\u001b[49m\u001b[43mcommand\u001b[49m\u001b[43m)\u001b[49m\n\u001b[1;32m   1039\u001b[0m     \u001b[38;5;28;01mif\u001b[39;00m binary:\n\u001b[1;32m   1040\u001b[0m         \u001b[38;5;28;01mreturn\u001b[39;00m response, \u001b[38;5;28mself\u001b[39m\u001b[38;5;241m.\u001b[39m_create_connection_guard(connection)\n",
      "File \u001b[0;32m~/.local/lib/python3.10/site-packages/py4j/clientserver.py:511\u001b[0m, in \u001b[0;36mClientServerConnection.send_command\u001b[0;34m(self, command)\u001b[0m\n\u001b[1;32m    509\u001b[0m \u001b[38;5;28;01mtry\u001b[39;00m:\n\u001b[1;32m    510\u001b[0m     \u001b[38;5;28;01mwhile\u001b[39;00m \u001b[38;5;28;01mTrue\u001b[39;00m:\n\u001b[0;32m--> 511\u001b[0m         answer \u001b[38;5;241m=\u001b[39m smart_decode(\u001b[38;5;28;43mself\u001b[39;49m\u001b[38;5;241;43m.\u001b[39;49m\u001b[43mstream\u001b[49m\u001b[38;5;241;43m.\u001b[39;49m\u001b[43mreadline\u001b[49m\u001b[43m(\u001b[49m\u001b[43m)\u001b[49m[:\u001b[38;5;241m-\u001b[39m\u001b[38;5;241m1\u001b[39m])\n\u001b[1;32m    512\u001b[0m         logger\u001b[38;5;241m.\u001b[39mdebug(\u001b[38;5;124m\"\u001b[39m\u001b[38;5;124mAnswer received: \u001b[39m\u001b[38;5;132;01m{0}\u001b[39;00m\u001b[38;5;124m\"\u001b[39m\u001b[38;5;241m.\u001b[39mformat(answer))\n\u001b[1;32m    513\u001b[0m         \u001b[38;5;66;03m# Happens when a the other end is dead. There might be an empty\u001b[39;00m\n\u001b[1;32m    514\u001b[0m         \u001b[38;5;66;03m# answer before the socket raises an error.\u001b[39;00m\n",
      "File \u001b[0;32m/usr/lib/python3.10/socket.py:705\u001b[0m, in \u001b[0;36mSocketIO.readinto\u001b[0;34m(self, b)\u001b[0m\n\u001b[1;32m    703\u001b[0m \u001b[38;5;28;01mwhile\u001b[39;00m \u001b[38;5;28;01mTrue\u001b[39;00m:\n\u001b[1;32m    704\u001b[0m     \u001b[38;5;28;01mtry\u001b[39;00m:\n\u001b[0;32m--> 705\u001b[0m         \u001b[38;5;28;01mreturn\u001b[39;00m \u001b[38;5;28;43mself\u001b[39;49m\u001b[38;5;241;43m.\u001b[39;49m\u001b[43m_sock\u001b[49m\u001b[38;5;241;43m.\u001b[39;49m\u001b[43mrecv_into\u001b[49m\u001b[43m(\u001b[49m\u001b[43mb\u001b[49m\u001b[43m)\u001b[49m\n\u001b[1;32m    706\u001b[0m     \u001b[38;5;28;01mexcept\u001b[39;00m timeout:\n\u001b[1;32m    707\u001b[0m         \u001b[38;5;28mself\u001b[39m\u001b[38;5;241m.\u001b[39m_timeout_occurred \u001b[38;5;241m=\u001b[39m \u001b[38;5;28;01mTrue\u001b[39;00m\n",
      "\u001b[0;31mKeyboardInterrupt\u001b[0m: "
     ]
    }
   ],
   "source": [
    "query = flattened_df_vp.writeStream \\\n",
    "    .outputMode(\"append\") \\\n",
    "    .format(\"console\") \\\n",
    "    .start()\n",
    "query.awaitTermination()\n"
   ]
  },
  {
   "cell_type": "code",
   "execution_count": null,
   "metadata": {},
   "outputs": [],
   "source": []
  }
 ],
 "metadata": {
  "kernelspec": {
   "display_name": "Python 3",
   "language": "python",
   "name": "python3"
  },
  "language_info": {
   "codemirror_mode": {
    "name": "ipython",
    "version": 3
   },
   "file_extension": ".py",
   "mimetype": "text/x-python",
   "name": "python",
   "nbconvert_exporter": "python",
   "pygments_lexer": "ipython3",
   "version": "3.10.12"
  }
 },
 "nbformat": 4,
 "nbformat_minor": 2
}

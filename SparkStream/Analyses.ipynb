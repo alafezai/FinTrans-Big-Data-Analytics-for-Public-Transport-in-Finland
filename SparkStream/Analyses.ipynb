{
 "cells": [
  {
   "cell_type": "code",
   "execution_count": 1,
   "metadata": {},
   "outputs": [
    {
     "name": "stderr",
     "output_type": "stream",
     "text": [
      "25/01/30 22:08:32 WARN Utils: Your hostname, Ala resolves to a loopback address: 127.0.1.1; using 10.255.255.254 instead (on interface lo)\n",
      "25/01/30 22:08:32 WARN Utils: Set SPARK_LOCAL_IP if you need to bind to another address\n"
     ]
    },
    {
     "name": "stdout",
     "output_type": "stream",
     "text": [
      ":: loading settings :: url = jar:file:/opt/spark/jars/ivy-2.5.1.jar!/org/apache/ivy/core/settings/ivysettings.xml\n"
     ]
    },
    {
     "name": "stderr",
     "output_type": "stream",
     "text": [
      "Ivy Default Cache set to: /home/ala/.ivy2/cache\n",
      "The jars for the packages stored in: /home/ala/.ivy2/jars\n",
      "org.apache.spark#spark-sql-kafka-0-10_2.12 added as a dependency\n",
      "com.datastax.spark#spark-cassandra-connector_2.12 added as a dependency\n",
      ":: resolving dependencies :: org.apache.spark#spark-submit-parent-7c2c55da-9d3f-4672-bd33-87318b8bfc55;1.0\n",
      "\tconfs: [default]\n",
      "\tfound org.apache.spark#spark-sql-kafka-0-10_2.12;3.5.0 in central\n",
      "\tfound org.apache.spark#spark-token-provider-kafka-0-10_2.12;3.5.0 in central\n",
      "\tfound org.apache.kafka#kafka-clients;3.4.1 in central\n",
      "\tfound org.lz4#lz4-java;1.8.0 in central\n",
      "\tfound org.xerial.snappy#snappy-java;1.1.10.3 in central\n",
      "\tfound org.slf4j#slf4j-api;2.0.7 in central\n",
      "\tfound org.apache.hadoop#hadoop-client-runtime;3.3.4 in central\n",
      "\tfound org.apache.hadoop#hadoop-client-api;3.3.4 in central\n",
      "\tfound commons-logging#commons-logging;1.1.3 in central\n",
      "\tfound com.google.code.findbugs#jsr305;3.0.0 in central\n",
      "\tfound org.apache.commons#commons-pool2;2.11.1 in central\n",
      "\tfound com.datastax.spark#spark-cassandra-connector_2.12;3.5.0 in central\n",
      "\tfound com.datastax.spark#spark-cassandra-connector-driver_2.12;3.5.0 in central\n",
      "\tfound org.scala-lang.modules#scala-collection-compat_2.12;2.11.0 in central\n",
      "\tfound com.datastax.oss#java-driver-core-shaded;4.13.0 in central\n",
      "\tfound com.datastax.oss#native-protocol;1.5.0 in central\n",
      "\tfound com.datastax.oss#java-driver-shaded-guava;25.1-jre-graal-sub-1 in central\n",
      "\tfound com.typesafe#config;1.4.1 in central\n",
      "\tfound io.dropwizard.metrics#metrics-core;4.1.18 in central\n",
      "\tfound org.hdrhistogram#HdrHistogram;2.1.12 in central\n",
      "\tfound org.reactivestreams#reactive-streams;1.0.3 in central\n",
      "\tfound com.github.stephenc.jcip#jcip-annotations;1.0-1 in central\n",
      "\tfound com.github.spotbugs#spotbugs-annotations;3.1.12 in central\n",
      "\tfound com.google.code.findbugs#jsr305;3.0.2 in central\n",
      "\tfound com.datastax.oss#java-driver-mapper-runtime;4.13.0 in central\n",
      "\tfound com.datastax.oss#java-driver-query-builder;4.13.0 in central\n",
      "\tfound org.apache.commons#commons-lang3;3.10 in central\n",
      "\tfound com.thoughtworks.paranamer#paranamer;2.8 in central\n",
      "\tfound org.scala-lang#scala-reflect;2.12.11 in central\n",
      ":: resolution report :: resolve 640ms :: artifacts dl 51ms\n",
      "\t:: modules in use:\n",
      "\tcom.datastax.oss#java-driver-core-shaded;4.13.0 from central in [default]\n",
      "\tcom.datastax.oss#java-driver-mapper-runtime;4.13.0 from central in [default]\n",
      "\tcom.datastax.oss#java-driver-query-builder;4.13.0 from central in [default]\n",
      "\tcom.datastax.oss#java-driver-shaded-guava;25.1-jre-graal-sub-1 from central in [default]\n",
      "\tcom.datastax.oss#native-protocol;1.5.0 from central in [default]\n",
      "\tcom.datastax.spark#spark-cassandra-connector-driver_2.12;3.5.0 from central in [default]\n",
      "\tcom.datastax.spark#spark-cassandra-connector_2.12;3.5.0 from central in [default]\n",
      "\tcom.github.spotbugs#spotbugs-annotations;3.1.12 from central in [default]\n",
      "\tcom.github.stephenc.jcip#jcip-annotations;1.0-1 from central in [default]\n",
      "\tcom.google.code.findbugs#jsr305;3.0.2 from central in [default]\n",
      "\tcom.thoughtworks.paranamer#paranamer;2.8 from central in [default]\n",
      "\tcom.typesafe#config;1.4.1 from central in [default]\n",
      "\tcommons-logging#commons-logging;1.1.3 from central in [default]\n",
      "\tio.dropwizard.metrics#metrics-core;4.1.18 from central in [default]\n",
      "\torg.apache.commons#commons-lang3;3.10 from central in [default]\n",
      "\torg.apache.commons#commons-pool2;2.11.1 from central in [default]\n",
      "\torg.apache.hadoop#hadoop-client-api;3.3.4 from central in [default]\n",
      "\torg.apache.hadoop#hadoop-client-runtime;3.3.4 from central in [default]\n",
      "\torg.apache.kafka#kafka-clients;3.4.1 from central in [default]\n",
      "\torg.apache.spark#spark-sql-kafka-0-10_2.12;3.5.0 from central in [default]\n",
      "\torg.apache.spark#spark-token-provider-kafka-0-10_2.12;3.5.0 from central in [default]\n",
      "\torg.hdrhistogram#HdrHistogram;2.1.12 from central in [default]\n",
      "\torg.lz4#lz4-java;1.8.0 from central in [default]\n",
      "\torg.reactivestreams#reactive-streams;1.0.3 from central in [default]\n",
      "\torg.scala-lang#scala-reflect;2.12.11 from central in [default]\n",
      "\torg.scala-lang.modules#scala-collection-compat_2.12;2.11.0 from central in [default]\n",
      "\torg.slf4j#slf4j-api;2.0.7 from central in [default]\n",
      "\torg.xerial.snappy#snappy-java;1.1.10.3 from central in [default]\n",
      "\t:: evicted modules:\n",
      "\tcom.google.code.findbugs#jsr305;3.0.0 by [com.google.code.findbugs#jsr305;3.0.2] in [default]\n",
      "\torg.slf4j#slf4j-api;1.7.26 by [org.slf4j#slf4j-api;2.0.7] in [default]\n",
      "\t---------------------------------------------------------------------\n",
      "\t|                  |            modules            ||   artifacts   |\n",
      "\t|       conf       | number| search|dwnlded|evicted|| number|dwnlded|\n",
      "\t---------------------------------------------------------------------\n",
      "\t|      default     |   30  |   0   |   0   |   2   ||   28  |   0   |\n",
      "\t---------------------------------------------------------------------\n",
      ":: retrieving :: org.apache.spark#spark-submit-parent-7c2c55da-9d3f-4672-bd33-87318b8bfc55\n",
      "\tconfs: [default]\n",
      "\t0 artifacts copied, 28 already retrieved (0kB/14ms)\n",
      "25/01/30 22:08:33 WARN NativeCodeLoader: Unable to load native-hadoop library for your platform... using builtin-java classes where applicable\n",
      "Setting default log level to \"WARN\".\n",
      "To adjust logging level use sc.setLogLevel(newLevel). For SparkR, use setLogLevel(newLevel).\n"
     ]
    }
   ],
   "source": [
    "from pyspark.sql import SparkSession\n",
    "spark = (\n",
    "    SparkSession \n",
    "    .builder \n",
    "    .appName(\"Streaming from Kafka\") \n",
    "    .config(\"spark.streaming.stopGracefullyOnShutdown\", True)\n",
    "    .config(\"spark.jars.packages\", \"org.apache.spark:spark-sql-kafka-0-10_2.12:3.5.0,com.datastax.spark:spark-cassandra-connector_2.12:3.5.0\")\n",
    "    .config(\"spark.cassandra.connection.host\", \"127.0.0.1\")\n",
    "    .config(\"spark.executor.memory\", \"4g\")\n",
    "    .config(\"spark.driver.memory\", \"2g\")\n",
    "    .config(\"spark.cassandra.auth.username\", \"cassandra\")\n",
    "    .config(\"spark.cassandra.auth.password\", \"cassandra\")\n",
    "    .master(\"local[*]\") \n",
    "    .getOrCreate()\n",
    ")"
   ]
  },
  {
   "cell_type": "code",
   "execution_count": 2,
   "metadata": {},
   "outputs": [
    {
     "data": {
      "text/html": [
       "\n",
       "            <div>\n",
       "                <p><b>SparkSession - in-memory</b></p>\n",
       "                \n",
       "        <div>\n",
       "            <p><b>SparkContext</b></p>\n",
       "\n",
       "            <p><a href=\"http://10.255.255.254:4040\">Spark UI</a></p>\n",
       "\n",
       "            <dl>\n",
       "              <dt>Version</dt>\n",
       "                <dd><code>v3.5.3</code></dd>\n",
       "              <dt>Master</dt>\n",
       "                <dd><code>local[*]</code></dd>\n",
       "              <dt>AppName</dt>\n",
       "                <dd><code>Streaming from Kafka</code></dd>\n",
       "            </dl>\n",
       "        </div>\n",
       "        \n",
       "            </div>\n",
       "        "
      ],
      "text/plain": [
       "<pyspark.sql.session.SparkSession at 0x7fa8a2514100>"
      ]
     },
     "execution_count": 2,
     "metadata": {},
     "output_type": "execute_result"
    }
   ],
   "source": [
    "spark"
   ]
  },
  {
   "cell_type": "code",
   "execution_count": 3,
   "metadata": {},
   "outputs": [],
   "source": [
    "from pyspark.sql.types import StructType, StructField, StringType, DoubleType, LongType, IntegerType\n",
    "\n",
    "schema_vp = StructType([\n",
    "    StructField(\"vehicle_type\", StringType(), True),\n",
    "    StructField(\"nextStop\", StringType(), True),\n",
    "    StructField(\"VP\", StructType([\n",
    "        StructField(\"desi\", StringType(), True),\n",
    "        StructField(\"dir\", StringType(), True),\n",
    "        StructField(\"oper\", IntegerType(), True),\n",
    "        StructField(\"veh\", IntegerType(), True),\n",
    "        StructField(\"tst\", StringType(), True),\n",
    "        StructField(\"tsi\", LongType(), True),\n",
    "        StructField(\"spd\", DoubleType(), True),\n",
    "        StructField(\"hdg\", IntegerType(), True),\n",
    "        StructField(\"lat\", DoubleType(), True),\n",
    "        StructField(\"long\", DoubleType(), True),\n",
    "        StructField(\"acc\", DoubleType(), True),\n",
    "        StructField(\"dl\", IntegerType(), True),\n",
    "        StructField(\"odo\", IntegerType(), True),  # correction ici\n",
    "        StructField(\"drst\", IntegerType(), True),\n",
    "        StructField(\"oday\", StringType(), True),\n",
    "        StructField(\"jrn\", IntegerType(), True),\n",
    "        StructField(\"line\", IntegerType(), True),\n",
    "        StructField(\"start\", StringType(), True),\n",
    "        StructField(\"loc\", StringType(), True),\n",
    "        StructField(\"stop\", IntegerType(), True),\n",
    "        StructField(\"route\", StringType(), True),\n",
    "        StructField(\"occu\", IntegerType(), True)\n",
    "    ]))\n",
    "])"
   ]
  },
  {
   "cell_type": "code",
   "execution_count": 4,
   "metadata": {},
   "outputs": [],
   "source": [
    "kafka_df_vp = spark \\\n",
    "    .readStream \\\n",
    "    .format(\"kafka\") \\\n",
    "    .option(\"kafka.bootstrap.servers\", \"localhost:9092\") \\\n",
    "    .option(\"subscribe\", \"vp\") \\\n",
    "    .option(\"startingOffsets\",\"earliest\") \\\n",
    "    .option(\"enable.auto.create.topics\", \"false\") \\\n",
    "    .load()"
   ]
  },
  {
   "cell_type": "code",
   "execution_count": 5,
   "metadata": {},
   "outputs": [],
   "source": [
    "from pyspark.sql.functions import expr\n",
    "\n",
    "kafka_json_df_vp = kafka_df_vp.withColumn(\"value\", expr(\"cast(value as string)\"))"
   ]
  },
  {
   "cell_type": "code",
   "execution_count": 6,
   "metadata": {},
   "outputs": [],
   "source": [
    "from pyspark.sql.functions import from_json, col\n",
    "\n",
    "streaming_df_vp = kafka_json_df_vp.selectExpr(\"CAST(value AS STRING)\") \\\n",
    "    .select(from_json(col(\"value\"), schema_vp).alias(\"data\"))"
   ]
  },
  {
   "cell_type": "code",
   "execution_count": 7,
   "metadata": {},
   "outputs": [
    {
     "name": "stdout",
     "output_type": "stream",
     "text": [
      "root\n",
      " |-- data: struct (nullable = true)\n",
      " |    |-- vehicle_type: string (nullable = true)\n",
      " |    |-- nextStop: string (nullable = true)\n",
      " |    |-- VP: struct (nullable = true)\n",
      " |    |    |-- desi: string (nullable = true)\n",
      " |    |    |-- dir: string (nullable = true)\n",
      " |    |    |-- oper: integer (nullable = true)\n",
      " |    |    |-- veh: integer (nullable = true)\n",
      " |    |    |-- tst: string (nullable = true)\n",
      " |    |    |-- tsi: long (nullable = true)\n",
      " |    |    |-- spd: double (nullable = true)\n",
      " |    |    |-- hdg: integer (nullable = true)\n",
      " |    |    |-- lat: double (nullable = true)\n",
      " |    |    |-- long: double (nullable = true)\n",
      " |    |    |-- acc: double (nullable = true)\n",
      " |    |    |-- dl: integer (nullable = true)\n",
      " |    |    |-- odo: integer (nullable = true)\n",
      " |    |    |-- drst: integer (nullable = true)\n",
      " |    |    |-- oday: string (nullable = true)\n",
      " |    |    |-- jrn: integer (nullable = true)\n",
      " |    |    |-- line: integer (nullable = true)\n",
      " |    |    |-- start: string (nullable = true)\n",
      " |    |    |-- loc: string (nullable = true)\n",
      " |    |    |-- stop: integer (nullable = true)\n",
      " |    |    |-- route: string (nullable = true)\n",
      " |    |    |-- occu: integer (nullable = true)\n",
      "\n"
     ]
    }
   ],
   "source": [
    "streaming_df_vp.printSchema()"
   ]
  },
  {
   "cell_type": "code",
   "execution_count": 8,
   "metadata": {},
   "outputs": [],
   "source": [
    "flattened_df_vp = streaming_df_vp.select(\n",
    "    col(\"data.vehicle_type\"),\n",
    "    col(\"data.nextStop\"),\n",
    "    col(\"data.VP.desi\"),\n",
    "    col(\"data.VP.dir\"),\n",
    "    col(\"data.VP.oper\"),\n",
    "    col(\"data.VP.veh\"),\n",
    "    col(\"data.VP.tst\"),\n",
    "    col(\"data.VP.tsi\"),\n",
    "    col(\"data.VP.spd\"),\n",
    "    col(\"data.VP.hdg\"),\n",
    "    col(\"data.VP.lat\"),\n",
    "    col(\"data.VP.long\"),\n",
    "    col(\"data.VP.acc\"),\n",
    "    col(\"data.VP.dl\"),\n",
    "    col(\"data.VP.odo\"),\n",
    "    col(\"data.VP.drst\"),\n",
    "    col(\"data.VP.oday\"),\n",
    "    col(\"data.VP.jrn\"),\n",
    "    col(\"data.VP.line\"),\n",
    "    col(\"data.VP.start\"),\n",
    "    col(\"data.VP.loc\"),\n",
    "    col(\"data.VP.stop\"),\n",
    "    col(\"data.VP.route\"),\n",
    "    col(\"data.VP.occu\")\n",
    ")"
   ]
  },
  {
   "cell_type": "code",
   "execution_count": 9,
   "metadata": {},
   "outputs": [],
   "source": [
    "flattened_df_vp_clean = flattened_df_vp.fillna({\n",
    "    'vehicle_type': 'Unknown',\n",
    "    'nextStop': 'Unknown',\n",
    "    'desi': 'Unknown',\n",
    "    'dir': 'Unknown',\n",
    "    'oper': 0,\n",
    "    'veh': 0,\n",
    "    'tst': 'Unknown',\n",
    "    'tsi': 0,\n",
    "    'spd': 0.0,\n",
    "    'hdg': 0,\n",
    "    'lat': 0.0,\n",
    "    'long': 0.0,\n",
    "    'acc': 0.0,\n",
    "    'dl': 0,\n",
    "    'odo': 0,\n",
    "    'drst': 0,\n",
    "    'oday': 'Unknown',\n",
    "    'jrn': 0,\n",
    "    'line': 0,\n",
    "    'start': 'Unknown',\n",
    "    'loc': 'Unknown',\n",
    "    'stop': 0,\n",
    "    'route': 'Unknown',\n",
    "    'occu': 0\n",
    "})"
   ]
  },
  {
   "cell_type": "code",
   "execution_count": 10,
   "metadata": {},
   "outputs": [],
   "source": [
    "from pyspark.sql import functions as F"
   ]
  },
  {
   "cell_type": "code",
   "execution_count": 11,
   "metadata": {},
   "outputs": [],
   "source": [
    "flattened_df_vp_clean = flattened_df_vp_clean.withColumn(\"vehicle_type\", F.col(\"vehicle_type\").cast(StringType())) \\\n",
    "    .withColumn(\"nextstop\", F.col(\"nextStop\").cast(StringType())) \\\n",
    "    .withColumn(\"desi\", F.col(\"desi\").cast(StringType())) \\\n",
    "    .withColumn(\"dir\", F.col(\"dir\").cast(StringType())) \\\n",
    "    .withColumn(\"oper\", F.col(\"oper\").cast(IntegerType())) \\\n",
    "    .withColumn(\"veh\", F.col(\"veh\").cast(IntegerType())) \\\n",
    "    .withColumn(\"tst\", F.col(\"tst\").cast(StringType())) \\\n",
    "    .withColumn(\"tsi\", F.col(\"tsi\").cast(LongType())) \\\n",
    "    .withColumn(\"spd\", (F.col(\"spd\") * 3.6).cast(DoubleType())) \\\n",
    "    .withColumn(\"hdg\", F.col(\"hdg\").cast(IntegerType())) \\\n",
    "    .withColumn(\"lat\", F.col(\"lat\").cast(DoubleType())) \\\n",
    "    .withColumn(\"long\", F.col(\"long\").cast(DoubleType())) \\\n",
    "    .withColumn(\"acc\", F.col(\"acc\").cast(DoubleType())) \\\n",
    "    .withColumn(\"dl\", F.col(\"dl\").cast(IntegerType())) \\\n",
    "    .withColumn(\"odo\", F.col(\"odo\").cast(IntegerType())) \\\n",
    "    .withColumn(\"drst\", F.col(\"drst\").cast(IntegerType())) \\\n",
    "    .withColumn(\"oday\", F.col(\"oday\").cast(StringType())) \\\n",
    "    .withColumn(\"jrn\", F.col(\"jrn\").cast(IntegerType())) \\\n",
    "    .withColumn(\"line\", F.col(\"line\").cast(IntegerType())) \\\n",
    "    .withColumn(\"start\", F.col(\"start\").cast(StringType())) \\\n",
    "    .withColumn(\"loc\", F.col(\"loc\").cast(StringType())) \\\n",
    "    .withColumn(\"stop\", F.col(\"stop\").cast(IntegerType())) \\\n",
    "    .withColumn(\"route\", F.col(\"route\").cast(StringType())) \\\n",
    "    .withColumn(\"occu\", F.col(\"occu\").cast(IntegerType())).select(\"*\")"
   ]
  },
  {
   "cell_type": "code",
   "execution_count": 12,
   "metadata": {},
   "outputs": [
    {
     "name": "stdout",
     "output_type": "stream",
     "text": [
      "root\n",
      " |-- vehicle_type: string (nullable = false)\n",
      " |-- nextstop: string (nullable = false)\n",
      " |-- desi: string (nullable = false)\n",
      " |-- dir: string (nullable = false)\n",
      " |-- oper: integer (nullable = false)\n",
      " |-- veh: integer (nullable = false)\n",
      " |-- tst: string (nullable = false)\n",
      " |-- tsi: long (nullable = false)\n",
      " |-- spd: double (nullable = false)\n",
      " |-- hdg: integer (nullable = false)\n",
      " |-- lat: double (nullable = false)\n",
      " |-- long: double (nullable = false)\n",
      " |-- acc: double (nullable = false)\n",
      " |-- dl: integer (nullable = false)\n",
      " |-- odo: integer (nullable = false)\n",
      " |-- drst: integer (nullable = false)\n",
      " |-- oday: string (nullable = false)\n",
      " |-- jrn: integer (nullable = false)\n",
      " |-- line: integer (nullable = false)\n",
      " |-- start: string (nullable = false)\n",
      " |-- loc: string (nullable = false)\n",
      " |-- stop: integer (nullable = false)\n",
      " |-- route: string (nullable = false)\n",
      " |-- occu: integer (nullable = false)\n",
      "\n"
     ]
    }
   ],
   "source": [
    "flattened_df_vp_clean.printSchema()"
   ]
  },
  {
   "cell_type": "code",
   "execution_count": 13,
   "metadata": {},
   "outputs": [],
   "source": [
    "# Calculer la vitesse moyenne par vehicle_type\n",
    "from pyspark.sql.functions import avg\n",
    "from pyspark.sql.functions import window"
   ]
  },
  {
   "cell_type": "code",
   "execution_count": 14,
   "metadata": {},
   "outputs": [],
   "source": [
    "flattened_df_vp_clean = flattened_df_vp_clean.withColumn(\"tst\", F.col(\"tst\").cast(\"timestamp\"))"
   ]
  },
  {
   "cell_type": "code",
   "execution_count": 15,
   "metadata": {},
   "outputs": [],
   "source": [
    "flattened_df_vp_clean = flattened_df_vp_clean.filter(F.col(\"spd\").isNotNull())"
   ]
  },
  {
   "cell_type": "code",
   "execution_count": 16,
   "metadata": {},
   "outputs": [],
   "source": [
    "fleet_analysis = flattened_df_vp_clean \\\n",
    "    .withWatermark(\"tst\", \"10 minutes\") \\\n",
    "    .groupBy(\n",
    "        F.col(\"vehicle_type\"),\n",
    "        F.window(F.col(\"tst\"), \"5 minutes\", \"2 minutes\")  # Fenêtre plus petite\n",
    "    ) \\\n",
    "    .agg(\n",
    "        F.avg(\"spd\").alias(\"avg_speed\"),\n",
    "        F.count(\"veh\").alias(\"active_vehicles\"),\n",
    "        F.max(\"spd\").alias(\"max_speed\"),\n",
    "        F.min(\"spd\").alias(\"min_speed\"),\n",
    "        F.avg(\"occu\").alias(\"avg_occupancy\")\n",
    "    ) \\\n",
    "    .select(\n",
    "        F.col(\"vehicle_type\"),\n",
    "        F.col(\"window.start\").alias(\"window_start\"),\n",
    "        F.col(\"window.end\").alias(\"window_end\"),\n",
    "        F.col(\"avg_speed\"),\n",
    "        F.col(\"active_vehicles\"),\n",
    "        F.col(\"max_speed\"),\n",
    "        F.col(\"min_speed\"),\n",
    "        F.col(\"avg_occupancy\")\n",
    "    )"
   ]
  },
  {
   "cell_type": "code",
   "execution_count": 17,
   "metadata": {},
   "outputs": [
    {
     "name": "stdout",
     "output_type": "stream",
     "text": [
      "root\n",
      " |-- vehicle_type: string (nullable = false)\n",
      " |-- window_start: timestamp (nullable = true)\n",
      " |-- window_end: timestamp (nullable = true)\n",
      " |-- avg_speed: double (nullable = true)\n",
      " |-- active_vehicles: long (nullable = false)\n",
      " |-- max_speed: double (nullable = true)\n",
      " |-- min_speed: double (nullable = true)\n",
      " |-- avg_occupancy: double (nullable = true)\n",
      "\n"
     ]
    }
   ],
   "source": [
    "fleet_analysis.printSchema()"
   ]
  },
  {
   "cell_type": "code",
   "execution_count": 18,
   "metadata": {},
   "outputs": [],
   "source": [
    "analysis_types = ['avg_speed', 'active_vehicles', 'max_speed', 'min_speed', 'avg_occupancy']"
   ]
  },
  {
   "cell_type": "code",
   "execution_count": 19,
   "metadata": {},
   "outputs": [],
   "source": [
    "fleet_analysis_long = fleet_analysis.select(\n",
    "    F.col(\"vehicle_type\"),\n",
    "    F.col(\"window_start\"),\n",
    "    F.col(\"window_end\"),\n",
    "    F.lit(\"avg_speed\").alias(\"analysis_type\"),\n",
    "    F.col(\"avg_speed\").alias(\"metric_value\")\n",
    ").union(\n",
    "    fleet_analysis.select(\n",
    "        F.col(\"vehicle_type\"),\n",
    "        F.col(\"window_start\"),\n",
    "        F.col(\"window_end\"),\n",
    "        F.lit(\"active_vehicles\").alias(\"analysis_type\"),\n",
    "        F.col(\"active_vehicles\").alias(\"metric_value\")\n",
    "    )\n",
    ").union(\n",
    "    fleet_analysis.select(\n",
    "        F.col(\"vehicle_type\"),\n",
    "        F.col(\"window_start\"),\n",
    "        F.col(\"window_end\"),\n",
    "        F.lit(\"max_speed\").alias(\"analysis_type\"),\n",
    "        F.col(\"max_speed\").alias(\"metric_value\")\n",
    "    )\n",
    ").union(\n",
    "    fleet_analysis.select(\n",
    "        F.col(\"vehicle_type\"),\n",
    "        F.col(\"window_start\"),\n",
    "        F.col(\"window_end\"),\n",
    "        F.lit(\"min_speed\").alias(\"analysis_type\"),\n",
    "        F.col(\"min_speed\").alias(\"metric_value\")\n",
    "    )\n",
    ")"
   ]
  },
  {
   "cell_type": "code",
   "execution_count": 20,
   "metadata": {},
   "outputs": [],
   "source": [
    "fleet_analysis_long = fleet_analysis_long \\\n",
    "    .withColumnRenamed(\"window_start\", \"time_window_start\") \\\n",
    "    .withColumnRenamed(\"window_end\", \"time_window_end\")"
   ]
  },
  {
   "cell_type": "code",
   "execution_count": 21,
   "metadata": {},
   "outputs": [
    {
     "name": "stdout",
     "output_type": "stream",
     "text": [
      "root\n",
      " |-- vehicle_type: string (nullable = false)\n",
      " |-- time_window_start: timestamp (nullable = true)\n",
      " |-- time_window_end: timestamp (nullable = true)\n",
      " |-- analysis_type: string (nullable = false)\n",
      " |-- metric_value: double (nullable = true)\n",
      "\n"
     ]
    }
   ],
   "source": [
    "fleet_analysis_long.printSchema()"
   ]
  },
  {
   "cell_type": "code",
   "execution_count": 22,
   "metadata": {},
   "outputs": [],
   "source": [
    "from pyspark.sql.functions import col, from_json, avg, min, max, count, desc\n",
    "from pyspark.sql.types import StructType, StringType, DoubleType, IntegerType"
   ]
  },
  {
   "cell_type": "code",
   "execution_count": 24,
   "metadata": {},
   "outputs": [
    {
     "name": "stdout",
     "output_type": "stream",
     "text": [
      "root\n",
      " |-- vehicle_type: string (nullable = false)\n",
      " |-- nextstop: string (nullable = false)\n",
      " |-- desi: string (nullable = false)\n",
      " |-- dir: string (nullable = false)\n",
      " |-- oper: integer (nullable = false)\n",
      " |-- veh: integer (nullable = false)\n",
      " |-- tst: timestamp (nullable = true)\n",
      " |-- tsi: long (nullable = false)\n",
      " |-- spd: double (nullable = false)\n",
      " |-- hdg: integer (nullable = false)\n",
      " |-- lat: double (nullable = false)\n",
      " |-- long: double (nullable = false)\n",
      " |-- acc: double (nullable = false)\n",
      " |-- dl: integer (nullable = false)\n",
      " |-- odo: integer (nullable = false)\n",
      " |-- drst: integer (nullable = false)\n",
      " |-- oday: string (nullable = false)\n",
      " |-- jrn: integer (nullable = false)\n",
      " |-- line: integer (nullable = false)\n",
      " |-- start: string (nullable = false)\n",
      " |-- loc: string (nullable = false)\n",
      " |-- stop: integer (nullable = false)\n",
      " |-- route: string (nullable = false)\n",
      " |-- occu: integer (nullable = false)\n",
      "\n"
     ]
    }
   ],
   "source": [
    "flattened_df_vp_clean.printSchema()"
   ]
  },
  {
   "cell_type": "code",
   "execution_count": 25,
   "metadata": {},
   "outputs": [],
   "source": [
    "df_analysis = flattened_df_vp_clean.groupBy(\"line\").agg(\n",
    "    avg(col(\"spd\")).alias(\"vitesse_moyenne\"),\n",
    "    min(col(\"spd\")).alias(\"vitesse_min\"),\n",
    "    max(col(\"spd\")).alias(\"vitesse_max\"),\n",
    "    avg(col(\"dl\")).alias(\"retard_moyen\"),\n",
    "    count(col(\"veh\")).alias(\"nb_vehicules_actifs\")\n",
    ").orderBy(desc(\"nb_vehicules_actifs\"))"
   ]
  },
  {
   "cell_type": "code",
   "execution_count": 34,
   "metadata": {},
   "outputs": [
    {
     "name": "stdout",
     "output_type": "stream",
     "text": [
      "root\n",
      " |-- line: integer (nullable = false)\n",
      " |-- vitesse_moyenne: double (nullable = true)\n",
      " |-- vitesse_min: double (nullable = true)\n",
      " |-- vitesse_max: double (nullable = true)\n",
      " |-- retard_moyen: double (nullable = true)\n",
      " |-- nb_vehicules_actifs: long (nullable = false)\n",
      "\n"
     ]
    }
   ],
   "source": [
    "df_analysis.printSchema()"
   ]
  },
  {
   "cell_type": "code",
   "execution_count": 36,
   "metadata": {},
   "outputs": [],
   "source": [
    "df_analysis = df_analysis.withColumn(\"nb_vehicules_actifs\", col(\"nb_vehicules_actifs\").cast(IntegerType()))\n"
   ]
  },
  {
   "cell_type": "code",
   "execution_count": 37,
   "metadata": {},
   "outputs": [
    {
     "name": "stderr",
     "output_type": "stream",
     "text": [
      "25/01/30 22:20:07 WARN ResolveWriteToStream: spark.sql.adaptive.enabled is not supported in streaming DataFrames/Datasets and will be disabled.\n"
     ]
    },
    {
     "ename": "AnalysisException",
     "evalue": "Append output mode not supported when there are streaming aggregations on streaming DataFrames/DataSets without watermark;\nProject [line#603, vitesse_moyenne#987, vitesse_min#989, vitesse_max#991, retard_moyen#993, cast(nb_vehicules_actifs#995L as int) AS nb_vehicules_actifs#1224]\n+- Sort [nb_vehicules_actifs#995L DESC NULLS LAST], true\n   +- Aggregate [line#603], [line#603, avg(spd#353) AS vitesse_moyenne#987, min(spd#353) AS vitesse_min#989, max(spd#353) AS vitesse_max#991, avg(dl#478) AS retard_moyen#993, count(veh#278) AS nb_vehicules_actifs#995L]\n      +- Filter isnotnull(spd#353)\n         +- Project [vehicle_type#153, nextstop#178, desi#203, dir#228, oper#253, veh#278, cast(tst#303 as timestamp) AS tst#777, tsi#328L, spd#353, hdg#378, lat#403, long#428, acc#453, dl#478, odo#503, drst#528, oday#553, jrn#578, line#603, start#628, loc#653, stop#678, route#703, occu#728]\n            +- Project [vehicle_type#153, nextstop#178, desi#203, dir#228, oper#253, veh#278, tst#303, tsi#328L, spd#353, hdg#378, lat#403, long#428, acc#453, dl#478, odo#503, drst#528, oday#553, jrn#578, line#603, start#628, loc#653, stop#678, route#703, occu#728]\n               +- Project [vehicle_type#153, nextstop#178, desi#203, dir#228, oper#253, veh#278, tst#303, tsi#328L, spd#353, hdg#378, lat#403, long#428, acc#453, dl#478, odo#503, drst#528, oday#553, jrn#578, line#603, start#628, loc#653, stop#678, route#703, cast(occu#128 as int) AS occu#728]\n                  +- Project [vehicle_type#153, nextstop#178, desi#203, dir#228, oper#253, veh#278, tst#303, tsi#328L, spd#353, hdg#378, lat#403, long#428, acc#453, dl#478, odo#503, drst#528, oday#553, jrn#578, line#603, start#628, loc#653, stop#678, cast(route#127 as string) AS route#703, occu#128]\n                     +- Project [vehicle_type#153, nextstop#178, desi#203, dir#228, oper#253, veh#278, tst#303, tsi#328L, spd#353, hdg#378, lat#403, long#428, acc#453, dl#478, odo#503, drst#528, oday#553, jrn#578, line#603, start#628, loc#653, cast(stop#126 as int) AS stop#678, route#127, occu#128]\n                        +- Project [vehicle_type#153, nextstop#178, desi#203, dir#228, oper#253, veh#278, tst#303, tsi#328L, spd#353, hdg#378, lat#403, long#428, acc#453, dl#478, odo#503, drst#528, oday#553, jrn#578, line#603, start#628, cast(loc#125 as string) AS loc#653, stop#126, route#127, occu#128]\n                           +- Project [vehicle_type#153, nextstop#178, desi#203, dir#228, oper#253, veh#278, tst#303, tsi#328L, spd#353, hdg#378, lat#403, long#428, acc#453, dl#478, odo#503, drst#528, oday#553, jrn#578, line#603, cast(start#124 as string) AS start#628, loc#125, stop#126, route#127, occu#128]\n                              +- Project [vehicle_type#153, nextstop#178, desi#203, dir#228, oper#253, veh#278, tst#303, tsi#328L, spd#353, hdg#378, lat#403, long#428, acc#453, dl#478, odo#503, drst#528, oday#553, jrn#578, cast(line#123 as int) AS line#603, start#124, loc#125, stop#126, route#127, occu#128]\n                                 +- Project [vehicle_type#153, nextstop#178, desi#203, dir#228, oper#253, veh#278, tst#303, tsi#328L, spd#353, hdg#378, lat#403, long#428, acc#453, dl#478, odo#503, drst#528, oday#553, cast(jrn#122 as int) AS jrn#578, line#123, start#124, loc#125, stop#126, route#127, occu#128]\n                                    +- Project [vehicle_type#153, nextstop#178, desi#203, dir#228, oper#253, veh#278, tst#303, tsi#328L, spd#353, hdg#378, lat#403, long#428, acc#453, dl#478, odo#503, drst#528, cast(oday#121 as string) AS oday#553, jrn#122, line#123, start#124, loc#125, stop#126, route#127, occu#128]\n                                       +- Project [vehicle_type#153, nextstop#178, desi#203, dir#228, oper#253, veh#278, tst#303, tsi#328L, spd#353, hdg#378, lat#403, long#428, acc#453, dl#478, odo#503, cast(drst#120 as int) AS drst#528, oday#121, jrn#122, line#123, start#124, loc#125, stop#126, route#127, occu#128]\n                                          +- Project [vehicle_type#153, nextstop#178, desi#203, dir#228, oper#253, veh#278, tst#303, tsi#328L, spd#353, hdg#378, lat#403, long#428, acc#453, dl#478, cast(odo#119 as int) AS odo#503, drst#120, oday#121, jrn#122, line#123, start#124, loc#125, stop#126, route#127, occu#128]\n                                             +- Project [vehicle_type#153, nextstop#178, desi#203, dir#228, oper#253, veh#278, tst#303, tsi#328L, spd#353, hdg#378, lat#403, long#428, acc#453, cast(dl#118 as int) AS dl#478, odo#119, drst#120, oday#121, jrn#122, line#123, start#124, loc#125, stop#126, route#127, occu#128]\n                                                +- Project [vehicle_type#153, nextstop#178, desi#203, dir#228, oper#253, veh#278, tst#303, tsi#328L, spd#353, hdg#378, lat#403, long#428, cast(acc#117 as double) AS acc#453, dl#118, odo#119, drst#120, oday#121, jrn#122, line#123, start#124, loc#125, stop#126, route#127, occu#128]\n                                                   +- Project [vehicle_type#153, nextstop#178, desi#203, dir#228, oper#253, veh#278, tst#303, tsi#328L, spd#353, hdg#378, lat#403, cast(long#116 as double) AS long#428, acc#117, dl#118, odo#119, drst#120, oday#121, jrn#122, line#123, start#124, loc#125, stop#126, route#127, occu#128]\n                                                      +- Project [vehicle_type#153, nextstop#178, desi#203, dir#228, oper#253, veh#278, tst#303, tsi#328L, spd#353, hdg#378, cast(lat#115 as double) AS lat#403, long#116, acc#117, dl#118, odo#119, drst#120, oday#121, jrn#122, line#123, start#124, loc#125, stop#126, route#127, occu#128]\n                                                         +- Project [vehicle_type#153, nextstop#178, desi#203, dir#228, oper#253, veh#278, tst#303, tsi#328L, spd#353, cast(hdg#114 as int) AS hdg#378, lat#115, long#116, acc#117, dl#118, odo#119, drst#120, oday#121, jrn#122, line#123, start#124, loc#125, stop#126, route#127, occu#128]\n                                                            +- Project [vehicle_type#153, nextstop#178, desi#203, dir#228, oper#253, veh#278, tst#303, tsi#328L, cast((spd#113 * 3.6) as double) AS spd#353, hdg#114, lat#115, long#116, acc#117, dl#118, odo#119, drst#120, oday#121, jrn#122, line#123, start#124, loc#125, stop#126, route#127, occu#128]\n                                                               +- Project [vehicle_type#153, nextstop#178, desi#203, dir#228, oper#253, veh#278, tst#303, cast(tsi#112L as bigint) AS tsi#328L, spd#113, hdg#114, lat#115, long#116, acc#117, dl#118, odo#119, drst#120, oday#121, jrn#122, line#123, start#124, loc#125, stop#126, route#127, occu#128]\n                                                                  +- Project [vehicle_type#153, nextstop#178, desi#203, dir#228, oper#253, veh#278, cast(tst#111 as string) AS tst#303, tsi#112L, spd#113, hdg#114, lat#115, long#116, acc#117, dl#118, odo#119, drst#120, oday#121, jrn#122, line#123, start#124, loc#125, stop#126, route#127, occu#128]\n                                                                     +- Project [vehicle_type#153, nextstop#178, desi#203, dir#228, oper#253, cast(veh#110 as int) AS veh#278, tst#111, tsi#112L, spd#113, hdg#114, lat#115, long#116, acc#117, dl#118, odo#119, drst#120, oday#121, jrn#122, line#123, start#124, loc#125, stop#126, route#127, occu#128]\n                                                                        +- Project [vehicle_type#153, nextstop#178, desi#203, dir#228, cast(oper#109 as int) AS oper#253, veh#110, tst#111, tsi#112L, spd#113, hdg#114, lat#115, long#116, acc#117, dl#118, odo#119, drst#120, oday#121, jrn#122, line#123, start#124, loc#125, stop#126, route#127, occu#128]\n                                                                           +- Project [vehicle_type#153, nextstop#178, desi#203, cast(dir#108 as string) AS dir#228, oper#109, veh#110, tst#111, tsi#112L, spd#113, hdg#114, lat#115, long#116, acc#117, dl#118, odo#119, drst#120, oday#121, jrn#122, line#123, start#124, loc#125, stop#126, route#127, occu#128]\n                                                                              +- Project [vehicle_type#153, nextstop#178, cast(desi#107 as string) AS desi#203, dir#108, oper#109, veh#110, tst#111, tsi#112L, spd#113, hdg#114, lat#115, long#116, acc#117, dl#118, odo#119, drst#120, oday#121, jrn#122, line#123, start#124, loc#125, stop#126, route#127, occu#128]\n                                                                                 +- Project [vehicle_type#153, cast(nextStop#106 as string) AS nextstop#178, desi#107, dir#108, oper#109, veh#110, tst#111, tsi#112L, spd#113, hdg#114, lat#115, long#116, acc#117, dl#118, odo#119, drst#120, oday#121, jrn#122, line#123, start#124, loc#125, stop#126, route#127, occu#128]\n                                                                                    +- Project [cast(vehicle_type#105 as string) AS vehicle_type#153, nextStop#106, desi#107, dir#108, oper#109, veh#110, tst#111, tsi#112L, spd#113, hdg#114, lat#115, long#116, acc#117, dl#118, odo#119, drst#120, oday#121, jrn#122, line#123, start#124, loc#125, stop#126, route#127, occu#128]\n                                                                                       +- Project [coalesce(vehicle_type#33, cast(Unknown as string)) AS vehicle_type#105, coalesce(nextStop#34, cast(Unknown as string)) AS nextStop#106, coalesce(desi#35, cast(Unknown as string)) AS desi#107, coalesce(dir#36, cast(Unknown as string)) AS dir#108, coalesce(oper#37, cast(0 as int)) AS oper#109, coalesce(veh#38, cast(0 as int)) AS veh#110, coalesce(tst#39, cast(Unknown as string)) AS tst#111, coalesce(tsi#40L, cast(0 as bigint)) AS tsi#112L, coalesce(nanvl(spd#41, cast(null as double)), cast(0.0 as double)) AS spd#113, coalesce(hdg#42, cast(0 as int)) AS hdg#114, coalesce(nanvl(lat#43, cast(null as double)), cast(0.0 as double)) AS lat#115, coalesce(nanvl(long#44, cast(null as double)), cast(0.0 as double)) AS long#116, coalesce(nanvl(acc#45, cast(null as double)), cast(0.0 as double)) AS acc#117, coalesce(dl#46, cast(0 as int)) AS dl#118, coalesce(odo#47, cast(0 as int)) AS odo#119, coalesce(drst#48, cast(0 as int)) AS drst#120, coalesce(oday#49, cast(Unknown as string)) AS oday#121, coalesce(jrn#50, cast(0 as int)) AS jrn#122, coalesce(line#51, cast(0 as int)) AS line#123, coalesce(start#52, cast(Unknown as string)) AS start#124, coalesce(loc#53, cast(Unknown as string)) AS loc#125, coalesce(stop#54, cast(0 as int)) AS stop#126, coalesce(route#55, cast(Unknown as string)) AS route#127, coalesce(occu#56, cast(0 as int)) AS occu#128]\n                                                                                          +- Project [data#31.vehicle_type AS vehicle_type#33, data#31.nextStop AS nextStop#34, data#31.VP.desi AS desi#35, data#31.VP.dir AS dir#36, data#31.VP.oper AS oper#37, data#31.VP.veh AS veh#38, data#31.VP.tst AS tst#39, data#31.VP.tsi AS tsi#40L, data#31.VP.spd AS spd#41, data#31.VP.hdg AS hdg#42, data#31.VP.lat AS lat#43, data#31.VP.long AS long#44, data#31.VP.acc AS acc#45, data#31.VP.dl AS dl#46, data#31.VP.odo AS odo#47, data#31.VP.drst AS drst#48, data#31.VP.oday AS oday#49, data#31.VP.jrn AS jrn#50, data#31.VP.line AS line#51, data#31.VP.start AS start#52, data#31.VP.loc AS loc#53, data#31.VP.stop AS stop#54, data#31.VP.route AS route#55, data#31.VP.occu AS occu#56]\n                                                                                             +- Project [from_json(StructField(vehicle_type,StringType,true), StructField(nextStop,StringType,true), StructField(VP,StructType(StructField(desi,StringType,true),StructField(dir,StringType,true),StructField(oper,IntegerType,true),StructField(veh,IntegerType,true),StructField(tst,StringType,true),StructField(tsi,LongType,true),StructField(spd,DoubleType,true),StructField(hdg,IntegerType,true),StructField(lat,DoubleType,true),StructField(long,DoubleType,true),StructField(acc,DoubleType,true),StructField(dl,IntegerType,true),StructField(odo,IntegerType,true),StructField(drst,IntegerType,true),StructField(oday,StringType,true),StructField(jrn,IntegerType,true),StructField(line,IntegerType,true),StructField(start,StringType,true),StructField(loc,StringType,true),StructField(stop,IntegerType,true),StructField(route,StringType,true),StructField(occu,IntegerType,true)),true), value#29, Some(Europe/Paris)) AS data#31]\n                                                                                                +- Project [cast(value#21 as string) AS value#29]\n                                                                                                   +- Project [key#7, cast(value#8 as string) AS value#21, topic#9, partition#10, offset#11L, timestamp#12, timestampType#13]\n                                                                                                      +- StreamingRelationV2 org.apache.spark.sql.kafka010.KafkaSourceProvider@56564a40, kafka, org.apache.spark.sql.kafka010.KafkaSourceProvider$KafkaTable@7d3fce53, [startingOffsets=earliest, kafka.bootstrap.servers=localhost:9092, subscribe=vp, enable.auto.create.topics=false], [key#7, value#8, topic#9, partition#10, offset#11L, timestamp#12, timestampType#13], StreamingRelation DataSource(org.apache.spark.sql.SparkSession@596078e3,kafka,List(),None,List(),None,Map(kafka.bootstrap.servers -> localhost:9092, subscribe -> vp, startingOffsets -> earliest, enable.auto.create.topics -> false),None), kafka, [key#0, value#1, topic#2, partition#3, offset#4L, timestamp#5, timestampType#6]\n",
     "output_type": "error",
     "traceback": [
      "\u001b[0;31m---------------------------------------------------------------------------\u001b[0m",
      "\u001b[0;31mAnalysisException\u001b[0m                         Traceback (most recent call last)",
      "Cell \u001b[0;32mIn[37], line 7\u001b[0m\n\u001b[1;32m      1\u001b[0m \u001b[43mdf_analysis\u001b[49m\u001b[38;5;241;43m.\u001b[39;49m\u001b[43mwriteStream\u001b[49m\u001b[43m \u001b[49m\u001b[43m\\\u001b[49m\n\u001b[1;32m      2\u001b[0m \u001b[43m    \u001b[49m\u001b[38;5;241;43m.\u001b[39;49m\u001b[43mformat\u001b[49m\u001b[43m(\u001b[49m\u001b[38;5;124;43m\"\u001b[39;49m\u001b[38;5;124;43morg.apache.spark.sql.cassandra\u001b[39;49m\u001b[38;5;124;43m\"\u001b[39;49m\u001b[43m)\u001b[49m\u001b[43m \u001b[49m\u001b[43m\\\u001b[49m\n\u001b[1;32m      3\u001b[0m \u001b[43m    \u001b[49m\u001b[38;5;241;43m.\u001b[39;49m\u001b[43moption\u001b[49m\u001b[43m(\u001b[49m\u001b[38;5;124;43m\"\u001b[39;49m\u001b[38;5;124;43mkeyspace\u001b[39;49m\u001b[38;5;124;43m\"\u001b[39;49m\u001b[43m,\u001b[49m\u001b[43m \u001b[49m\u001b[38;5;124;43m\"\u001b[39;49m\u001b[38;5;124;43mtest\u001b[39;49m\u001b[38;5;124;43m\"\u001b[39;49m\u001b[43m)\u001b[49m\u001b[43m \u001b[49m\u001b[43m\\\u001b[49m\n\u001b[1;32m      4\u001b[0m \u001b[43m    \u001b[49m\u001b[38;5;241;43m.\u001b[39;49m\u001b[43moption\u001b[49m\u001b[43m(\u001b[49m\u001b[38;5;124;43m\"\u001b[39;49m\u001b[38;5;124;43mtable\u001b[39;49m\u001b[38;5;124;43m\"\u001b[39;49m\u001b[43m,\u001b[49m\u001b[43m \u001b[49m\u001b[38;5;124;43m\"\u001b[39;49m\u001b[38;5;124;43manalyses_temps_reel\u001b[39;49m\u001b[38;5;124;43m\"\u001b[39;49m\u001b[43m)\u001b[49m\u001b[43m \u001b[49m\u001b[43m\\\u001b[49m\n\u001b[1;32m      5\u001b[0m \u001b[43m    \u001b[49m\u001b[38;5;241;43m.\u001b[39;49m\u001b[43moutputMode\u001b[49m\u001b[43m(\u001b[49m\u001b[38;5;124;43m\"\u001b[39;49m\u001b[38;5;124;43mappend\u001b[39;49m\u001b[38;5;124;43m\"\u001b[39;49m\u001b[43m)\u001b[49m\u001b[43m \u001b[49m\u001b[43m\\\u001b[49m\n\u001b[1;32m      6\u001b[0m \u001b[43m    \u001b[49m\u001b[38;5;241;43m.\u001b[39;49m\u001b[43moption\u001b[49m\u001b[43m(\u001b[49m\u001b[38;5;124;43m\"\u001b[39;49m\u001b[38;5;124;43mcheckpointLocation\u001b[39;49m\u001b[38;5;124;43m\"\u001b[39;49m\u001b[43m,\u001b[49m\u001b[43m \u001b[49m\u001b[38;5;124;43m\"\u001b[39;49m\u001b[38;5;124;43mcheckpoint/check__Line\u001b[39;49m\u001b[38;5;124;43m\"\u001b[39;49m\u001b[43m)\u001b[49m\u001b[43m \u001b[49m\u001b[43m\\\u001b[49m\n\u001b[0;32m----> 7\u001b[0m \u001b[43m    \u001b[49m\u001b[38;5;241;43m.\u001b[39;49m\u001b[43mstart\u001b[49m\u001b[43m(\u001b[49m\u001b[43m)\u001b[49m \\\n\u001b[1;32m      8\u001b[0m     \u001b[38;5;241m.\u001b[39mawaitTermination()\n",
      "File \u001b[0;32m~/.local/lib/python3.10/site-packages/pyspark/sql/streaming/readwriter.py:1527\u001b[0m, in \u001b[0;36mDataStreamWriter.start\u001b[0;34m(self, path, format, outputMode, partitionBy, queryName, **options)\u001b[0m\n\u001b[1;32m   1525\u001b[0m     \u001b[38;5;28mself\u001b[39m\u001b[38;5;241m.\u001b[39mqueryName(queryName)\n\u001b[1;32m   1526\u001b[0m \u001b[38;5;28;01mif\u001b[39;00m path \u001b[38;5;129;01mis\u001b[39;00m \u001b[38;5;28;01mNone\u001b[39;00m:\n\u001b[0;32m-> 1527\u001b[0m     \u001b[38;5;28;01mreturn\u001b[39;00m \u001b[38;5;28mself\u001b[39m\u001b[38;5;241m.\u001b[39m_sq(\u001b[38;5;28;43mself\u001b[39;49m\u001b[38;5;241;43m.\u001b[39;49m\u001b[43m_jwrite\u001b[49m\u001b[38;5;241;43m.\u001b[39;49m\u001b[43mstart\u001b[49m\u001b[43m(\u001b[49m\u001b[43m)\u001b[49m)\n\u001b[1;32m   1528\u001b[0m \u001b[38;5;28;01melse\u001b[39;00m:\n\u001b[1;32m   1529\u001b[0m     \u001b[38;5;28;01mreturn\u001b[39;00m \u001b[38;5;28mself\u001b[39m\u001b[38;5;241m.\u001b[39m_sq(\u001b[38;5;28mself\u001b[39m\u001b[38;5;241m.\u001b[39m_jwrite\u001b[38;5;241m.\u001b[39mstart(path))\n",
      "File \u001b[0;32m~/.local/lib/python3.10/site-packages/py4j/java_gateway.py:1322\u001b[0m, in \u001b[0;36mJavaMember.__call__\u001b[0;34m(self, *args)\u001b[0m\n\u001b[1;32m   1316\u001b[0m command \u001b[38;5;241m=\u001b[39m proto\u001b[38;5;241m.\u001b[39mCALL_COMMAND_NAME \u001b[38;5;241m+\u001b[39m\\\n\u001b[1;32m   1317\u001b[0m     \u001b[38;5;28mself\u001b[39m\u001b[38;5;241m.\u001b[39mcommand_header \u001b[38;5;241m+\u001b[39m\\\n\u001b[1;32m   1318\u001b[0m     args_command \u001b[38;5;241m+\u001b[39m\\\n\u001b[1;32m   1319\u001b[0m     proto\u001b[38;5;241m.\u001b[39mEND_COMMAND_PART\n\u001b[1;32m   1321\u001b[0m answer \u001b[38;5;241m=\u001b[39m \u001b[38;5;28mself\u001b[39m\u001b[38;5;241m.\u001b[39mgateway_client\u001b[38;5;241m.\u001b[39msend_command(command)\n\u001b[0;32m-> 1322\u001b[0m return_value \u001b[38;5;241m=\u001b[39m \u001b[43mget_return_value\u001b[49m\u001b[43m(\u001b[49m\n\u001b[1;32m   1323\u001b[0m \u001b[43m    \u001b[49m\u001b[43manswer\u001b[49m\u001b[43m,\u001b[49m\u001b[43m \u001b[49m\u001b[38;5;28;43mself\u001b[39;49m\u001b[38;5;241;43m.\u001b[39;49m\u001b[43mgateway_client\u001b[49m\u001b[43m,\u001b[49m\u001b[43m \u001b[49m\u001b[38;5;28;43mself\u001b[39;49m\u001b[38;5;241;43m.\u001b[39;49m\u001b[43mtarget_id\u001b[49m\u001b[43m,\u001b[49m\u001b[43m \u001b[49m\u001b[38;5;28;43mself\u001b[39;49m\u001b[38;5;241;43m.\u001b[39;49m\u001b[43mname\u001b[49m\u001b[43m)\u001b[49m\n\u001b[1;32m   1325\u001b[0m \u001b[38;5;28;01mfor\u001b[39;00m temp_arg \u001b[38;5;129;01min\u001b[39;00m temp_args:\n\u001b[1;32m   1326\u001b[0m     \u001b[38;5;28;01mif\u001b[39;00m \u001b[38;5;28mhasattr\u001b[39m(temp_arg, \u001b[38;5;124m\"\u001b[39m\u001b[38;5;124m_detach\u001b[39m\u001b[38;5;124m\"\u001b[39m):\n",
      "File \u001b[0;32m~/.local/lib/python3.10/site-packages/pyspark/errors/exceptions/captured.py:185\u001b[0m, in \u001b[0;36mcapture_sql_exception.<locals>.deco\u001b[0;34m(*a, **kw)\u001b[0m\n\u001b[1;32m    181\u001b[0m converted \u001b[38;5;241m=\u001b[39m convert_exception(e\u001b[38;5;241m.\u001b[39mjava_exception)\n\u001b[1;32m    182\u001b[0m \u001b[38;5;28;01mif\u001b[39;00m \u001b[38;5;129;01mnot\u001b[39;00m \u001b[38;5;28misinstance\u001b[39m(converted, UnknownException):\n\u001b[1;32m    183\u001b[0m     \u001b[38;5;66;03m# Hide where the exception came from that shows a non-Pythonic\u001b[39;00m\n\u001b[1;32m    184\u001b[0m     \u001b[38;5;66;03m# JVM exception message.\u001b[39;00m\n\u001b[0;32m--> 185\u001b[0m     \u001b[38;5;28;01mraise\u001b[39;00m converted \u001b[38;5;28;01mfrom\u001b[39;00m \u001b[38;5;28;01mNone\u001b[39;00m\n\u001b[1;32m    186\u001b[0m \u001b[38;5;28;01melse\u001b[39;00m:\n\u001b[1;32m    187\u001b[0m     \u001b[38;5;28;01mraise\u001b[39;00m\n",
      "\u001b[0;31mAnalysisException\u001b[0m: Append output mode not supported when there are streaming aggregations on streaming DataFrames/DataSets without watermark;\nProject [line#603, vitesse_moyenne#987, vitesse_min#989, vitesse_max#991, retard_moyen#993, cast(nb_vehicules_actifs#995L as int) AS nb_vehicules_actifs#1224]\n+- Sort [nb_vehicules_actifs#995L DESC NULLS LAST], true\n   +- Aggregate [line#603], [line#603, avg(spd#353) AS vitesse_moyenne#987, min(spd#353) AS vitesse_min#989, max(spd#353) AS vitesse_max#991, avg(dl#478) AS retard_moyen#993, count(veh#278) AS nb_vehicules_actifs#995L]\n      +- Filter isnotnull(spd#353)\n         +- Project [vehicle_type#153, nextstop#178, desi#203, dir#228, oper#253, veh#278, cast(tst#303 as timestamp) AS tst#777, tsi#328L, spd#353, hdg#378, lat#403, long#428, acc#453, dl#478, odo#503, drst#528, oday#553, jrn#578, line#603, start#628, loc#653, stop#678, route#703, occu#728]\n            +- Project [vehicle_type#153, nextstop#178, desi#203, dir#228, oper#253, veh#278, tst#303, tsi#328L, spd#353, hdg#378, lat#403, long#428, acc#453, dl#478, odo#503, drst#528, oday#553, jrn#578, line#603, start#628, loc#653, stop#678, route#703, occu#728]\n               +- Project [vehicle_type#153, nextstop#178, desi#203, dir#228, oper#253, veh#278, tst#303, tsi#328L, spd#353, hdg#378, lat#403, long#428, acc#453, dl#478, odo#503, drst#528, oday#553, jrn#578, line#603, start#628, loc#653, stop#678, route#703, cast(occu#128 as int) AS occu#728]\n                  +- Project [vehicle_type#153, nextstop#178, desi#203, dir#228, oper#253, veh#278, tst#303, tsi#328L, spd#353, hdg#378, lat#403, long#428, acc#453, dl#478, odo#503, drst#528, oday#553, jrn#578, line#603, start#628, loc#653, stop#678, cast(route#127 as string) AS route#703, occu#128]\n                     +- Project [vehicle_type#153, nextstop#178, desi#203, dir#228, oper#253, veh#278, tst#303, tsi#328L, spd#353, hdg#378, lat#403, long#428, acc#453, dl#478, odo#503, drst#528, oday#553, jrn#578, line#603, start#628, loc#653, cast(stop#126 as int) AS stop#678, route#127, occu#128]\n                        +- Project [vehicle_type#153, nextstop#178, desi#203, dir#228, oper#253, veh#278, tst#303, tsi#328L, spd#353, hdg#378, lat#403, long#428, acc#453, dl#478, odo#503, drst#528, oday#553, jrn#578, line#603, start#628, cast(loc#125 as string) AS loc#653, stop#126, route#127, occu#128]\n                           +- Project [vehicle_type#153, nextstop#178, desi#203, dir#228, oper#253, veh#278, tst#303, tsi#328L, spd#353, hdg#378, lat#403, long#428, acc#453, dl#478, odo#503, drst#528, oday#553, jrn#578, line#603, cast(start#124 as string) AS start#628, loc#125, stop#126, route#127, occu#128]\n                              +- Project [vehicle_type#153, nextstop#178, desi#203, dir#228, oper#253, veh#278, tst#303, tsi#328L, spd#353, hdg#378, lat#403, long#428, acc#453, dl#478, odo#503, drst#528, oday#553, jrn#578, cast(line#123 as int) AS line#603, start#124, loc#125, stop#126, route#127, occu#128]\n                                 +- Project [vehicle_type#153, nextstop#178, desi#203, dir#228, oper#253, veh#278, tst#303, tsi#328L, spd#353, hdg#378, lat#403, long#428, acc#453, dl#478, odo#503, drst#528, oday#553, cast(jrn#122 as int) AS jrn#578, line#123, start#124, loc#125, stop#126, route#127, occu#128]\n                                    +- Project [vehicle_type#153, nextstop#178, desi#203, dir#228, oper#253, veh#278, tst#303, tsi#328L, spd#353, hdg#378, lat#403, long#428, acc#453, dl#478, odo#503, drst#528, cast(oday#121 as string) AS oday#553, jrn#122, line#123, start#124, loc#125, stop#126, route#127, occu#128]\n                                       +- Project [vehicle_type#153, nextstop#178, desi#203, dir#228, oper#253, veh#278, tst#303, tsi#328L, spd#353, hdg#378, lat#403, long#428, acc#453, dl#478, odo#503, cast(drst#120 as int) AS drst#528, oday#121, jrn#122, line#123, start#124, loc#125, stop#126, route#127, occu#128]\n                                          +- Project [vehicle_type#153, nextstop#178, desi#203, dir#228, oper#253, veh#278, tst#303, tsi#328L, spd#353, hdg#378, lat#403, long#428, acc#453, dl#478, cast(odo#119 as int) AS odo#503, drst#120, oday#121, jrn#122, line#123, start#124, loc#125, stop#126, route#127, occu#128]\n                                             +- Project [vehicle_type#153, nextstop#178, desi#203, dir#228, oper#253, veh#278, tst#303, tsi#328L, spd#353, hdg#378, lat#403, long#428, acc#453, cast(dl#118 as int) AS dl#478, odo#119, drst#120, oday#121, jrn#122, line#123, start#124, loc#125, stop#126, route#127, occu#128]\n                                                +- Project [vehicle_type#153, nextstop#178, desi#203, dir#228, oper#253, veh#278, tst#303, tsi#328L, spd#353, hdg#378, lat#403, long#428, cast(acc#117 as double) AS acc#453, dl#118, odo#119, drst#120, oday#121, jrn#122, line#123, start#124, loc#125, stop#126, route#127, occu#128]\n                                                   +- Project [vehicle_type#153, nextstop#178, desi#203, dir#228, oper#253, veh#278, tst#303, tsi#328L, spd#353, hdg#378, lat#403, cast(long#116 as double) AS long#428, acc#117, dl#118, odo#119, drst#120, oday#121, jrn#122, line#123, start#124, loc#125, stop#126, route#127, occu#128]\n                                                      +- Project [vehicle_type#153, nextstop#178, desi#203, dir#228, oper#253, veh#278, tst#303, tsi#328L, spd#353, hdg#378, cast(lat#115 as double) AS lat#403, long#116, acc#117, dl#118, odo#119, drst#120, oday#121, jrn#122, line#123, start#124, loc#125, stop#126, route#127, occu#128]\n                                                         +- Project [vehicle_type#153, nextstop#178, desi#203, dir#228, oper#253, veh#278, tst#303, tsi#328L, spd#353, cast(hdg#114 as int) AS hdg#378, lat#115, long#116, acc#117, dl#118, odo#119, drst#120, oday#121, jrn#122, line#123, start#124, loc#125, stop#126, route#127, occu#128]\n                                                            +- Project [vehicle_type#153, nextstop#178, desi#203, dir#228, oper#253, veh#278, tst#303, tsi#328L, cast((spd#113 * 3.6) as double) AS spd#353, hdg#114, lat#115, long#116, acc#117, dl#118, odo#119, drst#120, oday#121, jrn#122, line#123, start#124, loc#125, stop#126, route#127, occu#128]\n                                                               +- Project [vehicle_type#153, nextstop#178, desi#203, dir#228, oper#253, veh#278, tst#303, cast(tsi#112L as bigint) AS tsi#328L, spd#113, hdg#114, lat#115, long#116, acc#117, dl#118, odo#119, drst#120, oday#121, jrn#122, line#123, start#124, loc#125, stop#126, route#127, occu#128]\n                                                                  +- Project [vehicle_type#153, nextstop#178, desi#203, dir#228, oper#253, veh#278, cast(tst#111 as string) AS tst#303, tsi#112L, spd#113, hdg#114, lat#115, long#116, acc#117, dl#118, odo#119, drst#120, oday#121, jrn#122, line#123, start#124, loc#125, stop#126, route#127, occu#128]\n                                                                     +- Project [vehicle_type#153, nextstop#178, desi#203, dir#228, oper#253, cast(veh#110 as int) AS veh#278, tst#111, tsi#112L, spd#113, hdg#114, lat#115, long#116, acc#117, dl#118, odo#119, drst#120, oday#121, jrn#122, line#123, start#124, loc#125, stop#126, route#127, occu#128]\n                                                                        +- Project [vehicle_type#153, nextstop#178, desi#203, dir#228, cast(oper#109 as int) AS oper#253, veh#110, tst#111, tsi#112L, spd#113, hdg#114, lat#115, long#116, acc#117, dl#118, odo#119, drst#120, oday#121, jrn#122, line#123, start#124, loc#125, stop#126, route#127, occu#128]\n                                                                           +- Project [vehicle_type#153, nextstop#178, desi#203, cast(dir#108 as string) AS dir#228, oper#109, veh#110, tst#111, tsi#112L, spd#113, hdg#114, lat#115, long#116, acc#117, dl#118, odo#119, drst#120, oday#121, jrn#122, line#123, start#124, loc#125, stop#126, route#127, occu#128]\n                                                                              +- Project [vehicle_type#153, nextstop#178, cast(desi#107 as string) AS desi#203, dir#108, oper#109, veh#110, tst#111, tsi#112L, spd#113, hdg#114, lat#115, long#116, acc#117, dl#118, odo#119, drst#120, oday#121, jrn#122, line#123, start#124, loc#125, stop#126, route#127, occu#128]\n                                                                                 +- Project [vehicle_type#153, cast(nextStop#106 as string) AS nextstop#178, desi#107, dir#108, oper#109, veh#110, tst#111, tsi#112L, spd#113, hdg#114, lat#115, long#116, acc#117, dl#118, odo#119, drst#120, oday#121, jrn#122, line#123, start#124, loc#125, stop#126, route#127, occu#128]\n                                                                                    +- Project [cast(vehicle_type#105 as string) AS vehicle_type#153, nextStop#106, desi#107, dir#108, oper#109, veh#110, tst#111, tsi#112L, spd#113, hdg#114, lat#115, long#116, acc#117, dl#118, odo#119, drst#120, oday#121, jrn#122, line#123, start#124, loc#125, stop#126, route#127, occu#128]\n                                                                                       +- Project [coalesce(vehicle_type#33, cast(Unknown as string)) AS vehicle_type#105, coalesce(nextStop#34, cast(Unknown as string)) AS nextStop#106, coalesce(desi#35, cast(Unknown as string)) AS desi#107, coalesce(dir#36, cast(Unknown as string)) AS dir#108, coalesce(oper#37, cast(0 as int)) AS oper#109, coalesce(veh#38, cast(0 as int)) AS veh#110, coalesce(tst#39, cast(Unknown as string)) AS tst#111, coalesce(tsi#40L, cast(0 as bigint)) AS tsi#112L, coalesce(nanvl(spd#41, cast(null as double)), cast(0.0 as double)) AS spd#113, coalesce(hdg#42, cast(0 as int)) AS hdg#114, coalesce(nanvl(lat#43, cast(null as double)), cast(0.0 as double)) AS lat#115, coalesce(nanvl(long#44, cast(null as double)), cast(0.0 as double)) AS long#116, coalesce(nanvl(acc#45, cast(null as double)), cast(0.0 as double)) AS acc#117, coalesce(dl#46, cast(0 as int)) AS dl#118, coalesce(odo#47, cast(0 as int)) AS odo#119, coalesce(drst#48, cast(0 as int)) AS drst#120, coalesce(oday#49, cast(Unknown as string)) AS oday#121, coalesce(jrn#50, cast(0 as int)) AS jrn#122, coalesce(line#51, cast(0 as int)) AS line#123, coalesce(start#52, cast(Unknown as string)) AS start#124, coalesce(loc#53, cast(Unknown as string)) AS loc#125, coalesce(stop#54, cast(0 as int)) AS stop#126, coalesce(route#55, cast(Unknown as string)) AS route#127, coalesce(occu#56, cast(0 as int)) AS occu#128]\n                                                                                          +- Project [data#31.vehicle_type AS vehicle_type#33, data#31.nextStop AS nextStop#34, data#31.VP.desi AS desi#35, data#31.VP.dir AS dir#36, data#31.VP.oper AS oper#37, data#31.VP.veh AS veh#38, data#31.VP.tst AS tst#39, data#31.VP.tsi AS tsi#40L, data#31.VP.spd AS spd#41, data#31.VP.hdg AS hdg#42, data#31.VP.lat AS lat#43, data#31.VP.long AS long#44, data#31.VP.acc AS acc#45, data#31.VP.dl AS dl#46, data#31.VP.odo AS odo#47, data#31.VP.drst AS drst#48, data#31.VP.oday AS oday#49, data#31.VP.jrn AS jrn#50, data#31.VP.line AS line#51, data#31.VP.start AS start#52, data#31.VP.loc AS loc#53, data#31.VP.stop AS stop#54, data#31.VP.route AS route#55, data#31.VP.occu AS occu#56]\n                                                                                             +- Project [from_json(StructField(vehicle_type,StringType,true), StructField(nextStop,StringType,true), StructField(VP,StructType(StructField(desi,StringType,true),StructField(dir,StringType,true),StructField(oper,IntegerType,true),StructField(veh,IntegerType,true),StructField(tst,StringType,true),StructField(tsi,LongType,true),StructField(spd,DoubleType,true),StructField(hdg,IntegerType,true),StructField(lat,DoubleType,true),StructField(long,DoubleType,true),StructField(acc,DoubleType,true),StructField(dl,IntegerType,true),StructField(odo,IntegerType,true),StructField(drst,IntegerType,true),StructField(oday,StringType,true),StructField(jrn,IntegerType,true),StructField(line,IntegerType,true),StructField(start,StringType,true),StructField(loc,StringType,true),StructField(stop,IntegerType,true),StructField(route,StringType,true),StructField(occu,IntegerType,true)),true), value#29, Some(Europe/Paris)) AS data#31]\n                                                                                                +- Project [cast(value#21 as string) AS value#29]\n                                                                                                   +- Project [key#7, cast(value#8 as string) AS value#21, topic#9, partition#10, offset#11L, timestamp#12, timestampType#13]\n                                                                                                      +- StreamingRelationV2 org.apache.spark.sql.kafka010.KafkaSourceProvider@56564a40, kafka, org.apache.spark.sql.kafka010.KafkaSourceProvider$KafkaTable@7d3fce53, [startingOffsets=earliest, kafka.bootstrap.servers=localhost:9092, subscribe=vp, enable.auto.create.topics=false], [key#7, value#8, topic#9, partition#10, offset#11L, timestamp#12, timestampType#13], StreamingRelation DataSource(org.apache.spark.sql.SparkSession@596078e3,kafka,List(),None,List(),None,Map(kafka.bootstrap.servers -> localhost:9092, subscribe -> vp, startingOffsets -> earliest, enable.auto.create.topics -> false),None), kafka, [key#0, value#1, topic#2, partition#3, offset#4L, timestamp#5, timestampType#6]\n"
     ]
    }
   ],
   "source": [
    "df_analysis.writeStream \\\n",
    "    .format(\"org.apache.spark.sql.cassandra\") \\\n",
    "    .option(\"keyspace\", \"test\") \\\n",
    "    .option(\"table\", \"analyses_temps_reel\") \\\n",
    "    .outputMode(\"append\") \\\n",
    "    .option(\"checkpointLocation\", \"checkpoint/check__Line\") \\\n",
    "    .start() \\\n",
    "    .awaitTermination()"
   ]
  },
  {
   "cell_type": "code",
   "execution_count": 26,
   "metadata": {},
   "outputs": [
    {
     "name": "stderr",
     "output_type": "stream",
     "text": [
      "25/01/30 22:10:23 WARN ResolveWriteToStream: spark.sql.adaptive.enabled is not supported in streaming DataFrames/Datasets and will be disabled.\n",
      "25/01/30 22:10:24 WARN AdminClientConfig: These configurations '[key.deserializer, value.deserializer, enable.auto.commit, max.poll.records, auto.offset.reset]' were supplied but are not used yet.\n",
      "ERROR:root:KeyboardInterrupt while sending command.                             \n",
      "Traceback (most recent call last):\n",
      "  File \"/home/ala/.local/lib/python3.10/site-packages/py4j/java_gateway.py\", line 1038, in send_command\n",
      "    response = connection.send_command(command)\n",
      "  File \"/home/ala/.local/lib/python3.10/site-packages/py4j/clientserver.py\", line 511, in send_command\n",
      "    answer = smart_decode(self.stream.readline()[:-1])\n",
      "  File \"/usr/lib/python3.10/socket.py\", line 705, in readinto\n",
      "    return self._sock.recv_into(b)\n",
      "KeyboardInterrupt\n"
     ]
    },
    {
     "ename": "KeyboardInterrupt",
     "evalue": "",
     "output_type": "error",
     "traceback": [
      "\u001b[0;31m---------------------------------------------------------------------------\u001b[0m",
      "\u001b[0;31mKeyboardInterrupt\u001b[0m                         Traceback (most recent call last)",
      "Cell \u001b[0;32mIn[26], line 8\u001b[0m\n\u001b[1;32m      1\u001b[0m \u001b[43mfleet_analysis_long\u001b[49m\u001b[38;5;241;43m.\u001b[39;49m\u001b[43mwriteStream\u001b[49m\u001b[43m \u001b[49m\u001b[43m\\\u001b[49m\n\u001b[1;32m      2\u001b[0m \u001b[43m    \u001b[49m\u001b[38;5;241;43m.\u001b[39;49m\u001b[43mformat\u001b[49m\u001b[43m(\u001b[49m\u001b[38;5;124;43m\"\u001b[39;49m\u001b[38;5;124;43morg.apache.spark.sql.cassandra\u001b[39;49m\u001b[38;5;124;43m\"\u001b[39;49m\u001b[43m)\u001b[49m\u001b[43m \u001b[49m\u001b[43m\\\u001b[49m\n\u001b[1;32m      3\u001b[0m \u001b[43m    \u001b[49m\u001b[38;5;241;43m.\u001b[39;49m\u001b[43moption\u001b[49m\u001b[43m(\u001b[49m\u001b[38;5;124;43m\"\u001b[39;49m\u001b[38;5;124;43mkeyspace\u001b[39;49m\u001b[38;5;124;43m\"\u001b[39;49m\u001b[43m,\u001b[49m\u001b[43m \u001b[49m\u001b[38;5;124;43m\"\u001b[39;49m\u001b[38;5;124;43mtest\u001b[39;49m\u001b[38;5;124;43m\"\u001b[39;49m\u001b[43m)\u001b[49m\u001b[43m \u001b[49m\u001b[43m\\\u001b[49m\n\u001b[1;32m      4\u001b[0m \u001b[43m    \u001b[49m\u001b[38;5;241;43m.\u001b[39;49m\u001b[43moption\u001b[49m\u001b[43m(\u001b[49m\u001b[38;5;124;43m\"\u001b[39;49m\u001b[38;5;124;43mtable\u001b[39;49m\u001b[38;5;124;43m\"\u001b[39;49m\u001b[43m,\u001b[49m\u001b[43m \u001b[49m\u001b[38;5;124;43m\"\u001b[39;49m\u001b[38;5;124;43manalyse_metrics\u001b[39;49m\u001b[38;5;124;43m\"\u001b[39;49m\u001b[43m)\u001b[49m\u001b[43m \u001b[49m\u001b[43m\\\u001b[49m\n\u001b[1;32m      5\u001b[0m \u001b[43m    \u001b[49m\u001b[38;5;241;43m.\u001b[39;49m\u001b[43moutputMode\u001b[49m\u001b[43m(\u001b[49m\u001b[38;5;124;43m\"\u001b[39;49m\u001b[38;5;124;43mappend\u001b[39;49m\u001b[38;5;124;43m\"\u001b[39;49m\u001b[43m)\u001b[49m\u001b[43m \u001b[49m\u001b[43m\\\u001b[49m\n\u001b[1;32m      6\u001b[0m \u001b[43m    \u001b[49m\u001b[38;5;241;43m.\u001b[39;49m\u001b[43moption\u001b[49m\u001b[43m(\u001b[49m\u001b[38;5;124;43m\"\u001b[39;49m\u001b[38;5;124;43mcheckpointLocation\u001b[39;49m\u001b[38;5;124;43m\"\u001b[39;49m\u001b[43m,\u001b[49m\u001b[43m \u001b[49m\u001b[38;5;124;43m\"\u001b[39;49m\u001b[38;5;124;43mcheckpoint/spark-avrge\u001b[39;49m\u001b[38;5;124;43m\"\u001b[39;49m\u001b[43m)\u001b[49m\u001b[43m \u001b[49m\u001b[43m\\\u001b[49m\n\u001b[1;32m      7\u001b[0m \u001b[43m    \u001b[49m\u001b[38;5;241;43m.\u001b[39;49m\u001b[43mstart\u001b[49m\u001b[43m(\u001b[49m\u001b[43m)\u001b[49m\u001b[43m \u001b[49m\u001b[43m\\\u001b[49m\n\u001b[0;32m----> 8\u001b[0m \u001b[43m    \u001b[49m\u001b[38;5;241;43m.\u001b[39;49m\u001b[43mawaitTermination\u001b[49m\u001b[43m(\u001b[49m\u001b[43m)\u001b[49m\n\u001b[1;32m     11\u001b[0m df_analysis\u001b[38;5;241m.\u001b[39mwriteStream \\\n\u001b[1;32m     12\u001b[0m     \u001b[38;5;241m.\u001b[39mformat(\u001b[38;5;124m\"\u001b[39m\u001b[38;5;124morg.apache.spark.sql.cassandra\u001b[39m\u001b[38;5;124m\"\u001b[39m) \\\n\u001b[1;32m     13\u001b[0m     \u001b[38;5;241m.\u001b[39moption(\u001b[38;5;124m\"\u001b[39m\u001b[38;5;124mkeyspace\u001b[39m\u001b[38;5;124m\"\u001b[39m, \u001b[38;5;124m\"\u001b[39m\u001b[38;5;124mtest\u001b[39m\u001b[38;5;124m\"\u001b[39m) \\\n\u001b[0;32m   (...)\u001b[0m\n\u001b[1;32m     17\u001b[0m     \u001b[38;5;241m.\u001b[39mstart() \\\n\u001b[1;32m     18\u001b[0m     \u001b[38;5;241m.\u001b[39mawaitTermination()\n",
      "File \u001b[0;32m~/.local/lib/python3.10/site-packages/pyspark/sql/streaming/query.py:221\u001b[0m, in \u001b[0;36mStreamingQuery.awaitTermination\u001b[0;34m(self, timeout)\u001b[0m\n\u001b[1;32m    219\u001b[0m     \u001b[38;5;28;01mreturn\u001b[39;00m \u001b[38;5;28mself\u001b[39m\u001b[38;5;241m.\u001b[39m_jsq\u001b[38;5;241m.\u001b[39mawaitTermination(\u001b[38;5;28mint\u001b[39m(timeout \u001b[38;5;241m*\u001b[39m \u001b[38;5;241m1000\u001b[39m))\n\u001b[1;32m    220\u001b[0m \u001b[38;5;28;01melse\u001b[39;00m:\n\u001b[0;32m--> 221\u001b[0m     \u001b[38;5;28;01mreturn\u001b[39;00m \u001b[38;5;28;43mself\u001b[39;49m\u001b[38;5;241;43m.\u001b[39;49m\u001b[43m_jsq\u001b[49m\u001b[38;5;241;43m.\u001b[39;49m\u001b[43mawaitTermination\u001b[49m\u001b[43m(\u001b[49m\u001b[43m)\u001b[49m\n",
      "File \u001b[0;32m~/.local/lib/python3.10/site-packages/py4j/java_gateway.py:1321\u001b[0m, in \u001b[0;36mJavaMember.__call__\u001b[0;34m(self, *args)\u001b[0m\n\u001b[1;32m   1314\u001b[0m args_command, temp_args \u001b[38;5;241m=\u001b[39m \u001b[38;5;28mself\u001b[39m\u001b[38;5;241m.\u001b[39m_build_args(\u001b[38;5;241m*\u001b[39margs)\n\u001b[1;32m   1316\u001b[0m command \u001b[38;5;241m=\u001b[39m proto\u001b[38;5;241m.\u001b[39mCALL_COMMAND_NAME \u001b[38;5;241m+\u001b[39m\\\n\u001b[1;32m   1317\u001b[0m     \u001b[38;5;28mself\u001b[39m\u001b[38;5;241m.\u001b[39mcommand_header \u001b[38;5;241m+\u001b[39m\\\n\u001b[1;32m   1318\u001b[0m     args_command \u001b[38;5;241m+\u001b[39m\\\n\u001b[1;32m   1319\u001b[0m     proto\u001b[38;5;241m.\u001b[39mEND_COMMAND_PART\n\u001b[0;32m-> 1321\u001b[0m answer \u001b[38;5;241m=\u001b[39m \u001b[38;5;28;43mself\u001b[39;49m\u001b[38;5;241;43m.\u001b[39;49m\u001b[43mgateway_client\u001b[49m\u001b[38;5;241;43m.\u001b[39;49m\u001b[43msend_command\u001b[49m\u001b[43m(\u001b[49m\u001b[43mcommand\u001b[49m\u001b[43m)\u001b[49m\n\u001b[1;32m   1322\u001b[0m return_value \u001b[38;5;241m=\u001b[39m get_return_value(\n\u001b[1;32m   1323\u001b[0m     answer, \u001b[38;5;28mself\u001b[39m\u001b[38;5;241m.\u001b[39mgateway_client, \u001b[38;5;28mself\u001b[39m\u001b[38;5;241m.\u001b[39mtarget_id, \u001b[38;5;28mself\u001b[39m\u001b[38;5;241m.\u001b[39mname)\n\u001b[1;32m   1325\u001b[0m \u001b[38;5;28;01mfor\u001b[39;00m temp_arg \u001b[38;5;129;01min\u001b[39;00m temp_args:\n",
      "File \u001b[0;32m~/.local/lib/python3.10/site-packages/py4j/java_gateway.py:1038\u001b[0m, in \u001b[0;36mGatewayClient.send_command\u001b[0;34m(self, command, retry, binary)\u001b[0m\n\u001b[1;32m   1036\u001b[0m connection \u001b[38;5;241m=\u001b[39m \u001b[38;5;28mself\u001b[39m\u001b[38;5;241m.\u001b[39m_get_connection()\n\u001b[1;32m   1037\u001b[0m \u001b[38;5;28;01mtry\u001b[39;00m:\n\u001b[0;32m-> 1038\u001b[0m     response \u001b[38;5;241m=\u001b[39m \u001b[43mconnection\u001b[49m\u001b[38;5;241;43m.\u001b[39;49m\u001b[43msend_command\u001b[49m\u001b[43m(\u001b[49m\u001b[43mcommand\u001b[49m\u001b[43m)\u001b[49m\n\u001b[1;32m   1039\u001b[0m     \u001b[38;5;28;01mif\u001b[39;00m binary:\n\u001b[1;32m   1040\u001b[0m         \u001b[38;5;28;01mreturn\u001b[39;00m response, \u001b[38;5;28mself\u001b[39m\u001b[38;5;241m.\u001b[39m_create_connection_guard(connection)\n",
      "File \u001b[0;32m~/.local/lib/python3.10/site-packages/py4j/clientserver.py:511\u001b[0m, in \u001b[0;36mClientServerConnection.send_command\u001b[0;34m(self, command)\u001b[0m\n\u001b[1;32m    509\u001b[0m \u001b[38;5;28;01mtry\u001b[39;00m:\n\u001b[1;32m    510\u001b[0m     \u001b[38;5;28;01mwhile\u001b[39;00m \u001b[38;5;28;01mTrue\u001b[39;00m:\n\u001b[0;32m--> 511\u001b[0m         answer \u001b[38;5;241m=\u001b[39m smart_decode(\u001b[38;5;28;43mself\u001b[39;49m\u001b[38;5;241;43m.\u001b[39;49m\u001b[43mstream\u001b[49m\u001b[38;5;241;43m.\u001b[39;49m\u001b[43mreadline\u001b[49m\u001b[43m(\u001b[49m\u001b[43m)\u001b[49m[:\u001b[38;5;241m-\u001b[39m\u001b[38;5;241m1\u001b[39m])\n\u001b[1;32m    512\u001b[0m         logger\u001b[38;5;241m.\u001b[39mdebug(\u001b[38;5;124m\"\u001b[39m\u001b[38;5;124mAnswer received: \u001b[39m\u001b[38;5;132;01m{0}\u001b[39;00m\u001b[38;5;124m\"\u001b[39m\u001b[38;5;241m.\u001b[39mformat(answer))\n\u001b[1;32m    513\u001b[0m         \u001b[38;5;66;03m# Happens when a the other end is dead. There might be an empty\u001b[39;00m\n\u001b[1;32m    514\u001b[0m         \u001b[38;5;66;03m# answer before the socket raises an error.\u001b[39;00m\n",
      "File \u001b[0;32m/usr/lib/python3.10/socket.py:705\u001b[0m, in \u001b[0;36mSocketIO.readinto\u001b[0;34m(self, b)\u001b[0m\n\u001b[1;32m    703\u001b[0m \u001b[38;5;28;01mwhile\u001b[39;00m \u001b[38;5;28;01mTrue\u001b[39;00m:\n\u001b[1;32m    704\u001b[0m     \u001b[38;5;28;01mtry\u001b[39;00m:\n\u001b[0;32m--> 705\u001b[0m         \u001b[38;5;28;01mreturn\u001b[39;00m \u001b[38;5;28;43mself\u001b[39;49m\u001b[38;5;241;43m.\u001b[39;49m\u001b[43m_sock\u001b[49m\u001b[38;5;241;43m.\u001b[39;49m\u001b[43mrecv_into\u001b[49m\u001b[43m(\u001b[49m\u001b[43mb\u001b[49m\u001b[43m)\u001b[49m\n\u001b[1;32m    706\u001b[0m     \u001b[38;5;28;01mexcept\u001b[39;00m timeout:\n\u001b[1;32m    707\u001b[0m         \u001b[38;5;28mself\u001b[39m\u001b[38;5;241m.\u001b[39m_timeout_occurred \u001b[38;5;241m=\u001b[39m \u001b[38;5;28;01mTrue\u001b[39;00m\n",
      "\u001b[0;31mKeyboardInterrupt\u001b[0m: "
     ]
    }
   ],
   "source": [
    "fleet_analysis_long.writeStream \\\n",
    "    .format(\"org.apache.spark.sql.cassandra\") \\\n",
    "    .option(\"keyspace\", \"test\") \\\n",
    "    .option(\"table\", \"analyse_metrics\") \\\n",
    "    .outputMode(\"append\") \\\n",
    "    .option(\"checkpointLocation\", \"checkpoint/spark-avrge\") \\\n",
    "    .start() \\\n",
    "    .awaitTermination()\n",
    "\n",
    "\n",
    "df_analysis.writeStream \\\n",
    "    .format(\"org.apache.spark.sql.cassandra\") \\\n",
    "    .option(\"keyspace\", \"test\") \\\n",
    "    .option(\"table\", \"analyses_temps_reel\") \\\n",
    "    .outputMode(\"append\") \\\n",
    "    .option(\"checkpointLocation\", \"checkpoint/check__Line\") \\\n",
    "    .start() \\\n",
    "    .awaitTermination()"
   ]
  },
  {
   "cell_type": "code",
   "execution_count": null,
   "metadata": {},
   "outputs": [],
   "source": []
  }
 ],
 "metadata": {
  "kernelspec": {
   "display_name": "Python 3",
   "language": "python",
   "name": "python3"
  },
  "language_info": {
   "codemirror_mode": {
    "name": "ipython",
    "version": 3
   },
   "file_extension": ".py",
   "mimetype": "text/x-python",
   "name": "python",
   "nbconvert_exporter": "python",
   "pygments_lexer": "ipython3",
   "version": "3.10.12"
  }
 },
 "nbformat": 4,
 "nbformat_minor": 2
}
